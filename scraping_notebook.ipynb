{
 "cells": [
  {
   "cell_type": "code",
   "execution_count": 8,
   "id": "2735bc92",
   "metadata": {},
   "outputs": [],
   "source": [
    "import time\n",
    "import re\n",
    "import requests \n",
    "import numpy as np\n",
    "import pandas as pd\n",
    "\n",
    "from bs4 import BeautifulSoup as bs\n",
    "from selenium import webdriver\n",
    "from webdriver_manager.chrome import ChromeDriverManager\n",
    "from selenium.webdriver.chrome.options import Options\n",
    "from selenium.webdriver.common.by import By\n",
    "from selenium.webdriver.common.keys import Keys\n",
    "from selenium.common.exceptions import ElementNotInteractableException "
   ]
  },
  {
   "cell_type": "markdown",
   "id": "081cdf87",
   "metadata": {},
   "source": [
    "## Webscraping notebook "
   ]
  },
  {
   "cell_type": "markdown",
   "id": "381de278",
   "metadata": {},
   "source": [
    "All the data will be scared from 'https://plates.ae/plate.php'."
   ]
  },
  {
   "cell_type": "markdown",
   "id": "1b13127f",
   "metadata": {},
   "source": [
    "### Load webpage and pull html elements"
   ]
  },
  {
   "cell_type": "code",
   "execution_count": 2,
   "id": "01193418",
   "metadata": {},
   "outputs": [
    {
     "name": "stderr",
     "output_type": "stream",
     "text": [
      "\n",
      "\n",
      "====== WebDriver manager ======\n",
      "Current google-chrome version is 96.0.4664\n",
      "Get LATEST driver version for 96.0.4664\n",
      "Driver [C:\\Users\\Fardin\\.wdm\\drivers\\chromedriver\\win32\\96.0.4664.45\\chromedriver.exe] found in cache\n"
     ]
    }
   ],
   "source": [
    "# Webdriver settings\n",
    "options = Options()\n",
    "driver_manager = ChromeDriverManager().install()\n",
    "driver = webdriver.Chrome(driver_manager,\n",
    "                          options=options)\n",
    "\n",
    "# Open website\n",
    "driver.implicitly_wait(5)\n",
    "driver.get('https://plates.ae/plate.php')\n",
    "\n",
    "# Infinite scroll down to the bottom of the website\n",
    "SCROLL_PAUSE_TIME = 1\n",
    "height_script = \"return document.body.scrollHeight\"\n",
    "last_height = driver.execute_script(height_script)\n",
    "while True:\n",
    "    try:\n",
    "        script = 'window.scrollTo(0, document.body.scrollHeight);'\n",
    "        element_xpath = \"//button[contains(text(), 'مشاهدة المزيد من اللوحات')]\"\n",
    "\n",
    "        # Scroll to the bottom of the page\n",
    "        driver.execute_script(script)\n",
    "\n",
    "        # Click the button at the end of the page\n",
    "        driver.find_elements_by_xpath(element_xpath)[0].click()\n",
    "        time.sleep(SCROLL_PAUSE_TIME)\n",
    "\n",
    "        # Exit clause if end of page is reached\n",
    "        new_height = driver.execute_script(height_script)\n",
    "        if new_height == last_height:\n",
    "            break\n",
    "        last_height = new_height\n",
    "    \n",
    "    # Break out if button doesn't work\n",
    "    # It should so this is in case of error\n",
    "    except ElementNotInteractableException:\n",
    "        break\n",
    "\n",
    "\n",
    "# Find the html blocks we need for the number plates\n",
    "border_selector = '.bntborder.padding-single'\n",
    "plate_borders = driver.find_elements_by_css_selector(border_selector)\n",
    "border_htmls = [elem.get_attribute(\"innerHTML\") for elem in plate_borders]\n",
    "\n",
    "#Close driver for good!\n",
    "driver.quit()"
   ]
  },
  {
   "cell_type": "markdown",
   "id": "28d37e65",
   "metadata": {},
   "source": [
    "### Figure out how to parse the elements and pull out data"
   ]
  },
  {
   "cell_type": "code",
   "execution_count": 18,
   "id": "77f48481",
   "metadata": {},
   "outputs": [
    {
     "data": {
      "text/plain": [
       "'\\n          <div class=\"number_plate \">\\n          \\n          <div class=\"fdg text-center even\">\\n          \\n            <div class=\"duabi_new bigtxt \">\\n             \\n\\t\\t\\t <div class=\"plate_code  one_sh sharjah_font1 sh_one web_shcode_on\">3</div>\\n              <div class=\"plate_img \"> <img src=\"images/uae_sharjah.svg\"> </div>\\n              <div class=\"plate_nub one_sh sharjah_font1 web_shnum_on\">344</div>\\n\\t\\t\\n              <div class=\"clearfix\"></div>\\n            </div>\\n            \\n            </div>\\n          \\n\\t\\t\\t<div class=\"cftg text-center even\">\\n\\t\\t\\t\\t\\t<div class=\"prices-single pdlft0\"> \\n\\t\\t\\t\\t\\t\\t<a href=\"tel:0509080500\"><div class=\"robot  text-center txt17 textleft\">0509080500</div> </a>\\n\\t\\t\\t\\t\\t\\t<span class=\"txt24bld pricered text-center\">\\n\\t\\t\\t\\t\\t\\t\\t<i>229,000 AED</i>\\n\\t\\t\\t\\t\\t\\t</span>\\n\\t\\t\\t\\t\\t\\t\\n\\t\\t\\t\\t\\t</div>\\n\\t\\t     </div>\\n\\t\\t\\t \\n          </div>\\n          \\n         '"
      ]
     },
     "execution_count": 18,
     "metadata": {},
     "output_type": "execute_result"
    }
   ],
   "source": [
    "a = border_htmls[0]\n",
    "a"
   ]
  },
  {
   "cell_type": "code",
   "execution_count": 19,
   "id": "81ab64e8",
   "metadata": {},
   "outputs": [
    {
     "data": {
      "text/plain": [
       "\n",
       "<div class=\"number_plate\">\n",
       "<div class=\"fdg text-center even\">\n",
       "<div class=\"duabi_new bigtxt\">\n",
       "<div class=\"plate_code one_sh sharjah_font1 sh_one web_shcode_on\">3</div>\n",
       "<div class=\"plate_img\"> <img src=\"images/uae_sharjah.svg\"/> </div>\n",
       "<div class=\"plate_nub one_sh sharjah_font1 web_shnum_on\">344</div>\n",
       "<div class=\"clearfix\"></div>\n",
       "</div>\n",
       "</div>\n",
       "<div class=\"cftg text-center even\">\n",
       "<div class=\"prices-single pdlft0\">\n",
       "<a href=\"tel:0509080500\"><div class=\"robot text-center txt17 textleft\">0509080500</div> </a>\n",
       "<span class=\"txt24bld pricered text-center\">\n",
       "<i>229,000 AED</i>\n",
       "</span>\n",
       "</div>\n",
       "</div>\n",
       "</div>"
      ]
     },
     "execution_count": 19,
     "metadata": {},
     "output_type": "execute_result"
    }
   ],
   "source": [
    "soup = bs(a, 'html.parser')\n",
    "soup"
   ]
  },
  {
   "cell_type": "code",
   "execution_count": 55,
   "id": "4e9186a3",
   "metadata": {},
   "outputs": [
    {
     "data": {
      "text/plain": [
       "<div class=\"plate_code one_sh sharjah_font1 sh_one web_shcode_on\">3</div>"
      ]
     },
     "execution_count": 55,
     "metadata": {},
     "output_type": "execute_result"
    }
   ],
   "source": [
    "code_regex = re.compile('.*plate_code.*')\n",
    "soup.find('div', {\"class\" : code_regex})"
   ]
  },
  {
   "cell_type": "code",
   "execution_count": 30,
   "id": "bb71d5c0",
   "metadata": {},
   "outputs": [
    {
     "data": {
      "text/plain": [
       "<div class=\"plate_nub one_sh sharjah_font1 web_shnum_on\">344</div>"
      ]
     },
     "execution_count": 30,
     "metadata": {},
     "output_type": "execute_result"
    }
   ],
   "source": [
    "number_regex = re.compile('.*plate_nub.*')\n",
    "soup.find('div', {\"class\" : number_regex})"
   ]
  },
  {
   "cell_type": "code",
   "execution_count": 56,
   "id": "4171bac9",
   "metadata": {},
   "outputs": [
    {
     "data": {
      "text/plain": [
       "'\\n229,000 AED\\n'"
      ]
     },
     "execution_count": 56,
     "metadata": {},
     "output_type": "execute_result"
    }
   ],
   "source": [
    "soup.find('span', {\"class\" : 'txt24bld pricered text-center'})"
   ]
  },
  {
   "cell_type": "code",
   "execution_count": 48,
   "id": "d98a115f",
   "metadata": {},
   "outputs": [
    {
     "data": {
      "text/plain": [
       "'<div class=\"plate_img\"> <img src=\"images/uae_sharjah.svg\"/> </div>'"
      ]
     },
     "execution_count": 48,
     "metadata": {},
     "output_type": "execute_result"
    }
   ],
   "source": [
    "img_str = str(soup.find('div', {\"class\" : 'plate_img'}))\n",
    "img_str"
   ]
  },
  {
   "cell_type": "code",
   "execution_count": 53,
   "id": "156c1f60",
   "metadata": {},
   "outputs": [
    {
     "data": {
      "text/plain": [
       "['uae_sharjah']"
      ]
     },
     "execution_count": 53,
     "metadata": {},
     "output_type": "execute_result"
    }
   ],
   "source": [
    "img_regex = re.compile(\"images/(.*?)\\.svg\")\n",
    "re.findall(img_regex,img_str)"
   ]
  },
  {
   "cell_type": "markdown",
   "id": "19af2073",
   "metadata": {},
   "source": [
    "### Pull out data from the html elements"
   ]
  },
  {
   "cell_type": "code",
   "execution_count": 58,
   "id": "390040f9",
   "metadata": {},
   "outputs": [],
   "source": [
    "code_list = []\n",
    "number_list = []\n",
    "price_list = []\n",
    "city_list = []\n",
    "\n",
    "for html_element in border_htmls:\n",
    "    soup = bs(html_element, 'html.parser')\n",
    "    \n",
    "    # Find the code\n",
    "    code_regex = re.compile('.*plate_code.*')\n",
    "    code = soup.find('div', {\"class\" : code_regex}).text\n",
    "    code_list.append(code)\n",
    "    \n",
    "    # Find number\n",
    "    number_regex = re.compile('.*plate_nub.*')\n",
    "    number = soup.find('div', {\"class\" : number_regex}).text\n",
    "    number_list.append(number)\n",
    "    \n",
    "    # Price\n",
    "    price = soup.find('span', {\"class\" : 'txt24bld pricered text-center'}).text\n",
    "    price_list.append(price)\n",
    "    \n",
    "    #city \n",
    "    img_str = str(soup.find('div', {\"class\" : 'plate_img'}))\n",
    "    img_regex = re.compile(\"images/(.*?)\\.svg\")\n",
    "    city = re.findall(img_regex,img_str)[0]\n",
    "    city_list.append(city)"
   ]
  },
  {
   "cell_type": "markdown",
   "id": "8f25f3ac",
   "metadata": {},
   "source": [
    "### Convert"
   ]
  }
 ],
 "metadata": {
  "kernelspec": {
   "display_name": "Python 3 (ipykernel)",
   "language": "python",
   "name": "python3"
  },
  "language_info": {
   "codemirror_mode": {
    "name": "ipython",
    "version": 3
   },
   "file_extension": ".py",
   "mimetype": "text/x-python",
   "name": "python",
   "nbconvert_exporter": "python",
   "pygments_lexer": "ipython3",
   "version": "3.8.12"
  }
 },
 "nbformat": 4,
 "nbformat_minor": 5
}
