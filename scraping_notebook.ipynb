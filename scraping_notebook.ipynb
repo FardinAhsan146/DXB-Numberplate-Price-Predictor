{
 "cells": [
  {
   "cell_type": "code",
   "execution_count": 1,
   "id": "79b1f72c",
   "metadata": {},
   "outputs": [],
   "source": [
    "import time\n",
    "import re\n",
    "import requests \n",
    "import numpy as np\n",
    "import pandas as pd\n",
    "import concurrent.futures\n",
    "\n",
    "from bs4 import BeautifulSoup as bs\n",
    "\n",
    "from selenium import webdriver\n",
    "from selenium.webdriver.common.by import By\n",
    "from selenium.webdriver.common.keys import Keys\n",
    "from selenium.webdriver.chrome.options import Options\n",
    "from webdriver_manager.chrome import ChromeDriverManager\n",
    "from selenium.common.exceptions import ElementNotInteractableException "
   ]
  },
  {
   "cell_type": "markdown",
   "id": "f9c2b23d",
   "metadata": {},
   "source": [
    "## Webscraping notebook "
   ]
  },
  {
   "cell_type": "markdown",
   "id": "ded564b3",
   "metadata": {},
   "source": [
    "All the data will be scared from https://plates.ae/plate.php ."
   ]
  },
  {
   "cell_type": "markdown",
   "id": "19b24e71",
   "metadata": {},
   "source": [
    "### Load webpage and pull html elements"
   ]
  },
  {
   "cell_type": "code",
   "execution_count": 2,
   "id": "1c9a7685",
   "metadata": {},
   "outputs": [
    {
     "name": "stderr",
     "output_type": "stream",
     "text": [
      "\n",
      "\n",
      "====== WebDriver manager ======\n",
      "Current google-chrome version is 96.0.4664\n",
      "Get LATEST driver version for 96.0.4664\n",
      "Driver [C:\\Users\\Fardin\\.wdm\\drivers\\chromedriver\\win32\\96.0.4664.45\\chromedriver.exe] found in cache\n"
     ]
    }
   ],
   "source": [
    "# Webdriver settings\n",
    "options = Options()\n",
    "driver_manager = ChromeDriverManager().install()\n",
    "driver = webdriver.Chrome(driver_manager,\n",
    "                          options=options)\n",
    "\n",
    "# Open website\n",
    "driver.implicitly_wait(5)\n",
    "driver.get('https://plates.ae/plate.php')\n",
    "\n",
    "# Infinite scroll down to the bottom of the website\n",
    "SCROLL_PAUSE_TIME = 1\n",
    "height_script = \"return document.body.scrollHeight\"\n",
    "last_height = driver.execute_script(height_script)\n",
    "while True:\n",
    "    try:\n",
    "        script = 'window.scrollTo(0, document.body.scrollHeight);'\n",
    "        element_xpath = \"//button[contains(text(), 'مشاهدة المزيد من اللوحات')]\"\n",
    "\n",
    "        # Scroll to the bottom of the page\n",
    "        driver.execute_script(script)\n",
    "\n",
    "        # Click the button at the end of the page\n",
    "        driver.find_elements_by_xpath(element_xpath)[0].click()\n",
    "        time.sleep(SCROLL_PAUSE_TIME)\n",
    "\n",
    "        # Exit clause if end of page is reached\n",
    "        new_height = driver.execute_script(height_script)\n",
    "        if new_height == last_height:\n",
    "            break\n",
    "        last_height = new_height\n",
    "    \n",
    "    # Break out if button doesn't work\n",
    "    # It should so this is in case of error\n",
    "    except ElementNotInteractableException:\n",
    "        break\n",
    "\n",
    "\n",
    "# Find the html blocks we need for the number plates\n",
    "border_selector = '.bntborder.padding-single'\n",
    "plate_borders = driver.find_elements_by_css_selector(border_selector)\n",
    "\n",
    "\n",
    "\n",
    "# Create a threadpool executor to speed up the i/o requests\n",
    "with concurrent.futures.ThreadPoolExecutor() as executor:\n",
    "    futures = []       # List to hold the future objects\n",
    "    for elem in plate_borders:\n",
    "        futures.append(\n",
    "            executor.submit(\n",
    "                lambda elem: elem.get_attribute(\"innerHTML\"),\n",
    "                elem = elem\n",
    "            )\n",
    "        )\n",
    "    \n",
    "    # Html elements of the border we chose by css selector\n",
    "    border_htmls =\\\n",
    "    [future.result() for future in concurrent.futures.as_completed(futures)]\n",
    "\n",
    "#Close driver for good!\n",
    "driver.quit()"
   ]
  },
  {
   "cell_type": "markdown",
   "id": "7cb718dc",
   "metadata": {},
   "source": [
    "### Figure out how to parse the elements and pull out data"
   ]
  },
  {
   "cell_type": "code",
   "execution_count": 3,
   "id": "c519223d",
   "metadata": {},
   "outputs": [
    {
     "data": {
      "text/plain": [
       "'\\n          <div class=\"number_plate \">\\n          \\n          <div class=\"fdg text-center even\">\\n          \\n            <div class=\"duabi_new bigtxt \">\\n             \\n\\t\\t\\t <div class=\"plate_code  one_sh sharjah_font1 sh_one web_shcode_on\">3</div>\\n              <div class=\"plate_img \"> <img src=\"images/uae_sharjah.svg\"> </div>\\n              <div class=\"plate_nub one_sh sharjah_font1 web_shnum_on\">344</div>\\n\\t\\t\\n              <div class=\"clearfix\"></div>\\n            </div>\\n            \\n            </div>\\n          \\n\\t\\t\\t<div class=\"cftg text-center even\">\\n\\t\\t\\t\\t\\t<div class=\"prices-single pdlft0\"> \\n\\t\\t\\t\\t\\t\\t<a href=\"tel:0509080500\"><div class=\"robot  text-center txt17 textleft\">0509080500</div> </a>\\n\\t\\t\\t\\t\\t\\t<span class=\"txt24bld pricered text-center\">\\n\\t\\t\\t\\t\\t\\t\\t<i>229,000 AED</i>\\n\\t\\t\\t\\t\\t\\t</span>\\n\\t\\t\\t\\t\\t\\t\\n\\t\\t\\t\\t\\t</div>\\n\\t\\t     </div>\\n\\t\\t\\t \\n          </div>\\n          \\n         '"
      ]
     },
     "execution_count": 3,
     "metadata": {},
     "output_type": "execute_result"
    }
   ],
   "source": [
    "a = border_htmls[0]\n",
    "a"
   ]
  },
  {
   "cell_type": "code",
   "execution_count": 4,
   "id": "6e29f785",
   "metadata": {},
   "outputs": [
    {
     "data": {
      "text/plain": [
       "\n",
       "<div class=\"number_plate\">\n",
       "<div class=\"fdg text-center even\">\n",
       "<div class=\"duabi_new bigtxt\">\n",
       "<div class=\"plate_code one_sh sharjah_font1 sh_one web_shcode_on\">3</div>\n",
       "<div class=\"plate_img\"> <img src=\"images/uae_sharjah.svg\"/> </div>\n",
       "<div class=\"plate_nub one_sh sharjah_font1 web_shnum_on\">344</div>\n",
       "<div class=\"clearfix\"></div>\n",
       "</div>\n",
       "</div>\n",
       "<div class=\"cftg text-center even\">\n",
       "<div class=\"prices-single pdlft0\">\n",
       "<a href=\"tel:0509080500\"><div class=\"robot text-center txt17 textleft\">0509080500</div> </a>\n",
       "<span class=\"txt24bld pricered text-center\">\n",
       "<i>229,000 AED</i>\n",
       "</span>\n",
       "</div>\n",
       "</div>\n",
       "</div>"
      ]
     },
     "execution_count": 4,
     "metadata": {},
     "output_type": "execute_result"
    }
   ],
   "source": [
    "soup = bs(a, 'html.parser')\n",
    "soup"
   ]
  },
  {
   "cell_type": "code",
   "execution_count": 5,
   "id": "68ec306d",
   "metadata": {},
   "outputs": [
    {
     "data": {
      "text/plain": [
       "<div class=\"plate_code one_sh sharjah_font1 sh_one web_shcode_on\">3</div>"
      ]
     },
     "execution_count": 5,
     "metadata": {},
     "output_type": "execute_result"
    }
   ],
   "source": [
    "code_regex = re.compile('.*plate_code.*')\n",
    "soup.find('div', {\"class\" : code_regex})"
   ]
  },
  {
   "cell_type": "code",
   "execution_count": 6,
   "id": "b188df3d",
   "metadata": {},
   "outputs": [
    {
     "data": {
      "text/plain": [
       "<div class=\"plate_nub one_sh sharjah_font1 web_shnum_on\">344</div>"
      ]
     },
     "execution_count": 6,
     "metadata": {},
     "output_type": "execute_result"
    }
   ],
   "source": [
    "number_regex = re.compile('.*plate_nub.*')\n",
    "soup.find('div', {\"class\" : number_regex})"
   ]
  },
  {
   "cell_type": "code",
   "execution_count": 7,
   "id": "0ac3bbda",
   "metadata": {},
   "outputs": [
    {
     "data": {
      "text/plain": [
       "<span class=\"txt24bld pricered text-center\">\n",
       "<i>229,000 AED</i>\n",
       "</span>"
      ]
     },
     "execution_count": 7,
     "metadata": {},
     "output_type": "execute_result"
    }
   ],
   "source": [
    "soup.find('span', {\"class\" : 'txt24bld pricered text-center'})"
   ]
  },
  {
   "cell_type": "code",
   "execution_count": 8,
   "id": "75ad3e85",
   "metadata": {},
   "outputs": [
    {
     "data": {
      "text/plain": [
       "'<div class=\"plate_img\"> <img src=\"images/uae_sharjah.svg\"/> </div>'"
      ]
     },
     "execution_count": 8,
     "metadata": {},
     "output_type": "execute_result"
    }
   ],
   "source": [
    "img_str = str(soup.find('div', {\"class\" : 'plate_img'}))\n",
    "img_str"
   ]
  },
  {
   "cell_type": "code",
   "execution_count": 9,
   "id": "258382a7",
   "metadata": {},
   "outputs": [
    {
     "data": {
      "text/plain": [
       "['uae_sharjah']"
      ]
     },
     "execution_count": 9,
     "metadata": {},
     "output_type": "execute_result"
    }
   ],
   "source": [
    "img_regex = re.compile(\"images/(.*?)\\.svg\")\n",
    "re.findall(img_regex,img_str)"
   ]
  },
  {
   "cell_type": "markdown",
   "id": "12bfa798",
   "metadata": {},
   "source": [
    "### Pull out data from the html elements"
   ]
  },
  {
   "cell_type": "code",
   "execution_count": 10,
   "id": "57f44340",
   "metadata": {},
   "outputs": [],
   "source": [
    "code_list = []\n",
    "number_list = []\n",
    "price_list = []\n",
    "city_list = []\n",
    "\n",
    "for html_element in border_htmls:\n",
    "    soup = bs(html_element, 'html.parser')\n",
    "    \n",
    "    # Find the code\n",
    "    code_regex = re.compile('.*plate_code.*')\n",
    "    code = soup.find('div', {\"class\" : code_regex}).text\n",
    "    code_list.append(code)\n",
    "    \n",
    "    # Find number\n",
    "    number_regex = re.compile('.*plate_nub.*')\n",
    "    number = soup.find('div', {\"class\" : number_regex}).text\n",
    "    number_list.append(number)\n",
    "    \n",
    "    # Price\n",
    "    price = soup.find('span', {\"class\" : 'txt24bld pricered text-center'}).text\n",
    "    price_list.append(price)\n",
    "    \n",
    "    #city \n",
    "    img_str = str(soup.find('div', {\"class\" : 'plate_img'}))\n",
    "    img_regex = re.compile(\"images/(.*?)\\.svg\")\n",
    "    city = re.findall(img_regex,img_str)[0]\n",
    "    city_list.append(city)"
   ]
  },
  {
   "cell_type": "markdown",
   "id": "b3d823f4",
   "metadata": {},
   "source": [
    "### Create the dataset "
   ]
  },
  {
   "cell_type": "code",
   "execution_count": 11,
   "id": "242ac76d",
   "metadata": {},
   "outputs": [
    {
     "data": {
      "text/html": [
       "<div>\n",
       "<style scoped>\n",
       "    .dataframe tbody tr th:only-of-type {\n",
       "        vertical-align: middle;\n",
       "    }\n",
       "\n",
       "    .dataframe tbody tr th {\n",
       "        vertical-align: top;\n",
       "    }\n",
       "\n",
       "    .dataframe thead th {\n",
       "        text-align: right;\n",
       "    }\n",
       "</style>\n",
       "<table border=\"1\" class=\"dataframe\">\n",
       "  <thead>\n",
       "    <tr style=\"text-align: right;\">\n",
       "      <th></th>\n",
       "      <th>code</th>\n",
       "      <th>number</th>\n",
       "      <th>price</th>\n",
       "      <th>city</th>\n",
       "    </tr>\n",
       "  </thead>\n",
       "  <tbody>\n",
       "    <tr>\n",
       "      <th>0</th>\n",
       "      <td>3</td>\n",
       "      <td>344</td>\n",
       "      <td>229,000 AED</td>\n",
       "      <td>uae_sharjah</td>\n",
       "    </tr>\n",
       "    <tr>\n",
       "      <th>1</th>\n",
       "      <td>U</td>\n",
       "      <td>1313</td>\n",
       "      <td>109,000 AED</td>\n",
       "      <td>duabi_new</td>\n",
       "    </tr>\n",
       "    <tr>\n",
       "      <th>2</th>\n",
       "      <td>H</td>\n",
       "      <td>3222</td>\n",
       "      <td>72,000 AED</td>\n",
       "      <td>duabi_new</td>\n",
       "    </tr>\n",
       "    <tr>\n",
       "      <th>3</th>\n",
       "      <td>3</td>\n",
       "      <td>4441</td>\n",
       "      <td>38,000 AED</td>\n",
       "      <td>uae_sharjah</td>\n",
       "    </tr>\n",
       "    <tr>\n",
       "      <th>4</th>\n",
       "      <td>3</td>\n",
       "      <td>7776</td>\n",
       "      <td>38,000 AED</td>\n",
       "      <td>uae_sharjah</td>\n",
       "    </tr>\n",
       "    <tr>\n",
       "      <th>...</th>\n",
       "      <td>...</td>\n",
       "      <td>...</td>\n",
       "      <td>...</td>\n",
       "      <td>...</td>\n",
       "    </tr>\n",
       "    <tr>\n",
       "      <th>595</th>\n",
       "      <td>P</td>\n",
       "      <td>16122</td>\n",
       "      <td>AED2,600</td>\n",
       "      <td>duabi_new</td>\n",
       "    </tr>\n",
       "    <tr>\n",
       "      <th>596</th>\n",
       "      <td>P</td>\n",
       "      <td>16133</td>\n",
       "      <td>AED2,600</td>\n",
       "      <td>duabi_new</td>\n",
       "    </tr>\n",
       "    <tr>\n",
       "      <th>597</th>\n",
       "      <td>P</td>\n",
       "      <td>16144</td>\n",
       "      <td>AED2,600</td>\n",
       "      <td>duabi_new</td>\n",
       "    </tr>\n",
       "    <tr>\n",
       "      <th>598</th>\n",
       "      <td>P</td>\n",
       "      <td>17133</td>\n",
       "      <td>AED2,600</td>\n",
       "      <td>duabi_new</td>\n",
       "    </tr>\n",
       "    <tr>\n",
       "      <th>599</th>\n",
       "      <td>P</td>\n",
       "      <td>17144</td>\n",
       "      <td>AED2,600</td>\n",
       "      <td>duabi_new</td>\n",
       "    </tr>\n",
       "  </tbody>\n",
       "</table>\n",
       "<p>600 rows × 4 columns</p>\n",
       "</div>"
      ],
      "text/plain": [
       "    code number        price         city\n",
       "0      3    344  229,000 AED  uae_sharjah\n",
       "1      U   1313  109,000 AED    duabi_new\n",
       "2      H   3222   72,000 AED    duabi_new\n",
       "3      3   4441   38,000 AED  uae_sharjah\n",
       "4      3   7776   38,000 AED  uae_sharjah\n",
       "..   ...    ...          ...          ...\n",
       "595    P  16122     AED2,600    duabi_new\n",
       "596    P  16133     AED2,600    duabi_new\n",
       "597    P  16144     AED2,600    duabi_new\n",
       "598    P  17133     AED2,600    duabi_new\n",
       "599    P  17144     AED2,600    duabi_new\n",
       "\n",
       "[600 rows x 4 columns]"
      ]
     },
     "execution_count": 11,
     "metadata": {},
     "output_type": "execute_result"
    }
   ],
   "source": [
    "df = pd.DataFrame({\n",
    "    'code':code_list,\n",
    "    'number':number_list,\n",
    "    'price':price_list,\n",
    "    'city':city_list,\n",
    "})\n",
    "\n",
    "# Remove new lines from price\n",
    "# So that it shows up in csv\n",
    "df['price'] = df['price'].replace('\\n','', regex = True)\n",
    "\n",
    "df"
   ]
  },
  {
   "cell_type": "code",
   "execution_count": 12,
   "id": "60d5e28b",
   "metadata": {},
   "outputs": [
    {
     "name": "stdout",
     "output_type": "stream",
     "text": [
      "<class 'pandas.core.frame.DataFrame'>\n",
      "RangeIndex: 600 entries, 0 to 599\n",
      "Data columns (total 4 columns):\n",
      " #   Column  Non-Null Count  Dtype \n",
      "---  ------  --------------  ----- \n",
      " 0   code    600 non-null    object\n",
      " 1   number  600 non-null    object\n",
      " 2   price   600 non-null    object\n",
      " 3   city    600 non-null    object\n",
      "dtypes: object(4)\n",
      "memory usage: 18.9+ KB\n"
     ]
    }
   ],
   "source": [
    "df.info()"
   ]
  },
  {
   "cell_type": "code",
   "execution_count": 13,
   "id": "978e885d",
   "metadata": {},
   "outputs": [],
   "source": [
    "#Save as a csv\n",
    "df.to_csv('datasets/scraped.csv', index = False)"
   ]
  },
  {
   "cell_type": "code",
   "execution_count": null,
   "id": "da70a913",
   "metadata": {},
   "outputs": [],
   "source": []
  }
 ],
 "metadata": {
  "kernelspec": {
   "display_name": "Python 3 (ipykernel)",
   "language": "python",
   "name": "python3"
  },
  "language_info": {
   "codemirror_mode": {
    "name": "ipython",
    "version": 3
   },
   "file_extension": ".py",
   "mimetype": "text/x-python",
   "name": "python",
   "nbconvert_exporter": "python",
   "pygments_lexer": "ipython3",
   "version": "3.8.12"
  }
 },
 "nbformat": 4,
 "nbformat_minor": 5
}
