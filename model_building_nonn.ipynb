{
 "cells": [
  {
   "cell_type": "code",
   "execution_count": 34,
   "id": "f03f7acd",
   "metadata": {},
   "outputs": [],
   "source": [
    "import pandas as pd\n",
    "import numpy as np\n",
    "import seaborn as sns\n",
    "import random\n",
    "import time\n",
    "import re\n",
    "\n",
    "from tqdm import tqdm\n",
    "from matplotlib import pyplot as plt\n",
    "\n",
    "from sklearn.model_selection import train_test_split\n",
    "from sklearn.model_selection import KFold\n",
    "from sklearn.model_selection import cross_validate\n",
    "from sklearn.model_selection import GridSearchCV\n",
    "\n",
    "from sklearn.metrics import mean_absolute_error\n",
    "from sklearn.metrics import mean_squared_error\n",
    "from sklearn.metrics import explained_variance_score\n",
    "from sklearn.metrics import r2_score\n",
    "\n",
    "from xgboost import XGBRegressor\n",
    "from sklearn.ensemble import RandomForestRegressor\n",
    "\n",
    "plt.style.use('ggplot')\n",
    "plt.rcParams['figure.figsize'] = [9,5]\n",
    "plt.rcParams[\"axes.edgecolor\"] = \"black\""
   ]
  },
  {
   "cell_type": "markdown",
   "id": "6b6b8117",
   "metadata": {},
   "source": [
    "## Model building (Non NN)"
   ]
  },
  {
   "cell_type": "code",
   "execution_count": 20,
   "id": "8dcf2dae",
   "metadata": {},
   "outputs": [],
   "source": [
    "class trainAndEvaluate:\n",
    "    def __init__(self,df,model):\n",
    "        self.df = df\n",
    "        self.model = model\n",
    "        self.model_name = re.findall(r'(?<=\\.)[a-zA-Z]+(?=\\')',str(self.model.__class__))[0]\n",
    "        self.X = self.df[[col for col in self.df.columns if col != 'price']]\n",
    "        self.y = self.df['price']\n",
    "        \n",
    "\n",
    "    def KFold_score(self, n_folds = 10):\n",
    "        \n",
    "        print('___________________________________________')\n",
    "        print(f'{n_folds}-Fold-CV Results for {self.model_name} model.')\n",
    "        print('___________________________________________')\n",
    "        \n",
    "        cv = KFold(n_splits = n_folds,\n",
    "                   random_state = 1,\n",
    "                   shuffle = True) \n",
    "        \n",
    "        # RMSE handling for log\n",
    "        rmse = 'neg_root_mean_squared_error' \n",
    "        rmse_test = 'test_neg_root_mean_squared_error' \n",
    "        scores = cross_validate(self.model,\n",
    "                                 self.X,\n",
    "                                 self.y,\n",
    "                                 scoring = ['neg_root_mean_squared_error','r2'],\n",
    "                                 cv = cv,\n",
    "                                 n_jobs= - 1)\n",
    "        \n",
    "        R2 = scores['test_r2'].mean()\n",
    "        NRMSE = np.abs(scores[rmse_test]).mean()/(self.y.std())\n",
    "        \n",
    "        print(f'R^2 = {R2}')\n",
    "        print(f'NRMSE = {NRMSE}')\n",
    "    \n",
    "    def regression_eval_nonn(self,\n",
    "                             show_results = 1,\n",
    "                             plot = 1):\n",
    "        \n",
    "    \n",
    "        train_input,test_input,train_output,test_output  = train_test_split(self.X,self.y)\n",
    "    \n",
    "        self.model.fit(train_input, train_output)\n",
    "        y_pred = self.model.predict(test_input)\n",
    "\n",
    "         # extract line of best fit statistics\n",
    "        slope, intercept, r_value, p_value, std_err = stats.linregress(test_output,y_pred)\n",
    "\n",
    "#         MAE = mean_absolute_error(test_output, y_pred)\n",
    "#         MSE = mean_squared_error(test_output, y_pred, squared = 1)\n",
    "#         EV = explained_variance_score(test_output, y_pred)\n",
    "#         RMSE = mean_squared_error(test_output, y_pred, squared = 0)\n",
    "        \n",
    "        N_RMSE = (mean_squared_error(test_output, y_pred, squared = 0))/(test_output.std()) \n",
    "        \n",
    "        R2 = r2_score(test_output, y_pred)\n",
    "\n",
    "\n",
    "        # Extract name from model __class__\n",
    "        model_name = re.findall(r'(?<=\\.)[a-zA-Z]+(?=\\')',str(self.model.__class__))[0]\n",
    "\n",
    "        if show_results:\n",
    "            print('---------------')\n",
    "            print(f'{self.model_name} Results: ')\n",
    "            print('---------------')\n",
    "#             print(f'MAE = {MAE:.2f} AED.')\n",
    "#             print(f'MSE = {MSE:.2f} AED.')\n",
    "#             print(f'RMSE = {RMSE:.2f} AED.')\n",
    "\n",
    "            print(f'NRMSE = {N_RMSE:.2f} AED.')\n",
    "            print(f'R^2 score = {R2:.2f}')\n",
    "#             print(f'EV = {EV:.2f}')\n",
    "            if plot:\n",
    "                print('\\nRegression Line Metrics: ')\n",
    "                print('---------------------------')\n",
    "                print(f'r = {r_value:.2f}, p = {p_value:.2f}, err = {std_err:.2f}')\n",
    "                # plot A vs. P plot with regression line\n",
    "                sns.regplot(x = test_output, y = y_pred, line_kws = {'label': f' y = {slope:.1f} x + {intercept:.1f}'})\n",
    "                plt.legend()\n",
    "                plt.title(f'{self.model_name}')\n",
    "                plt.xlabel('Actual Price (AED)')\n",
    "                plt.ylabel('Predicted Price (AED)')\n",
    "                plt.show()\n",
    "        else:\n",
    "            return (\"\"\"model_name,MAE,MSE,RMSE,\"\"\",N_RMSE,R2)"
   ]
  },
  {
   "cell_type": "markdown",
   "id": "d15b9fae",
   "metadata": {},
   "source": [
    "## Data"
   ]
  },
  {
   "cell_type": "code",
   "execution_count": 21,
   "id": "7505003b",
   "metadata": {},
   "outputs": [],
   "source": [
    "df = pd.read_csv('datasets/training/train_rob_log.csv')\n",
    "\n",
    "# Target column\n",
    "y = df['price']\n",
    "\n",
    "# Feature columns and matrix\n",
    "features = [col for col in df.columns if col not in ('price')]\n",
    "X = df[features]\n",
    "\n",
    "# Create the test train split\n",
    "train_X, val_X, train_y, val_y = train_test_split(X, y, random_state = 0, test_size = 0.2)"
   ]
  },
  {
   "cell_type": "markdown",
   "id": "5cc0c701",
   "metadata": {},
   "source": [
    "## Baseline Runs"
   ]
  },
  {
   "cell_type": "markdown",
   "id": "98e0c5f6",
   "metadata": {},
   "source": [
    "### XGB"
   ]
  },
  {
   "cell_type": "code",
   "execution_count": 22,
   "id": "b3de5f14",
   "metadata": {},
   "outputs": [
    {
     "name": "stdout",
     "output_type": "stream",
     "text": [
      "___________________________________________\n",
      "10-Fold-CV Results for XGBRegressor model.\n",
      "___________________________________________\n",
      "R^2 = 0.8252994596445482\n",
      "NRMSE = 0.4057954689399343\n"
     ]
    }
   ],
   "source": [
    "trainAndEvaluate(df,XGBRegressor()).KFold_score()"
   ]
  },
  {
   "cell_type": "code",
   "execution_count": 28,
   "id": "cffbb23d",
   "metadata": {},
   "outputs": [
    {
     "data": {
      "application/javascript": [
       "\n",
       "        if (window._pyforest_update_imports_cell) { window._pyforest_update_imports_cell('from scipy import stats'); }\n",
       "    "
      ],
      "text/plain": [
       "<IPython.core.display.Javascript object>"
      ]
     },
     "metadata": {},
     "output_type": "display_data"
    },
    {
     "name": "stdout",
     "output_type": "stream",
     "text": [
      "---------------\n",
      "XGBRegressor Results: \n",
      "---------------\n",
      "NRMSE = 0.36 AED.\n",
      "R^2 score = 0.87\n",
      "\n",
      "Regression Line Metrics: \n",
      "---------------------------\n",
      "r = 0.93, p = 0.00, err = 0.01\n"
     ]
    },
    {
     "data": {
      "image/png": "[encoded data removed]",
      "text/plain": [
       "<Figure size 648x360 with 1 Axes>"
      ]
     },
     "metadata": {},
     "output_type": "display_data"
    }
   ],
   "source": [
    "trainAndEvaluate(df,XGBRegressor()).regression_eval_nonn()"
   ]
  },
  {
   "cell_type": "markdown",
   "id": "e2e98d29",
   "metadata": {},
   "source": [
    "### Random forest"
   ]
  },
  {
   "cell_type": "code",
   "execution_count": 30,
   "id": "78eafe68",
   "metadata": {},
   "outputs": [
    {
     "name": "stdout",
     "output_type": "stream",
     "text": [
      "___________________________________________\n",
      "10-Fold-CV Results for RandomForestRegressor model.\n",
      "___________________________________________\n",
      "R^2 = 0.8334278638456268\n",
      "NRMSE = 0.3956638711808592\n"
     ]
    }
   ],
   "source": [
    "trainAndEvaluate(df,RandomForestRegressor()).KFold_score()"
   ]
  },
  {
   "cell_type": "code",
   "execution_count": 29,
   "id": "50e07edc",
   "metadata": {},
   "outputs": [
    {
     "data": {
      "application/javascript": [
       "\n",
       "        if (window._pyforest_update_imports_cell) { window._pyforest_update_imports_cell('from scipy import stats'); }\n",
       "    "
      ],
      "text/plain": [
       "<IPython.core.display.Javascript object>"
      ]
     },
     "metadata": {},
     "output_type": "display_data"
    },
    {
     "name": "stdout",
     "output_type": "stream",
     "text": [
      "---------------\n",
      "RandomForestRegressor Results: \n",
      "---------------\n",
      "NRMSE = 0.41 AED.\n",
      "R^2 score = 0.83\n",
      "\n",
      "Regression Line Metrics: \n",
      "---------------------------\n",
      "r = 0.91, p = 0.00, err = 0.01\n"
     ]
    },
    {
     "data": {
      "image/png": "[encoded data removed]",
      "text/plain": [
       "<Figure size 648x360 with 1 Axes>"
      ]
     },
     "metadata": {},
     "output_type": "display_data"
    }
   ],
   "source": [
    "trainAndEvaluate(df,RandomForestRegressor()).regression_eval_nonn()"
   ]
  },
  {
   "cell_type": "markdown",
   "id": "ee78f67c",
   "metadata": {},
   "source": [
    "## Exhaustive Grid Search for hyper parameter tuning"
   ]
  },
  {
   "cell_type": "markdown",
   "id": "fda0187c",
   "metadata": {},
   "source": [
    "### XGB"
   ]
  },
  {
   "cell_type": "code",
   "execution_count": 44,
   "id": "9bb2a6d2",
   "metadata": {},
   "outputs": [
    {
     "data": {
      "application/javascript": [
       "\n",
       "        if (window._pyforest_update_imports_cell) { window._pyforest_update_imports_cell('from scipy import stats\\nimport xgboost as xgb'); }\n",
       "    "
      ],
      "text/plain": [
       "<IPython.core.display.Javascript object>"
      ]
     },
     "metadata": {},
     "output_type": "display_data"
    },
    {
     "name": "stdout",
     "output_type": "stream",
     "text": [
      "Fitting 5 folds for each of 256 candidates, totalling 1280 fits\n"
     ]
    },
    {
     "name": "stderr",
     "output_type": "stream",
     "text": [
      "[Parallel(n_jobs=-1)]: Using backend LokyBackend with 12 concurrent workers.\n",
      "[Parallel(n_jobs=-1)]: Done  17 tasks      | elapsed:    7.0s\n",
      "[Parallel(n_jobs=-1)]: Done 138 tasks      | elapsed:   15.9s\n",
      "[Parallel(n_jobs=-1)]: Done 341 tasks      | elapsed:   34.5s\n",
      "[Parallel(n_jobs=-1)]: Done 624 tasks      | elapsed:  2.1min\n",
      "[Parallel(n_jobs=-1)]: Done 989 tasks      | elapsed:  5.0min\n",
      "[Parallel(n_jobs=-1)]: Done 1280 out of 1280 | elapsed:  7.9min finished\n"
     ]
    },
    {
     "name": "stdout",
     "output_type": "stream",
     "text": [
      "Total run time - 7.0 minutes. \n",
      "\n",
      "Best parameters: \n",
      " {'colsample_bytree': 0.67, 'learning_rate': 0.34, 'max_depth': 3, 'n_estimators': 400}\n"
     ]
    }
   ],
   "source": [
    "# Parameter dictionary for combinations with feasibile values\n",
    "params = { 'max_depth': np.linspace(3,10,4).astype(int),\n",
    "           'learning_rate': np.linspace(0.01,1,4),\n",
    "           'n_estimators': np.linspace(100,1000,4).astype(int),\n",
    "           'colsample_bytree': np.linspace(0.01,1,4)}\n",
    "\n",
    "\n",
    "xgb_gs = XGBRegressor()\n",
    "start = time.time()\n",
    "\n",
    "clf = GridSearchCV(estimator = xgb_gs, \n",
    "                   param_grid = params,\n",
    "                   scoring = 'neg_root_mean_squared_error', \n",
    "                   verbose = 2,\n",
    "                   n_jobs = -1)\n",
    "clf.fit(X, y)\n",
    "end = time.time()\n",
    "\n",
    "print(f'Total run time - {(end-start)//60} minutes. \\n')\n",
    "print(\"Best parameters: \\n\", clf.best_params_)"
   ]
  },
  {
   "cell_type": "code",
   "execution_count": 53,
   "id": "50656bc1",
   "metadata": {},
   "outputs": [
    {
     "name": "stdout",
     "output_type": "stream",
     "text": [
      "___________________________________________\n",
      "10-Fold-CV Results for XGBRegressor model.\n",
      "___________________________________________\n",
      "R^2 = 0.8318980047082268\n",
      "NRMSE = 0.3998822267761517\n"
     ]
    }
   ],
   "source": [
    "# Seems the results don't improve on hypter parameter tuning\n",
    "trainAndEvaluate(df,XGBRegressor(colsample_bytree = 0.67,\n",
    "                                          learning_rate = 0.34,\n",
    "                                          max_depth = 3,\n",
    "                                          n_estimators = 400)).KFold_score()"
   ]
  },
  {
   "cell_type": "markdown",
   "id": "b5f33552",
   "metadata": {},
   "source": [
    "### Random Forest"
   ]
  },
  {
   "cell_type": "code",
   "execution_count": null,
   "id": "b70eb07f",
   "metadata": {},
   "outputs": [
    {
     "name": "stdout",
     "output_type": "stream",
     "text": [
      "Fitting 5 folds for each of 14400 candidates, totalling 72000 fits\n"
     ]
    },
    {
     "name": "stderr",
     "output_type": "stream",
     "text": [
      "[Parallel(n_jobs=-1)]: Using backend LokyBackend with 12 concurrent workers.\n",
      "[Parallel(n_jobs=-1)]: Done  17 tasks      | elapsed:    5.7s\n",
      "[Parallel(n_jobs=-1)]: Done 138 tasks      | elapsed:   25.2s\n",
      "[Parallel(n_jobs=-1)]: Done 341 tasks      | elapsed:   54.3s\n",
      "[Parallel(n_jobs=-1)]: Done 624 tasks      | elapsed:  1.5min\n",
      "[Parallel(n_jobs=-1)]: Done 989 tasks      | elapsed:  2.3min\n",
      "[Parallel(n_jobs=-1)]: Done 1434 tasks      | elapsed:  3.5min\n",
      "[Parallel(n_jobs=-1)]: Done 1961 tasks      | elapsed:  4.9min\n",
      "[Parallel(n_jobs=-1)]: Done 2568 tasks      | elapsed:  6.7min\n",
      "[Parallel(n_jobs=-1)]: Done 3257 tasks      | elapsed:  9.0min\n",
      "[Parallel(n_jobs=-1)]: Done 4026 tasks      | elapsed: 11.6min\n",
      "[Parallel(n_jobs=-1)]: Done 4877 tasks      | elapsed: 14.1min\n",
      "[Parallel(n_jobs=-1)]: Done 5808 tasks      | elapsed: 16.3min\n",
      "[Parallel(n_jobs=-1)]: Done 6821 tasks      | elapsed: 19.0min\n",
      "[Parallel(n_jobs=-1)]: Done 7914 tasks      | elapsed: 22.3min\n",
      "[Parallel(n_jobs=-1)]: Done 9089 tasks      | elapsed: 26.3min\n",
      "[Parallel(n_jobs=-1)]: Done 10344 tasks      | elapsed: 29.2min\n",
      "[Parallel(n_jobs=-1)]: Done 11681 tasks      | elapsed: 32.8min\n",
      "[Parallel(n_jobs=-1)]: Done 13098 tasks      | elapsed: 37.7min\n",
      "[Parallel(n_jobs=-1)]: Done 14597 tasks      | elapsed: 41.5min\n",
      "[Parallel(n_jobs=-1)]: Done 16176 tasks      | elapsed: 45.8min\n",
      "[Parallel(n_jobs=-1)]: Done 17837 tasks      | elapsed: 51.7min\n",
      "[Parallel(n_jobs=-1)]: Done 19578 tasks      | elapsed: 56.2min\n",
      "[Parallel(n_jobs=-1)]: Done 21401 tasks      | elapsed: 61.7min\n",
      "[Parallel(n_jobs=-1)]: Done 23304 tasks      | elapsed: 67.4min\n",
      "[Parallel(n_jobs=-1)]: Done 25289 tasks      | elapsed: 72.9min\n",
      "[Parallel(n_jobs=-1)]: Done 27354 tasks      | elapsed: 79.4min\n",
      "[Parallel(n_jobs=-1)]: Done 29501 tasks      | elapsed: 84.9min\n",
      "[Parallel(n_jobs=-1)]: Done 31728 tasks      | elapsed: 91.9min\n",
      "[Parallel(n_jobs=-1)]: Done 34037 tasks      | elapsed: 97.9min\n",
      "[Parallel(n_jobs=-1)]: Done 36426 tasks      | elapsed: 105.4min\n"
     ]
    }
   ],
   "source": [
    "# Parameter dictionary for combinations with feasibile values\n",
    "params = {'bootstrap': [True],\n",
    "             'max_depth': np.arange(50,210,10),\n",
    "             'max_features': np.arange(1,6,1),\n",
    "             'min_samples_leaf': np.arange(2,11,1),\n",
    "             'min_samples_split': np.arange(6,14,2),\n",
    "             'n_estimators': np.arange(100,1100,200)}\n",
    "\n",
    "\n",
    "rf = RandomForestRegressor()\n",
    "start = time.time()\n",
    "\n",
    "clf = GridSearchCV(estimator = rf, \n",
    "                   param_grid = params,\n",
    "                   scoring = 'neg_root_mean_squared_error', \n",
    "                   verbose = 2,\n",
    "                   n_jobs = -1)\n",
    "clf.fit(X, y)\n",
    "end = time.time()\n",
    "\n",
    "print(f'Total run time - {(end-start)//60} minutes. \\n')\n",
    "print(\"Best parameters: \\n\", clf.best_params_)"
   ]
  },
  {
   "cell_type": "code",
   "execution_count": null,
   "id": "a755bd27",
   "metadata": {},
   "outputs": [],
   "source": []
  }
 ],
 "metadata": {
  "kernelspec": {
   "display_name": "Python 3 (ipykernel)",
   "language": "python",
   "name": "python3"
  },
  "language_info": {
   "codemirror_mode": {
    "name": "ipython",
    "version": 3
   },
   "file_extension": ".py",
   "mimetype": "text/x-python",
   "name": "python",
   "nbconvert_exporter": "python",
   "pygments_lexer": "ipython3",
   "version": "3.8.12"
  }
 },
 "nbformat": 4,
 "nbformat_minor": 5
}
