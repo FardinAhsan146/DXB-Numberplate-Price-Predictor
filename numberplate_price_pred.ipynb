{
 "cells": [
  {
   "cell_type": "markdown",
   "id": "f8a8724e",
   "metadata": {},
   "source": [
    "# Predicting numberplate price, naively."
   ]
  },
  {
   "cell_type": "markdown",
   "id": "2bb1f292",
   "metadata": {},
   "source": [
    "A naive attempt at predicting Dubai car number plate prices using simple ML models.\n",
    "\n",
    "Data scraped from https://www.plates.ae/plates-en/plate.php"
   ]
  },
  {
   "cell_type": "code",
   "execution_count": 1,
   "id": "7a27535f",
   "metadata": {},
   "outputs": [],
   "source": [
    "from sklearn.metrics import mean_absolute_error\n",
    "from sklearn.model_selection import train_test_split\n",
    "from sklearn.metrics import mean_absolute_percentage_error\n",
    "from sklearn.preprocessing import LabelEncoder\n",
    "from sklearn.metrics import mean_squared_error\n",
    "\n",
    "from matplotlib import pyplot as plt\n",
    "import warnings\n",
    "import pandas as pd\n",
    "import numpy as np\n",
    "import seaborn as sns\n",
    "import re\n",
    "\n",
    "plt.style.use('ggplot')\n",
    "warnings.filterwarnings(\"ignore\")\n",
    "plt.rcParams['figure.figsize'] = [10,5]"
   ]
  },
  {
   "cell_type": "markdown",
   "id": "9132e800",
   "metadata": {},
   "source": [
    "### Load data"
   ]
  },
  {
   "cell_type": "code",
   "execution_count": 2,
   "id": "3c60071e",
   "metadata": {},
   "outputs": [
    {
     "data": {
      "text/html": [
       "<div>\n",
       "<style scoped>\n",
       "    .dataframe tbody tr th:only-of-type {\n",
       "        vertical-align: middle;\n",
       "    }\n",
       "\n",
       "    .dataframe tbody tr th {\n",
       "        vertical-align: top;\n",
       "    }\n",
       "\n",
       "    .dataframe thead th {\n",
       "        text-align: right;\n",
       "    }\n",
       "</style>\n",
       "<table border=\"1\" class=\"dataframe\">\n",
       "  <thead>\n",
       "    <tr style=\"text-align: right;\">\n",
       "      <th></th>\n",
       "      <th>Number</th>\n",
       "      <th>Code</th>\n",
       "      <th>Price</th>\n",
       "    </tr>\n",
       "  </thead>\n",
       "  <tbody>\n",
       "    <tr>\n",
       "      <th>0</th>\n",
       "      <td>274</td>\n",
       "      <td>I</td>\n",
       "      <td>215,000AED</td>\n",
       "    </tr>\n",
       "    <tr>\n",
       "      <th>1</th>\n",
       "      <td>78888</td>\n",
       "      <td>H</td>\n",
       "      <td>72,000AED</td>\n",
       "    </tr>\n",
       "    <tr>\n",
       "      <th>2</th>\n",
       "      <td>6777</td>\n",
       "      <td>K</td>\n",
       "      <td>72,000AED</td>\n",
       "    </tr>\n",
       "    <tr>\n",
       "      <th>3</th>\n",
       "      <td>3334</td>\n",
       "      <td>R</td>\n",
       "      <td>72,000AED</td>\n",
       "    </tr>\n",
       "    <tr>\n",
       "      <th>4</th>\n",
       "      <td>22232</td>\n",
       "      <td>N</td>\n",
       "      <td>41,000AED</td>\n",
       "    </tr>\n",
       "    <tr>\n",
       "      <th>5</th>\n",
       "      <td>80088</td>\n",
       "      <td>L</td>\n",
       "      <td>25,000AED</td>\n",
       "    </tr>\n",
       "    <tr>\n",
       "      <th>6</th>\n",
       "      <td>20220</td>\n",
       "      <td>K</td>\n",
       "      <td>24,000AED</td>\n",
       "    </tr>\n",
       "    <tr>\n",
       "      <th>7</th>\n",
       "      <td>22002</td>\n",
       "      <td>K</td>\n",
       "      <td>24,000AED</td>\n",
       "    </tr>\n",
       "    <tr>\n",
       "      <th>8</th>\n",
       "      <td>30033</td>\n",
       "      <td>P</td>\n",
       "      <td>24,000AED</td>\n",
       "    </tr>\n",
       "    <tr>\n",
       "      <th>9</th>\n",
       "      <td>1160</td>\n",
       "      <td>U</td>\n",
       "      <td>21,000AED</td>\n",
       "    </tr>\n",
       "  </tbody>\n",
       "</table>\n",
       "</div>"
      ],
      "text/plain": [
       "   Number Code       Price\n",
       "0     274    I  215,000AED\n",
       "1   78888    H   72,000AED\n",
       "2    6777    K   72,000AED\n",
       "3    3334    R   72,000AED\n",
       "4   22232    N   41,000AED\n",
       "5   80088    L   25,000AED\n",
       "6   20220    K   24,000AED\n",
       "7   22002    K   24,000AED\n",
       "8   30033    P   24,000AED\n",
       "9    1160    U   21,000AED"
      ]
     },
     "execution_count": 2,
     "metadata": {},
     "output_type": "execute_result"
    }
   ],
   "source": [
    "plates = pd.read_csv('num_plates.csv')\n",
    "plates = plates[['Number', 'Code', 'Price']]\n",
    "plates.head(10)"
   ]
  },
  {
   "cell_type": "markdown",
   "id": "9f48a865",
   "metadata": {},
   "source": [
    "### Data preprocessing"
   ]
  },
  {
   "cell_type": "code",
   "execution_count": 3,
   "id": "febafb10",
   "metadata": {},
   "outputs": [],
   "source": [
    "plates['Price'] = plates['Price'].apply(lambda x: re.sub(r\"[a-zA-Z,]\",'',x)).astype(int)\n",
    "plates['Full_plate'] = plates['Code'] + '-' +  plates['Number'].astype(str)"
   ]
  },
  {
   "cell_type": "code",
   "execution_count": 4,
   "id": "eb37de76",
   "metadata": {},
   "outputs": [
    {
     "data": {
      "text/plain": [
       "{'A': 0,\n",
       " 'B': 1,\n",
       " 'D': 2,\n",
       " 'E': 3,\n",
       " 'G': 4,\n",
       " 'H': 5,\n",
       " 'I': 6,\n",
       " 'J': 7,\n",
       " 'K': 8,\n",
       " 'L': 9,\n",
       " 'M': 10,\n",
       " 'N': 11,\n",
       " 'O': 12,\n",
       " 'P': 13,\n",
       " 'Q': 14,\n",
       " 'R': 15,\n",
       " 'S': 16,\n",
       " 'T': 17,\n",
       " 'U': 18,\n",
       " 'V': 19,\n",
       " 'W': 20}"
      ]
     },
     "execution_count": 4,
     "metadata": {},
     "output_type": "execute_result"
    }
   ],
   "source": [
    "#Encode categorical values, turns letters into numbers\n",
    "label_encoder = LabelEncoder()\n",
    "plates['Code_encoded'] = label_encoder.fit_transform(plates['Code'])\n",
    "\n",
    "#Mapping to use later for single data point prediction\n",
    "label_map = {k:v for k,v in zip(label_encoder.classes_,range(len(label_encoder.classes_)))}\n",
    "label_map"
   ]
  },
  {
   "cell_type": "code",
   "execution_count": 5,
   "id": "49728452",
   "metadata": {
    "scrolled": true
   },
   "outputs": [
    {
     "data": {
      "text/html": [
       "<div>\n",
       "<style scoped>\n",
       "    .dataframe tbody tr th:only-of-type {\n",
       "        vertical-align: middle;\n",
       "    }\n",
       "\n",
       "    .dataframe tbody tr th {\n",
       "        vertical-align: top;\n",
       "    }\n",
       "\n",
       "    .dataframe thead th {\n",
       "        text-align: right;\n",
       "    }\n",
       "</style>\n",
       "<table border=\"1\" class=\"dataframe\">\n",
       "  <thead>\n",
       "    <tr style=\"text-align: right;\">\n",
       "      <th></th>\n",
       "      <th>Number</th>\n",
       "      <th>Code</th>\n",
       "      <th>Price</th>\n",
       "      <th>Full_plate</th>\n",
       "      <th>Code_encoded</th>\n",
       "    </tr>\n",
       "  </thead>\n",
       "  <tbody>\n",
       "    <tr>\n",
       "      <th>0</th>\n",
       "      <td>274</td>\n",
       "      <td>I</td>\n",
       "      <td>215000</td>\n",
       "      <td>I-274</td>\n",
       "      <td>6</td>\n",
       "    </tr>\n",
       "    <tr>\n",
       "      <th>1</th>\n",
       "      <td>78888</td>\n",
       "      <td>H</td>\n",
       "      <td>72000</td>\n",
       "      <td>H-78888</td>\n",
       "      <td>5</td>\n",
       "    </tr>\n",
       "    <tr>\n",
       "      <th>2</th>\n",
       "      <td>6777</td>\n",
       "      <td>K</td>\n",
       "      <td>72000</td>\n",
       "      <td>K-6777</td>\n",
       "      <td>8</td>\n",
       "    </tr>\n",
       "    <tr>\n",
       "      <th>3</th>\n",
       "      <td>3334</td>\n",
       "      <td>R</td>\n",
       "      <td>72000</td>\n",
       "      <td>R-3334</td>\n",
       "      <td>15</td>\n",
       "    </tr>\n",
       "    <tr>\n",
       "      <th>4</th>\n",
       "      <td>22232</td>\n",
       "      <td>N</td>\n",
       "      <td>41000</td>\n",
       "      <td>N-22232</td>\n",
       "      <td>11</td>\n",
       "    </tr>\n",
       "    <tr>\n",
       "      <th>5</th>\n",
       "      <td>80088</td>\n",
       "      <td>L</td>\n",
       "      <td>25000</td>\n",
       "      <td>L-80088</td>\n",
       "      <td>9</td>\n",
       "    </tr>\n",
       "    <tr>\n",
       "      <th>6</th>\n",
       "      <td>20220</td>\n",
       "      <td>K</td>\n",
       "      <td>24000</td>\n",
       "      <td>K-20220</td>\n",
       "      <td>8</td>\n",
       "    </tr>\n",
       "    <tr>\n",
       "      <th>7</th>\n",
       "      <td>22002</td>\n",
       "      <td>K</td>\n",
       "      <td>24000</td>\n",
       "      <td>K-22002</td>\n",
       "      <td>8</td>\n",
       "    </tr>\n",
       "    <tr>\n",
       "      <th>8</th>\n",
       "      <td>30033</td>\n",
       "      <td>P</td>\n",
       "      <td>24000</td>\n",
       "      <td>P-30033</td>\n",
       "      <td>13</td>\n",
       "    </tr>\n",
       "    <tr>\n",
       "      <th>9</th>\n",
       "      <td>1160</td>\n",
       "      <td>U</td>\n",
       "      <td>21000</td>\n",
       "      <td>U-1160</td>\n",
       "      <td>18</td>\n",
       "    </tr>\n",
       "  </tbody>\n",
       "</table>\n",
       "</div>"
      ],
      "text/plain": [
       "   Number Code   Price Full_plate  Code_encoded\n",
       "0     274    I  215000      I-274             6\n",
       "1   78888    H   72000    H-78888             5\n",
       "2    6777    K   72000     K-6777             8\n",
       "3    3334    R   72000     R-3334            15\n",
       "4   22232    N   41000    N-22232            11\n",
       "5   80088    L   25000    L-80088             9\n",
       "6   20220    K   24000    K-20220             8\n",
       "7   22002    K   24000    K-22002             8\n",
       "8   30033    P   24000    P-30033            13\n",
       "9    1160    U   21000     U-1160            18"
      ]
     },
     "execution_count": 5,
     "metadata": {},
     "output_type": "execute_result"
    }
   ],
   "source": [
    "plates.head(10)"
   ]
  },
  {
   "cell_type": "markdown",
   "id": "a9d5792e",
   "metadata": {},
   "source": [
    "### Dataset info"
   ]
  },
  {
   "cell_type": "code",
   "execution_count": 6,
   "id": "7ba33887",
   "metadata": {},
   "outputs": [
    {
     "name": "stdout",
     "output_type": "stream",
     "text": [
      "<class 'pandas.core.frame.DataFrame'>\n",
      "RangeIndex: 1457 entries, 0 to 1456\n",
      "Data columns (total 5 columns):\n",
      " #   Column        Non-Null Count  Dtype \n",
      "---  ------        --------------  ----- \n",
      " 0   Number        1457 non-null   int64 \n",
      " 1   Code          1457 non-null   object\n",
      " 2   Price         1457 non-null   int32 \n",
      " 3   Full_plate    1457 non-null   object\n",
      " 4   Code_encoded  1457 non-null   int32 \n",
      "dtypes: int32(2), int64(1), object(2)\n",
      "memory usage: 45.7+ KB\n"
     ]
    }
   ],
   "source": [
    "plates.info()"
   ]
  },
  {
   "cell_type": "markdown",
   "id": "6630e03d",
   "metadata": {},
   "source": [
    "## EDA"
   ]
  },
  {
   "cell_type": "code",
   "execution_count": 7,
   "id": "92e03d0b",
   "metadata": {},
   "outputs": [
    {
     "data": {
      "text/html": [
       "<div>\n",
       "<style scoped>\n",
       "    .dataframe tbody tr th:only-of-type {\n",
       "        vertical-align: middle;\n",
       "    }\n",
       "\n",
       "    .dataframe tbody tr th {\n",
       "        vertical-align: top;\n",
       "    }\n",
       "\n",
       "    .dataframe thead th {\n",
       "        text-align: right;\n",
       "    }\n",
       "</style>\n",
       "<table border=\"1\" class=\"dataframe\">\n",
       "  <thead>\n",
       "    <tr style=\"text-align: right;\">\n",
       "      <th></th>\n",
       "      <th>Number</th>\n",
       "      <th>Price</th>\n",
       "      <th>Code</th>\n",
       "      <th>n_l</th>\n",
       "    </tr>\n",
       "  </thead>\n",
       "  <tbody>\n",
       "    <tr>\n",
       "      <th>0</th>\n",
       "      <td>274</td>\n",
       "      <td>215000</td>\n",
       "      <td>I</td>\n",
       "      <td>3</td>\n",
       "    </tr>\n",
       "    <tr>\n",
       "      <th>1</th>\n",
       "      <td>78888</td>\n",
       "      <td>72000</td>\n",
       "      <td>H</td>\n",
       "      <td>5</td>\n",
       "    </tr>\n",
       "    <tr>\n",
       "      <th>2</th>\n",
       "      <td>6777</td>\n",
       "      <td>72000</td>\n",
       "      <td>K</td>\n",
       "      <td>4</td>\n",
       "    </tr>\n",
       "    <tr>\n",
       "      <th>3</th>\n",
       "      <td>3334</td>\n",
       "      <td>72000</td>\n",
       "      <td>R</td>\n",
       "      <td>4</td>\n",
       "    </tr>\n",
       "    <tr>\n",
       "      <th>4</th>\n",
       "      <td>22232</td>\n",
       "      <td>41000</td>\n",
       "      <td>N</td>\n",
       "      <td>5</td>\n",
       "    </tr>\n",
       "  </tbody>\n",
       "</table>\n",
       "</div>"
      ],
      "text/plain": [
       "  Number   Price Code  n_l\n",
       "0    274  215000    I    3\n",
       "1  78888   72000    H    5\n",
       "2   6777   72000    K    4\n",
       "3   3334   72000    R    4\n",
       "4  22232   41000    N    5"
      ]
     },
     "execution_count": 7,
     "metadata": {},
     "output_type": "execute_result"
    }
   ],
   "source": [
    "plates_plot = plates[['Number','Price','Code']]\n",
    "plates_plot['Number'] = plates_plot['Number'].astype(str)\n",
    "plates_plot['n_l'] = plates_plot['Number'].apply(lambda x: len(x))\n",
    "plates_plot.head()"
   ]
  },
  {
   "cell_type": "code",
   "execution_count": 8,
   "id": "6c219af8",
   "metadata": {},
   "outputs": [
    {
     "name": "stdout",
     "output_type": "stream",
     "text": [
      "<class 'pandas.core.frame.DataFrame'>\n",
      "RangeIndex: 1457 entries, 0 to 1456\n",
      "Data columns (total 4 columns):\n",
      " #   Column  Non-Null Count  Dtype \n",
      "---  ------  --------------  ----- \n",
      " 0   Number  1457 non-null   object\n",
      " 1   Price   1457 non-null   int32 \n",
      " 2   Code    1457 non-null   object\n",
      " 3   n_l     1457 non-null   int64 \n",
      "dtypes: int32(1), int64(1), object(2)\n",
      "memory usage: 40.0+ KB\n"
     ]
    }
   ],
   "source": [
    "plates_plot.info()"
   ]
  },
  {
   "cell_type": "markdown",
   "id": "1feddfcb",
   "metadata": {},
   "source": [
    "### Number of digits"
   ]
  },
  {
   "cell_type": "code",
   "execution_count": 9,
   "id": "a35f80c3",
   "metadata": {},
   "outputs": [
    {
     "data": {
      "text/plain": [
       "Text(0, 0.5, 'Count')"
      ]
     },
     "execution_count": 9,
     "metadata": {},
     "output_type": "execute_result"
    },
    {
     "data": {
      "image/png": "[encoded data removed]",
      "text/plain": [
       "<Figure size 720x360 with 1 Axes>"
      ]
     },
     "metadata": {},
     "output_type": "display_data"
    }
   ],
   "source": [
    "plates_plot['n_l'].value_counts().plot(kind = 'bar', color = 'blue')\n",
    "plt.title('Number of digits')\n",
    "plt.xlabel('Digits')\n",
    "plt.ylabel('Count')"
   ]
  },
  {
   "cell_type": "markdown",
   "id": "59803221",
   "metadata": {},
   "source": [
    "### Average price by # of digits"
   ]
  },
  {
   "cell_type": "code",
   "execution_count": 10,
   "id": "cd0479cb",
   "metadata": {},
   "outputs": [
    {
     "data": {
      "text/plain": [
       "Text(0, 0.5, 'Digit (#)')"
      ]
     },
     "execution_count": 10,
     "metadata": {},
     "output_type": "execute_result"
    },
    {
     "data": {
      "image/png": "[encoded data removed]",
      "text/plain": [
       "<Figure size 720x360 with 1 Axes>"
      ]
     },
     "metadata": {},
     "output_type": "display_data"
    }
   ],
   "source": [
    "plates_plot.groupby(['n_l'])['Price'].mean().plot(kind = 'bar', color = 'blue')\n",
    "plt.title('Average price by digit')\n",
    "plt.xlabel('Price (AED)')\n",
    "plt.ylabel('Digit (#)')"
   ]
  },
  {
   "cell_type": "markdown",
   "id": "1358235f",
   "metadata": {},
   "source": [
    "### Average price by letter"
   ]
  },
  {
   "cell_type": "code",
   "execution_count": 11,
   "id": "fd398fd4",
   "metadata": {},
   "outputs": [
    {
     "data": {
      "text/plain": [
       "Text(0, 0.5, 'Average price (AED)')"
      ]
     },
     "execution_count": 11,
     "metadata": {},
     "output_type": "execute_result"
    },
    {
     "data": {
      "image/png": "[encoded data removed]",
      "text/plain": [
       "<Figure size 720x360 with 1 Axes>"
      ]
     },
     "metadata": {},
     "output_type": "display_data"
    }
   ],
   "source": [
    "only_fives = plates_plot.loc[plates_plot['n_l'] == 5]\n",
    "\n",
    "b_plot = only_fives.groupby(['Code'])['Price'].mean().sort_values()\n",
    "\n",
    "b_plot.plot(kind = 'bar', color = 'blue')\n",
    "plt.title('Average price by code')\n",
    "plt.xlabel('Code')\n",
    "plt.ylabel('Average price (AED)')"
   ]
  },
  {
   "cell_type": "markdown",
   "id": "ab8c3e25",
   "metadata": {},
   "source": [
    "# Testing the different ML models"
   ]
  },
  {
   "cell_type": "code",
   "execution_count": 12,
   "id": "ea38e00c",
   "metadata": {},
   "outputs": [],
   "source": [
    "# Create X and Y\n",
    "y = plates['Price']\n",
    "features = ['Number','Code_encoded']\n",
    "X = plates[features]\n",
    "\n",
    "# Create the test train split\n",
    "train_X, val_X, train_y, val_y = train_test_split(X, y,random_state = 0)"
   ]
  },
  {
   "cell_type": "code",
   "execution_count": 13,
   "id": "036c2368",
   "metadata": {},
   "outputs": [],
   "source": [
    "'''\n",
    "Helper function to help train and evaluate models\n",
    "Keep in mind this is VERY SIMPLE and just for testing, if we want to make things accurate..\n",
    "We are going to have to do a lot more work, but at the end maybe we can\n",
    "Squeeze out 3-4% more performance which I don't think is worth it.\n",
    "\n",
    "'''\n",
    "def test(model):\n",
    "    model.fit(train_X, train_y)\n",
    "    y_pred = model.predict(val_X)\n",
    "\n",
    "    print(f'Mean absolute error = {mean_absolute_error(val_y, y_pred):.2f} AED')\n",
    "    print(f'RMSE = {mean_squared_error(val_y, y_pred, squared = 0):.2f} AED')\n",
    "    print(f'Model accuracy = {(1 - mean_absolute_percentage_error(val_y, y_pred))*100:.2f} %')"
   ]
  },
  {
   "cell_type": "markdown",
   "id": "31b8be6f",
   "metadata": {},
   "source": [
    "##### Random Forest"
   ]
  },
  {
   "cell_type": "code",
   "execution_count": 14,
   "id": "74f80a58",
   "metadata": {},
   "outputs": [
    {
     "name": "stdout",
     "output_type": "stream",
     "text": [
      "Mean absolute error = 1109.79 AED\n",
      "RMSE = 5973.19 AED\n",
      "Model accuracy = 89.08 %\n"
     ]
    }
   ],
   "source": [
    "from sklearn.ensemble import RandomForestRegressor\n",
    "\n",
    "forest_model = RandomForestRegressor(random_state=1)\n",
    "test(forest_model)"
   ]
  },
  {
   "cell_type": "markdown",
   "id": "d1c012b3",
   "metadata": {},
   "source": [
    "##### XGB"
   ]
  },
  {
   "cell_type": "code",
   "execution_count": 15,
   "id": "064b9ba4",
   "metadata": {},
   "outputs": [
    {
     "name": "stdout",
     "output_type": "stream",
     "text": [
      "Mean absolute error = 971.55 AED\n",
      "RMSE = 5520.14 AED\n",
      "Model accuracy = 89.58 %\n"
     ]
    }
   ],
   "source": [
    "from xgboost import XGBRegressor\n",
    "\n",
    "xgb_model = XGBRegressor()\n",
    "test(xgb_model)"
   ]
  },
  {
   "cell_type": "markdown",
   "id": "16b308c6",
   "metadata": {},
   "source": [
    "##### Lin Reg"
   ]
  },
  {
   "cell_type": "code",
   "execution_count": 16,
   "id": "63e19b08",
   "metadata": {},
   "outputs": [
    {
     "name": "stdout",
     "output_type": "stream",
     "text": [
      "Mean absolute error = 2005.28 AED\n",
      "RMSE = 5871.27 AED\n",
      "Model accuracy = 52.26 %\n"
     ]
    }
   ],
   "source": [
    "from sklearn.linear_model import LinearRegression\n",
    "\n",
    "linear_reg_model = LinearRegression()\n",
    "test(linear_reg_model)"
   ]
  },
  {
   "cell_type": "markdown",
   "id": "b98b3f6a",
   "metadata": {},
   "source": [
    "##### Decision Tree"
   ]
  },
  {
   "cell_type": "code",
   "execution_count": 17,
   "id": "9fb2ea67",
   "metadata": {},
   "outputs": [
    {
     "name": "stdout",
     "output_type": "stream",
     "text": [
      "Mean absolute error = 1079.45 AED\n",
      "RMSE = 2952.24 AED\n",
      "Model accuracy = 88.17 %\n"
     ]
    }
   ],
   "source": [
    "from sklearn import tree\n",
    "\n",
    "tree_model = tree.DecisionTreeClassifier()\n",
    "test(tree_model)"
   ]
  },
  {
   "cell_type": "markdown",
   "id": "d539641d",
   "metadata": {},
   "source": [
    "##### Neural network"
   ]
  },
  {
   "cell_type": "code",
   "execution_count": 18,
   "id": "dea5eda7",
   "metadata": {},
   "outputs": [
    {
     "name": "stdout",
     "output_type": "stream",
     "text": [
      "Mean absolute error = 1269.04 AED\n",
      "RMSE = 3758.14 AED\n",
      "Model accuracy = 87.38 %\n"
     ]
    }
   ],
   "source": [
    "from sklearn.neural_network import MLPClassifier\n",
    "\n",
    "nn_model = MLPClassifier(solver='lbfgs', alpha=1e-5, hidden_layer_sizes=(5, 2), random_state=1)\n",
    "test(nn_model)"
   ]
  },
  {
   "cell_type": "markdown",
   "id": "95c38573",
   "metadata": {},
   "source": [
    "##### KNN"
   ]
  },
  {
   "cell_type": "code",
   "execution_count": 19,
   "id": "e853d7f7",
   "metadata": {},
   "outputs": [
    {
     "name": "stdout",
     "output_type": "stream",
     "text": [
      "Mean absolute error = 1032.60 AED\n",
      "RMSE = 2732.60 AED\n",
      "Model accuracy = 89.44 %\n"
     ]
    }
   ],
   "source": [
    "from sklearn.neighbors import KNeighborsClassifier\n",
    "\n",
    "knn_model = KNeighborsClassifier(n_neighbors=3)\n",
    "test(knn_model)"
   ]
  },
  {
   "cell_type": "markdown",
   "id": "49c3478c",
   "metadata": {},
   "source": [
    "##### Ada boost"
   ]
  },
  {
   "cell_type": "code",
   "execution_count": 20,
   "id": "3159dca0",
   "metadata": {},
   "outputs": [
    {
     "name": "stdout",
     "output_type": "stream",
     "text": [
      "Mean absolute error = 1004.66 AED\n",
      "RMSE = 2776.23 AED\n",
      "Model accuracy = 89.87 %\n"
     ]
    }
   ],
   "source": [
    "from sklearn.ensemble import AdaBoostClassifier\n",
    "\n",
    "ada_model = AdaBoostClassifier(n_estimators=100, random_state=0)\n",
    "test(ada_model)"
   ]
  },
  {
   "cell_type": "markdown",
   "id": "6e258533",
   "metadata": {},
   "source": [
    "__________________________________________________________"
   ]
  },
  {
   "cell_type": "markdown",
   "id": "f17295b8",
   "metadata": {},
   "source": [
    "It seems to be XGBoost is the best model for predicting large values and Decision tree for small values. Given the MAE and RMSE values relatively.\n",
    "\n",
    "So for values 5 digit plates I will use a decision tree and for below use XGBoost\n",
    "\n",
    "TODO: Optimize the model and the preprocessing steps further."
   ]
  },
  {
   "cell_type": "markdown",
   "id": "3d78bcdb",
   "metadata": {},
   "source": [
    "_________________________________________"
   ]
  },
  {
   "cell_type": "markdown",
   "id": "c1b0ac6e",
   "metadata": {},
   "source": [
    "## Initial testing"
   ]
  },
  {
   "cell_type": "code",
   "execution_count": 32,
   "id": "70fb31e5",
   "metadata": {},
   "outputs": [],
   "source": [
    "def predict_price(platenumber):\n",
    "    \n",
    "    XGB = 0\n",
    "    \n",
    "    num_split = platenumber.split('-')\n",
    "    \n",
    "    if len(num_split[1]) > 5:\n",
    "        return 'Invalid number plate'\n",
    "    \n",
    "    if len(num_split[1]) != 5:\n",
    "        XGB = 1\n",
    "    \n",
    "    number = int(num_split[1])\n",
    "    code = num_split[0]\n",
    "    \n",
    "    letter_num = label_map[code]\n",
    "    \n",
    "    d = {'Number': [number],\n",
    "        'Code_encoded': [letter_num]}\n",
    "    val_X = pd.DataFrame(data = d)\n",
    "    \n",
    "    return_value = xgb_model.predict(val_X)[0]\\\n",
    "                    if XGB else tree_model.predict(val_X)[0]\n",
    "\n",
    "    return f'Predicted price for plate {code}-{number} is {return_value:.2f} AED'        "
   ]
  },
  {
   "cell_type": "code",
   "execution_count": 33,
   "id": "e9b75538",
   "metadata": {},
   "outputs": [
    {
     "data": {
      "text/plain": [
       "'Predicted price for plate A-12345 is 4500.00 AED'"
      ]
     },
     "execution_count": 33,
     "metadata": {},
     "output_type": "execute_result"
    }
   ],
   "source": [
    "predict_price('A-12345')"
   ]
  },
  {
   "cell_type": "code",
   "execution_count": 36,
   "id": "7f55e29d",
   "metadata": {},
   "outputs": [
    {
     "data": {
      "text/plain": [
       "'Predicted price for plate A-10000 is 16500.00 AED'"
      ]
     },
     "execution_count": 36,
     "metadata": {},
     "output_type": "execute_result"
    }
   ],
   "source": [
    "predict_price('A-10000')"
   ]
  },
  {
   "cell_type": "code",
   "execution_count": 23,
   "id": "37d58fc1",
   "metadata": {},
   "outputs": [
    {
     "data": {
      "text/plain": [
       "'Predicted price for plate A-1234 is 16968.86 AED'"
      ]
     },
     "execution_count": 23,
     "metadata": {},
     "output_type": "execute_result"
    }
   ],
   "source": [
    "predict_price('A-1234')"
   ]
  },
  {
   "cell_type": "code",
   "execution_count": 24,
   "id": "db44c2ed",
   "metadata": {},
   "outputs": [
    {
     "data": {
      "text/plain": [
       "'Predicted price for plate A-123 is 214739.80 AED'"
      ]
     },
     "execution_count": 24,
     "metadata": {},
     "output_type": "execute_result"
    }
   ],
   "source": [
    "predict_price('A-123')"
   ]
  },
  {
   "cell_type": "markdown",
   "id": "efc3ef21",
   "metadata": {},
   "source": [
    "## Optimizing the models"
   ]
  },
  {
   "cell_type": "code",
   "execution_count": null,
   "id": "b64995a8",
   "metadata": {},
   "outputs": [],
   "source": []
  }
 ],
 "metadata": {
  "kernelspec": {
   "display_name": "Python 3",
   "language": "python",
   "name": "python3"
  },
  "language_info": {
   "codemirror_mode": {
    "name": "ipython",
    "version": 3
   },
   "file_extension": ".py",
   "mimetype": "text/x-python",
   "name": "python",
   "nbconvert_exporter": "python",
   "pygments_lexer": "ipython3",
   "version": "3.8.5"
  }
 },
 "nbformat": 4,
 "nbformat_minor": 5
}
