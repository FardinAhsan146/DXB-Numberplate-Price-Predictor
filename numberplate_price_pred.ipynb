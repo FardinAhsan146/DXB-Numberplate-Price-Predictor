{
 "cells": [
  {
   "cell_type": "markdown",
   "id": "f8a8724e",
   "metadata": {},
   "source": [
    "# Predicting numberplate price."
   ]
  },
  {
   "cell_type": "markdown",
   "id": "2bb1f292",
   "metadata": {},
   "source": [
    "A naive attempt at predicting Dubai car number plate prices using simple ML models.\n",
    "\n",
    "Data scraped from https://www.plates.ae/plates-en/plate.php"
   ]
  },
  {
   "cell_type": "code",
   "execution_count": 1,
   "id": "7a27535f",
   "metadata": {},
   "outputs": [],
   "source": [
    "from sklearn.metrics import mean_absolute_error\n",
    "from sklearn.model_selection import train_test_split\n",
    "from sklearn.metrics import mean_absolute_percentage_error\n",
    "from sklearn.preprocessing import LabelEncoder\n",
    "from sklearn.metrics import mean_squared_error\n",
    "from sklearn.preprocessing import MinMaxScaler\n",
    "\n",
    "from matplotlib import pyplot as plt\n",
    "from collections import Counter\n",
    "import warnings\n",
    "import pandas as pd\n",
    "import numpy as np\n",
    "import seaborn as sns\n",
    "import random\n",
    "import math\n",
    "import re\n",
    "\n",
    "plt.style.use('ggplot')\n",
    "warnings.filterwarnings(\"ignore\")\n",
    "plt.rcParams['figure.figsize'] = [6,4]"
   ]
  },
  {
   "cell_type": "markdown",
   "id": "9132e800",
   "metadata": {},
   "source": [
    "### Load data"
   ]
  },
  {
   "cell_type": "code",
   "execution_count": 2,
   "id": "3c60071e",
   "metadata": {},
   "outputs": [
    {
     "data": {
      "text/html": [
       "<div>\n",
       "<style scoped>\n",
       "    .dataframe tbody tr th:only-of-type {\n",
       "        vertical-align: middle;\n",
       "    }\n",
       "\n",
       "    .dataframe tbody tr th {\n",
       "        vertical-align: top;\n",
       "    }\n",
       "\n",
       "    .dataframe thead th {\n",
       "        text-align: right;\n",
       "    }\n",
       "</style>\n",
       "<table border=\"1\" class=\"dataframe\">\n",
       "  <thead>\n",
       "    <tr style=\"text-align: right;\">\n",
       "      <th></th>\n",
       "      <th>Number</th>\n",
       "      <th>Code</th>\n",
       "      <th>Price</th>\n",
       "    </tr>\n",
       "  </thead>\n",
       "  <tbody>\n",
       "    <tr>\n",
       "      <th>0</th>\n",
       "      <td>274</td>\n",
       "      <td>I</td>\n",
       "      <td>215,000AED</td>\n",
       "    </tr>\n",
       "    <tr>\n",
       "      <th>1</th>\n",
       "      <td>78888</td>\n",
       "      <td>H</td>\n",
       "      <td>72,000AED</td>\n",
       "    </tr>\n",
       "    <tr>\n",
       "      <th>2</th>\n",
       "      <td>6777</td>\n",
       "      <td>K</td>\n",
       "      <td>72,000AED</td>\n",
       "    </tr>\n",
       "    <tr>\n",
       "      <th>3</th>\n",
       "      <td>3334</td>\n",
       "      <td>R</td>\n",
       "      <td>72,000AED</td>\n",
       "    </tr>\n",
       "    <tr>\n",
       "      <th>4</th>\n",
       "      <td>22232</td>\n",
       "      <td>N</td>\n",
       "      <td>41,000AED</td>\n",
       "    </tr>\n",
       "    <tr>\n",
       "      <th>5</th>\n",
       "      <td>80088</td>\n",
       "      <td>L</td>\n",
       "      <td>25,000AED</td>\n",
       "    </tr>\n",
       "    <tr>\n",
       "      <th>6</th>\n",
       "      <td>20220</td>\n",
       "      <td>K</td>\n",
       "      <td>24,000AED</td>\n",
       "    </tr>\n",
       "    <tr>\n",
       "      <th>7</th>\n",
       "      <td>22002</td>\n",
       "      <td>K</td>\n",
       "      <td>24,000AED</td>\n",
       "    </tr>\n",
       "    <tr>\n",
       "      <th>8</th>\n",
       "      <td>30033</td>\n",
       "      <td>P</td>\n",
       "      <td>24,000AED</td>\n",
       "    </tr>\n",
       "    <tr>\n",
       "      <th>9</th>\n",
       "      <td>1160</td>\n",
       "      <td>U</td>\n",
       "      <td>21,000AED</td>\n",
       "    </tr>\n",
       "  </tbody>\n",
       "</table>\n",
       "</div>"
      ],
      "text/plain": [
       "   Number Code       Price\n",
       "0     274    I  215,000AED\n",
       "1   78888    H   72,000AED\n",
       "2    6777    K   72,000AED\n",
       "3    3334    R   72,000AED\n",
       "4   22232    N   41,000AED\n",
       "5   80088    L   25,000AED\n",
       "6   20220    K   24,000AED\n",
       "7   22002    K   24,000AED\n",
       "8   30033    P   24,000AED\n",
       "9    1160    U   21,000AED"
      ]
     },
     "execution_count": 2,
     "metadata": {},
     "output_type": "execute_result"
    }
   ],
   "source": [
    "plates = pd.read_csv('num_plates.csv')\n",
    "plates = plates[['Number', 'Code', 'Price']]\n",
    "plates.head(10)"
   ]
  },
  {
   "cell_type": "markdown",
   "id": "9f48a865",
   "metadata": {},
   "source": [
    "### Data preprocessing"
   ]
  },
  {
   "cell_type": "markdown",
   "id": "d6c429c1",
   "metadata": {},
   "source": [
    "#### Processing"
   ]
  },
  {
   "cell_type": "code",
   "execution_count": 3,
   "id": "febafb10",
   "metadata": {},
   "outputs": [],
   "source": [
    "plates['Price'] = plates['Price'].apply(lambda x: re.sub(r\"[a-zA-Z,]\",'',x)).astype(int)\n",
    "plates['Number'] = plates['Number'].astype(str)"
   ]
  },
  {
   "cell_type": "code",
   "execution_count": 4,
   "id": "a9ba27db",
   "metadata": {},
   "outputs": [
    {
     "data": {
      "text/html": [
       "<div>\n",
       "<style scoped>\n",
       "    .dataframe tbody tr th:only-of-type {\n",
       "        vertical-align: middle;\n",
       "    }\n",
       "\n",
       "    .dataframe tbody tr th {\n",
       "        vertical-align: top;\n",
       "    }\n",
       "\n",
       "    .dataframe thead th {\n",
       "        text-align: right;\n",
       "    }\n",
       "</style>\n",
       "<table border=\"1\" class=\"dataframe\">\n",
       "  <thead>\n",
       "    <tr style=\"text-align: right;\">\n",
       "      <th></th>\n",
       "      <th>Number</th>\n",
       "      <th>Code</th>\n",
       "      <th>Price</th>\n",
       "    </tr>\n",
       "  </thead>\n",
       "  <tbody>\n",
       "    <tr>\n",
       "      <th>0</th>\n",
       "      <td>274</td>\n",
       "      <td>I</td>\n",
       "      <td>215000</td>\n",
       "    </tr>\n",
       "    <tr>\n",
       "      <th>1</th>\n",
       "      <td>78888</td>\n",
       "      <td>H</td>\n",
       "      <td>72000</td>\n",
       "    </tr>\n",
       "    <tr>\n",
       "      <th>2</th>\n",
       "      <td>6777</td>\n",
       "      <td>K</td>\n",
       "      <td>72000</td>\n",
       "    </tr>\n",
       "    <tr>\n",
       "      <th>3</th>\n",
       "      <td>3334</td>\n",
       "      <td>R</td>\n",
       "      <td>72000</td>\n",
       "    </tr>\n",
       "    <tr>\n",
       "      <th>4</th>\n",
       "      <td>22232</td>\n",
       "      <td>N</td>\n",
       "      <td>41000</td>\n",
       "    </tr>\n",
       "    <tr>\n",
       "      <th>...</th>\n",
       "      <td>...</td>\n",
       "      <td>...</td>\n",
       "      <td>...</td>\n",
       "    </tr>\n",
       "    <tr>\n",
       "      <th>1452</th>\n",
       "      <td>98828</td>\n",
       "      <td>U</td>\n",
       "      <td>2400</td>\n",
       "    </tr>\n",
       "    <tr>\n",
       "      <th>1453</th>\n",
       "      <td>99232</td>\n",
       "      <td>U</td>\n",
       "      <td>2400</td>\n",
       "    </tr>\n",
       "    <tr>\n",
       "      <th>1454</th>\n",
       "      <td>99373</td>\n",
       "      <td>U</td>\n",
       "      <td>2400</td>\n",
       "    </tr>\n",
       "    <tr>\n",
       "      <th>1455</th>\n",
       "      <td>99585</td>\n",
       "      <td>U</td>\n",
       "      <td>2400</td>\n",
       "    </tr>\n",
       "    <tr>\n",
       "      <th>1456</th>\n",
       "      <td>99646</td>\n",
       "      <td>U</td>\n",
       "      <td>2400</td>\n",
       "    </tr>\n",
       "  </tbody>\n",
       "</table>\n",
       "<p>1457 rows × 3 columns</p>\n",
       "</div>"
      ],
      "text/plain": [
       "     Number Code   Price\n",
       "0       274    I  215000\n",
       "1     78888    H   72000\n",
       "2      6777    K   72000\n",
       "3      3334    R   72000\n",
       "4     22232    N   41000\n",
       "...     ...  ...     ...\n",
       "1452  98828    U    2400\n",
       "1453  99232    U    2400\n",
       "1454  99373    U    2400\n",
       "1455  99585    U    2400\n",
       "1456  99646    U    2400\n",
       "\n",
       "[1457 rows x 3 columns]"
      ]
     },
     "execution_count": 4,
     "metadata": {},
     "output_type": "execute_result"
    }
   ],
   "source": [
    "plates"
   ]
  },
  {
   "cell_type": "markdown",
   "id": "a9d5792e",
   "metadata": {},
   "source": [
    "### Dataset info"
   ]
  },
  {
   "cell_type": "code",
   "execution_count": 5,
   "id": "7ba33887",
   "metadata": {},
   "outputs": [
    {
     "name": "stdout",
     "output_type": "stream",
     "text": [
      "<class 'pandas.core.frame.DataFrame'>\n",
      "RangeIndex: 1457 entries, 0 to 1456\n",
      "Data columns (total 3 columns):\n",
      " #   Column  Non-Null Count  Dtype \n",
      "---  ------  --------------  ----- \n",
      " 0   Number  1457 non-null   object\n",
      " 1   Code    1457 non-null   object\n",
      " 2   Price   1457 non-null   int32 \n",
      "dtypes: int32(1), object(2)\n",
      "memory usage: 28.6+ KB\n"
     ]
    }
   ],
   "source": [
    "plates.info()"
   ]
  },
  {
   "cell_type": "markdown",
   "id": "6630e03d",
   "metadata": {},
   "source": [
    "## EDA"
   ]
  },
  {
   "cell_type": "code",
   "execution_count": 6,
   "id": "92e03d0b",
   "metadata": {},
   "outputs": [
    {
     "data": {
      "text/html": [
       "<div>\n",
       "<style scoped>\n",
       "    .dataframe tbody tr th:only-of-type {\n",
       "        vertical-align: middle;\n",
       "    }\n",
       "\n",
       "    .dataframe tbody tr th {\n",
       "        vertical-align: top;\n",
       "    }\n",
       "\n",
       "    .dataframe thead th {\n",
       "        text-align: right;\n",
       "    }\n",
       "</style>\n",
       "<table border=\"1\" class=\"dataframe\">\n",
       "  <thead>\n",
       "    <tr style=\"text-align: right;\">\n",
       "      <th></th>\n",
       "      <th>Number</th>\n",
       "      <th>Price</th>\n",
       "      <th>Code</th>\n",
       "      <th>n_l</th>\n",
       "    </tr>\n",
       "  </thead>\n",
       "  <tbody>\n",
       "    <tr>\n",
       "      <th>0</th>\n",
       "      <td>274</td>\n",
       "      <td>215000</td>\n",
       "      <td>I</td>\n",
       "      <td>3</td>\n",
       "    </tr>\n",
       "    <tr>\n",
       "      <th>1</th>\n",
       "      <td>78888</td>\n",
       "      <td>72000</td>\n",
       "      <td>H</td>\n",
       "      <td>5</td>\n",
       "    </tr>\n",
       "    <tr>\n",
       "      <th>2</th>\n",
       "      <td>6777</td>\n",
       "      <td>72000</td>\n",
       "      <td>K</td>\n",
       "      <td>4</td>\n",
       "    </tr>\n",
       "    <tr>\n",
       "      <th>3</th>\n",
       "      <td>3334</td>\n",
       "      <td>72000</td>\n",
       "      <td>R</td>\n",
       "      <td>4</td>\n",
       "    </tr>\n",
       "    <tr>\n",
       "      <th>4</th>\n",
       "      <td>22232</td>\n",
       "      <td>41000</td>\n",
       "      <td>N</td>\n",
       "      <td>5</td>\n",
       "    </tr>\n",
       "  </tbody>\n",
       "</table>\n",
       "</div>"
      ],
      "text/plain": [
       "  Number   Price Code  n_l\n",
       "0    274  215000    I    3\n",
       "1  78888   72000    H    5\n",
       "2   6777   72000    K    4\n",
       "3   3334   72000    R    4\n",
       "4  22232   41000    N    5"
      ]
     },
     "execution_count": 6,
     "metadata": {},
     "output_type": "execute_result"
    }
   ],
   "source": [
    "plates_plot = plates[['Number','Price','Code']]\n",
    "plates_plot['Number'] = plates_plot['Number'].astype(str)\n",
    "plates_plot['n_l'] = plates_plot['Number'].apply(lambda x: len(x))\n",
    "plates_plot.head()"
   ]
  },
  {
   "cell_type": "code",
   "execution_count": 7,
   "id": "6c219af8",
   "metadata": {},
   "outputs": [
    {
     "name": "stdout",
     "output_type": "stream",
     "text": [
      "<class 'pandas.core.frame.DataFrame'>\n",
      "RangeIndex: 1457 entries, 0 to 1456\n",
      "Data columns (total 4 columns):\n",
      " #   Column  Non-Null Count  Dtype \n",
      "---  ------  --------------  ----- \n",
      " 0   Number  1457 non-null   object\n",
      " 1   Price   1457 non-null   int32 \n",
      " 2   Code    1457 non-null   object\n",
      " 3   n_l     1457 non-null   int64 \n",
      "dtypes: int32(1), int64(1), object(2)\n",
      "memory usage: 40.0+ KB\n"
     ]
    }
   ],
   "source": [
    "plates_plot.info()"
   ]
  },
  {
   "cell_type": "markdown",
   "id": "1feddfcb",
   "metadata": {},
   "source": [
    "### Number of digits"
   ]
  },
  {
   "cell_type": "code",
   "execution_count": 8,
   "id": "a35f80c3",
   "metadata": {},
   "outputs": [
    {
     "data": {
      "image/png": "[encoded data removed]",
      "text/plain": [
       "<Figure size 432x288 with 1 Axes>"
      ]
     },
     "metadata": {},
     "output_type": "display_data"
    }
   ],
   "source": [
    "plates_plot['n_l'].value_counts().plot(kind = 'bar', color = 'blue');\n",
    "plt.title('Number of digits');\n",
    "plt.xlabel('Digits');\n",
    "plt.ylabel('Count');"
   ]
  },
  {
   "cell_type": "markdown",
   "id": "59803221",
   "metadata": {},
   "source": [
    "### Average price by # of digits"
   ]
  },
  {
   "cell_type": "code",
   "execution_count": 9,
   "id": "cd0479cb",
   "metadata": {},
   "outputs": [
    {
     "data": {
      "image/png": "[encoded data removed]",
      "text/plain": [
       "<Figure size 432x288 with 1 Axes>"
      ]
     },
     "metadata": {},
     "output_type": "display_data"
    }
   ],
   "source": [
    "plates_plot.groupby(['n_l'])['Price'].mean().plot(kind = 'bar', color = 'blue');\n",
    "plt.title('Average price by digit');\n",
    "plt.xlabel('Price (AED)');\n",
    "plt.ylabel('Digit (#)');"
   ]
  },
  {
   "cell_type": "markdown",
   "id": "1358235f",
   "metadata": {},
   "source": [
    "### Average price by letter"
   ]
  },
  {
   "cell_type": "code",
   "execution_count": 10,
   "id": "fd398fd4",
   "metadata": {},
   "outputs": [
    {
     "data": {
      "image/png": "[encoded data removed]",
      "text/plain": [
       "<Figure size 432x288 with 1 Axes>"
      ]
     },
     "metadata": {},
     "output_type": "display_data"
    }
   ],
   "source": [
    "only_fives = plates_plot.loc[plates_plot['n_l'] == 5]\n",
    "\n",
    "b_plot = only_fives.groupby(['Code'])['Price'].mean().sort_values()\n",
    "\n",
    "b_plot.plot(kind = 'bar', color = 'blue');\n",
    "plt.title('Average price by code');\n",
    "plt.xlabel('Code');\n",
    "plt.ylabel('Average price (AED)');"
   ]
  },
  {
   "cell_type": "code",
   "execution_count": 11,
   "id": "07bdf1cf",
   "metadata": {},
   "outputs": [
    {
     "data": {
      "image/png": "[encoded data removed]",
      "text/plain": [
       "<Figure size 432x288 with 1 Axes>"
      ]
     },
     "metadata": {},
     "output_type": "display_data"
    }
   ],
   "source": [
    "plates_plot['Code'].value_counts().plot(kind = 'bar', color = 'blue');\n",
    "plt.title('Number of letters');\n",
    "plt.xlabel('Code');\n",
    "plt.ylabel('Count');"
   ]
  },
  {
   "cell_type": "markdown",
   "id": "12e875b1",
   "metadata": {},
   "source": [
    "## Feature engineering"
   ]
  },
  {
   "cell_type": "code",
   "execution_count": 12,
   "id": "e5d7d9ce",
   "metadata": {},
   "outputs": [],
   "source": [
    "#Encode categorical values, turns letters into numbers\n",
    "# Probably not gonna use this as a feature as it has almost no correlation with target\n",
    "label_encoder = LabelEncoder()\n",
    "plates['Code_encoded'] = label_encoder.fit_transform(plates['Code'])\n",
    "\n",
    "#Mapping to use later for single data point prediction\n",
    "label_map = {k:v for k,v in zip(label_encoder.classes_,range(len(label_encoder.classes_)))}"
   ]
  },
  {
   "cell_type": "markdown",
   "id": "367c0145",
   "metadata": {},
   "source": [
    "#### Shannon entropy"
   ]
  },
  {
   "cell_type": "markdown",
   "id": "5b27ef2c",
   "metadata": {},
   "source": [
    "The Shannon Entropy is a measure of the expected value of information a message contains in bits. Number plates with more digits and less unique values tend to be pricier, but the more the unqiue digits the lesser the price, so the shannons entropy of the number plate might capture that pattern well.\n",
    "\n",
    "$H(X) = -\\Large\\sum_{i=1}^{n}P_{r}(x_{i})(log_{b}P_{r}(x_{i}))$"
   ]
  },
  {
   "cell_type": "code",
   "execution_count": 13,
   "id": "7fd4f103",
   "metadata": {},
   "outputs": [],
   "source": [
    "def entropy(string):\n",
    "    '''Calculates the Shannon entropy of a string'''\n",
    "    \n",
    "    prob = [ float(string.count(c)) / len(string) for c in dict.fromkeys(list(string)) ]\n",
    "    return - sum(p * math.log(p) / math.log(2.0) for p in prob)"
   ]
  },
  {
   "cell_type": "code",
   "execution_count": 14,
   "id": "2bcec6c9",
   "metadata": {},
   "outputs": [
    {
     "data": {
      "text/html": [
       "<div>\n",
       "<style scoped>\n",
       "    .dataframe tbody tr th:only-of-type {\n",
       "        vertical-align: middle;\n",
       "    }\n",
       "\n",
       "    .dataframe tbody tr th {\n",
       "        vertical-align: top;\n",
       "    }\n",
       "\n",
       "    .dataframe thead th {\n",
       "        text-align: right;\n",
       "    }\n",
       "</style>\n",
       "<table border=\"1\" class=\"dataframe\">\n",
       "  <thead>\n",
       "    <tr style=\"text-align: right;\">\n",
       "      <th></th>\n",
       "      <th>Number</th>\n",
       "      <th>Code</th>\n",
       "      <th>Price</th>\n",
       "      <th>Code_encoded</th>\n",
       "      <th>num_digits</th>\n",
       "      <th>unique_digits</th>\n",
       "      <th>max_group</th>\n",
       "      <th>shan_entrop</th>\n",
       "      <th>number_int</th>\n",
       "    </tr>\n",
       "  </thead>\n",
       "  <tbody>\n",
       "    <tr>\n",
       "      <th>0</th>\n",
       "      <td>274</td>\n",
       "      <td>I</td>\n",
       "      <td>215000</td>\n",
       "      <td>6</td>\n",
       "      <td>3</td>\n",
       "      <td>3</td>\n",
       "      <td>1</td>\n",
       "      <td>1.584963</td>\n",
       "      <td>274</td>\n",
       "    </tr>\n",
       "    <tr>\n",
       "      <th>1</th>\n",
       "      <td>78888</td>\n",
       "      <td>H</td>\n",
       "      <td>72000</td>\n",
       "      <td>5</td>\n",
       "      <td>5</td>\n",
       "      <td>2</td>\n",
       "      <td>4</td>\n",
       "      <td>0.721928</td>\n",
       "      <td>78888</td>\n",
       "    </tr>\n",
       "    <tr>\n",
       "      <th>2</th>\n",
       "      <td>6777</td>\n",
       "      <td>K</td>\n",
       "      <td>72000</td>\n",
       "      <td>8</td>\n",
       "      <td>4</td>\n",
       "      <td>2</td>\n",
       "      <td>3</td>\n",
       "      <td>0.811278</td>\n",
       "      <td>6777</td>\n",
       "    </tr>\n",
       "    <tr>\n",
       "      <th>3</th>\n",
       "      <td>3334</td>\n",
       "      <td>R</td>\n",
       "      <td>72000</td>\n",
       "      <td>15</td>\n",
       "      <td>4</td>\n",
       "      <td>2</td>\n",
       "      <td>3</td>\n",
       "      <td>0.811278</td>\n",
       "      <td>3334</td>\n",
       "    </tr>\n",
       "    <tr>\n",
       "      <th>4</th>\n",
       "      <td>22232</td>\n",
       "      <td>N</td>\n",
       "      <td>41000</td>\n",
       "      <td>11</td>\n",
       "      <td>5</td>\n",
       "      <td>2</td>\n",
       "      <td>4</td>\n",
       "      <td>0.721928</td>\n",
       "      <td>22232</td>\n",
       "    </tr>\n",
       "  </tbody>\n",
       "</table>\n",
       "</div>"
      ],
      "text/plain": [
       "  Number Code   Price  Code_encoded  num_digits  unique_digits  max_group  \\\n",
       "0    274    I  215000             6           3              3          1   \n",
       "1  78888    H   72000             5           5              2          4   \n",
       "2   6777    K   72000             8           4              2          3   \n",
       "3   3334    R   72000            15           4              2          3   \n",
       "4  22232    N   41000            11           5              2          4   \n",
       "\n",
       "   shan_entrop  number_int  \n",
       "0     1.584963         274  \n",
       "1     0.721928       78888  \n",
       "2     0.811278        6777  \n",
       "3     0.811278        3334  \n",
       "4     0.721928       22232  "
      ]
     },
     "execution_count": 14,
     "metadata": {},
     "output_type": "execute_result"
    }
   ],
   "source": [
    "# Create features\n",
    "# Adding in features that I think should capture buying patterns\n",
    "\n",
    "plates['num_digits'] = plates_plot['Number'].apply(lambda x: len(x))\n",
    "plates['unique_digits'] = plates_plot['Number'].apply(lambda x: len(set(x)))\n",
    "plates['max_group'] = plates_plot['Number'].apply(lambda x: Counter(x).most_common(1)[0][1])\n",
    "plates['shan_entrop'] = plates_plot['Number'].apply(entropy)\n",
    "plates['number_int'] = plates_plot['Number'].astype(int)\n",
    "\n",
    "# I am not normalizing data\n",
    "#because it doesn't seem to me that that there will be that big of a difference\n",
    "#due to the ranges of the features being small. However the num_int can have a large influence, which it should. \n",
    "\n",
    "# Normalized features for testing\n",
    "# Code is going to be left commented out if performance is not better.\n",
    "\n",
    "plates.head()"
   ]
  },
  {
   "cell_type": "markdown",
   "id": "02047d8f",
   "metadata": {},
   "source": [
    "### Feature plots"
   ]
  },
  {
   "cell_type": "markdown",
   "id": "3a7a2b6b",
   "metadata": {},
   "source": [
    "Looking at some plots of how the features correspond to the target might will help."
   ]
  },
  {
   "cell_type": "code",
   "execution_count": 15,
   "id": "1517d209",
   "metadata": {},
   "outputs": [
    {
     "data": {
      "image/png": "[encoded data removed]",
      "text/plain": [
       "<Figure size 435.125x360 with 1 Axes>"
      ]
     },
     "metadata": {},
     "output_type": "display_data"
    }
   ],
   "source": [
    "sns.lmplot(x = \"shan_entrop\", y = \"Price\", hue = \"unique_digits\", data = plates);\n",
    "plt.title('Entropy vs features');"
   ]
  },
  {
   "cell_type": "code",
   "execution_count": 16,
   "id": "413ff493",
   "metadata": {},
   "outputs": [
    {
     "data": {
      "image/png": "[encoded data removed]",
      "text/plain": [
       "<Figure size 360x360 with 1 Axes>"
      ]
     },
     "metadata": {},
     "output_type": "display_data"
    }
   ],
   "source": [
    "sns.relplot(x = \"unique_digits\", y = \"Price\", data = plates);\n",
    "plt.title('Digits, Prices');"
   ]
  },
  {
   "cell_type": "code",
   "execution_count": 17,
   "id": "9d8be408",
   "metadata": {},
   "outputs": [
    {
     "data": {
      "image/png": "[encoded data removed]",
      "text/plain": [
       "<Figure size 360x360 with 1 Axes>"
      ]
     },
     "metadata": {},
     "output_type": "display_data"
    }
   ],
   "source": [
    "sns.relplot(x = \"Code\", y = \"Price\", data = plates);\n",
    "plt.title('Code, Prices');"
   ]
  },
  {
   "cell_type": "code",
   "execution_count": 18,
   "id": "f9302699",
   "metadata": {},
   "outputs": [
    {
     "data": {
      "image/png": "[encoded data removed]",
      "text/plain": [
       "<Figure size 360x360 with 1 Axes>"
      ]
     },
     "metadata": {},
     "output_type": "display_data"
    }
   ],
   "source": [
    "sns.relplot(x = \"max_group\", y = \"Price\", data = plates);\n",
    "plt.title('Grouping, Prices');"
   ]
  },
  {
   "cell_type": "markdown",
   "id": "8dd3b20e",
   "metadata": {},
   "source": [
    "### Price Distribution\n",
    "\n",
    "I would consider normalizing it, but none of the algos I will use require it, so I'll skip that step in this case."
   ]
  },
  {
   "cell_type": "code",
   "execution_count": 19,
   "id": "bab26587",
   "metadata": {},
   "outputs": [
    {
     "data": {
      "image/png": "[encoded data removed]",
      "text/plain": [
       "<Figure size 432x288 with 1 Axes>"
      ]
     },
     "metadata": {},
     "output_type": "display_data"
    }
   ],
   "source": [
    "sns.kdeplot(plates[\"Price\"], shade=True);"
   ]
  },
  {
   "cell_type": "code",
   "execution_count": 20,
   "id": "65bf6707",
   "metadata": {},
   "outputs": [
    {
     "data": {
      "image/png": "[encoded data removed]",
      "text/plain": [
       "<Figure size 432x288 with 1 Axes>"
      ]
     },
     "metadata": {},
     "output_type": "display_data"
    }
   ],
   "source": [
    "sns.scatterplot(x = 'number_int', y = 'Price', data = plates);"
   ]
  },
  {
   "cell_type": "markdown",
   "id": "ab8c3e25",
   "metadata": {},
   "source": [
    "# Testing the different ML models"
   ]
  },
  {
   "cell_type": "code",
   "execution_count": 21,
   "id": "ea38e00c",
   "metadata": {},
   "outputs": [],
   "source": [
    "# Create X and Y\n",
    "y = plates['Price']\n",
    "features = ['unique_digits', 'shan_entrop','num_digits','max_group','number_int']\n",
    "X = plates[features]\n",
    "\n",
    "# normalizing inputs \n",
    "X = MinMaxScaler().fit(X).transform(X)\n",
    "\n",
    "# Create the test train split\n",
    "train_X, val_X, train_y, val_y = train_test_split(X, y,random_state = 0)"
   ]
  },
  {
   "cell_type": "code",
   "execution_count": 22,
   "id": "036c2368",
   "metadata": {},
   "outputs": [],
   "source": [
    "'''\n",
    "Helper function to help train and evaluate models\n",
    "Keep in mind this is VERY SIMPLE and just for testing, if we want to make things accurate..\n",
    "We are going to have to do a lot more work, but at the end maybe we can\n",
    "Squeeze out 3-4% more performance which I don't think is worth it.\n",
    "\n",
    "'''\n",
    "def test(model):\n",
    "    model.fit(train_X, train_y)\n",
    "    y_pred = model.predict(val_X)\n",
    "\n",
    "    print(f'Mean absolute error = {mean_absolute_error(val_y, y_pred):.2f} AED')\n",
    "    print(f'RMSE = {mean_squared_error(val_y, y_pred, squared = 0):.2f} AED')\n",
    "    print(f'Model accuracy = {(1 - mean_absolute_percentage_error(val_y, y_pred))*100:.2f} %')\n",
    "    \n",
    "    model_name = re.findall(r'(?<=\\.)[a-zA-Z]+(?=\\')',str(model.__class__))[0]\n",
    "    \n",
    "    sns.scatterplot(x = val_y,y =  y_pred)\n",
    "    plt.title(f'{model_name}')\n",
    "    plt.xlabel('Actual')\n",
    "    plt.ylabel('Predicted')"
   ]
  },
  {
   "cell_type": "markdown",
   "id": "31b8be6f",
   "metadata": {},
   "source": [
    "##### Random Forest"
   ]
  },
  {
   "cell_type": "code",
   "execution_count": 23,
   "id": "74f80a58",
   "metadata": {},
   "outputs": [
    {
     "name": "stdout",
     "output_type": "stream",
     "text": [
      "Mean absolute error = 614.18 AED\n",
      "RMSE = 2203.69 AED\n",
      "Model accuracy = 90.28 %\n"
     ]
    },
    {
     "data": {
      "image/png": "[encoded data removed]",
      "text/plain": [
       "<Figure size 432x288 with 1 Axes>"
      ]
     },
     "metadata": {},
     "output_type": "display_data"
    }
   ],
   "source": [
    "from sklearn.ensemble import RandomForestRegressor\n",
    "\n",
    "forest_model = RandomForestRegressor(random_state=1)\n",
    "test(forest_model)"
   ]
  },
  {
   "cell_type": "markdown",
   "id": "d1c012b3",
   "metadata": {},
   "source": [
    "##### XGB"
   ]
  },
  {
   "cell_type": "code",
   "execution_count": 24,
   "id": "064b9ba4",
   "metadata": {},
   "outputs": [
    {
     "name": "stdout",
     "output_type": "stream",
     "text": [
      "Mean absolute error = 560.04 AED\n",
      "RMSE = 1789.72 AED\n",
      "Model accuracy = 89.70 %\n"
     ]
    },
    {
     "data": {
      "image/png": "[encoded data removed]",
      "text/plain": [
       "<Figure size 432x288 with 1 Axes>"
      ]
     },
     "metadata": {},
     "output_type": "display_data"
    }
   ],
   "source": [
    "from xgboost import XGBRegressor\n",
    "\n",
    "xgb_model = XGBRegressor()\n",
    "test(xgb_model)"
   ]
  },
  {
   "cell_type": "markdown",
   "id": "16b308c6",
   "metadata": {},
   "source": [
    "##### Lin Reg"
   ]
  },
  {
   "cell_type": "code",
   "execution_count": 25,
   "id": "63e19b08",
   "metadata": {},
   "outputs": [
    {
     "name": "stdout",
     "output_type": "stream",
     "text": [
      "Mean absolute error = 1023.44 AED\n",
      "RMSE = 3259.57 AED\n",
      "Model accuracy = 81.16 %\n"
     ]
    },
    {
     "data": {
      "image/png": "[encoded data removed]",
      "text/plain": [
       "<Figure size 432x288 with 1 Axes>"
      ]
     },
     "metadata": {},
     "output_type": "display_data"
    }
   ],
   "source": [
    "from sklearn.linear_model import LinearRegression\n",
    "\n",
    "linear_reg_model = LinearRegression()\n",
    "test(linear_reg_model)"
   ]
  },
  {
   "cell_type": "markdown",
   "id": "b98b3f6a",
   "metadata": {},
   "source": [
    "##### Decision Tree"
   ]
  },
  {
   "cell_type": "code",
   "execution_count": 26,
   "id": "9fb2ea67",
   "metadata": {},
   "outputs": [
    {
     "name": "stdout",
     "output_type": "stream",
     "text": [
      "Mean absolute error = 872.88 AED\n",
      "RMSE = 1678.56 AED\n",
      "Model accuracy = 90.21 %\n"
     ]
    },
    {
     "data": {
      "image/png": "[encoded data removed]",
      "text/plain": [
       "<Figure size 432x288 with 1 Axes>"
      ]
     },
     "metadata": {},
     "output_type": "display_data"
    }
   ],
   "source": [
    "from sklearn import tree\n",
    "\n",
    "tree_model = tree.DecisionTreeClassifier()\n",
    "test(tree_model)"
   ]
  },
  {
   "cell_type": "markdown",
   "id": "d539641d",
   "metadata": {},
   "source": [
    "##### Neural network"
   ]
  },
  {
   "cell_type": "code",
   "execution_count": 27,
   "id": "dea5eda7",
   "metadata": {},
   "outputs": [
    {
     "name": "stdout",
     "output_type": "stream",
     "text": [
      "Mean absolute error = 1018.08 AED\n",
      "RMSE = 2433.68 AED\n",
      "Model accuracy = 89.42 %\n"
     ]
    },
    {
     "data": {
      "image/png": "[encoded data removed]",
      "text/plain": [
       "<Figure size 432x288 with 1 Axes>"
      ]
     },
     "metadata": {},
     "output_type": "display_data"
    }
   ],
   "source": [
    "from sklearn.neural_network import MLPClassifier\n",
    "\n",
    "nn_model = MLPClassifier(solver='lbfgs', alpha=1e-5, hidden_layer_sizes=(10, 4), random_state=1)\n",
    "test(nn_model)"
   ]
  },
  {
   "cell_type": "markdown",
   "id": "95c38573",
   "metadata": {},
   "source": [
    "##### KNN"
   ]
  },
  {
   "cell_type": "code",
   "execution_count": 28,
   "id": "e853d7f7",
   "metadata": {},
   "outputs": [
    {
     "name": "stdout",
     "output_type": "stream",
     "text": [
      "Mean absolute error = 886.58 AED\n",
      "RMSE = 1040.00 AED\n",
      "Model accuracy = 90.62 %\n"
     ]
    },
    {
     "data": {
      "image/png": "[encoded data removed]",
      "text/plain": [
       "<Figure size 432x288 with 1 Axes>"
      ]
     },
     "metadata": {},
     "output_type": "display_data"
    }
   ],
   "source": [
    "from sklearn.neighbors import KNeighborsClassifier\n",
    "\n",
    "knn_model = KNeighborsClassifier(n_neighbors=3)\n",
    "test(knn_model)"
   ]
  },
  {
   "cell_type": "markdown",
   "id": "49c3478c",
   "metadata": {},
   "source": [
    "##### Ada boost"
   ]
  },
  {
   "cell_type": "code",
   "execution_count": 29,
   "id": "3159dca0",
   "metadata": {},
   "outputs": [
    {
     "name": "stdout",
     "output_type": "stream",
     "text": [
      "Mean absolute error = 687.67 AED\n",
      "RMSE = 2671.42 AED\n",
      "Model accuracy = 89.38 %\n"
     ]
    },
    {
     "data": {
      "image/png": "[encoded data removed]",
      "text/plain": [
       "<Figure size 432x288 with 1 Axes>"
      ]
     },
     "metadata": {},
     "output_type": "display_data"
    }
   ],
   "source": [
    "from sklearn.ensemble import AdaBoostClassifier\n",
    "\n",
    "ada_model = AdaBoostClassifier(n_estimators=100, random_state=0)\n",
    "test(ada_model)"
   ]
  },
  {
   "cell_type": "markdown",
   "id": "6e258533",
   "metadata": {},
   "source": [
    "__________________________________________________________"
   ]
  },
  {
   "cell_type": "markdown",
   "id": "f17295b8",
   "metadata": {},
   "source": [
    "It seems to be XGBoost is the best model for predicting large values and Decision tree for small values. Given the MAE and RMSE values relatively.\n",
    "\n",
    "So for values 5 digit plates I will use a decision tree and for below use XGBoost\n",
    "\n",
    "TODO: Optimize the model and the preprocessing steps further."
   ]
  },
  {
   "cell_type": "markdown",
   "id": "3d78bcdb",
   "metadata": {},
   "source": [
    "_________________________________________"
   ]
  },
  {
   "cell_type": "markdown",
   "id": "c1b0ac6e",
   "metadata": {},
   "source": [
    "## Initial testing"
   ]
  },
  {
   "cell_type": "markdown",
   "id": "1e86f2ca",
   "metadata": {},
   "source": [
    "Testing a function to predict one off prices, NOT A MODEL."
   ]
  },
  {
   "cell_type": "code",
   "execution_count": 30,
   "id": "70fb31e5",
   "metadata": {},
   "outputs": [],
   "source": [
    "'''\n",
    "I combined XGB and DecisionTree classifiers for large and small numbers to play to their strengths\n",
    "For a small number we would want a model with a small mean absolute error, whilst for a large number we would \n",
    "\n",
    "'''\n",
    "\n",
    "def predict_price(platenumber):\n",
    "       \n",
    "    code,number = platenumber.split('-')\n",
    "    \n",
    "    if len(number) not in range(2,6):\n",
    "        return 'Invalid number plate'\n",
    "    \n",
    "    letter_num = label_map[code]\n",
    "    \n",
    "    d = {'number_int':[int(number)],\n",
    "        'num_digits':[len(number)],\n",
    "        'unique_digits':[len(set(number))],\n",
    "        'shan_entrop':[entropy(number)],\n",
    "        'max_group':[Counter(number).most_common(1)[0][1]]}\n",
    "    \n",
    "    val_X = pd.DataFrame(data = d)\n",
    "    \n",
    "    return_value = xgb_model.predict(val_X)[0]\n",
    "\n",
    "    return f'Predicted price for plate {code}-{number} is {return_value:.2f} AED'        "
   ]
  },
  {
   "cell_type": "code",
   "execution_count": 31,
   "id": "e9b75538",
   "metadata": {},
   "outputs": [
    {
     "data": {
      "text/plain": [
       "'Predicted price for plate A-12345 is 2298.11 AED'"
      ]
     },
     "execution_count": 31,
     "metadata": {},
     "output_type": "execute_result"
    }
   ],
   "source": [
    "predict_price('A-12345')"
   ]
  },
  {
   "cell_type": "code",
   "execution_count": 32,
   "id": "795a227e",
   "metadata": {},
   "outputs": [
    {
     "data": {
      "text/plain": [
       "'Predicted price for plate A-10000 is 2298.11 AED'"
      ]
     },
     "execution_count": 32,
     "metadata": {},
     "output_type": "execute_result"
    }
   ],
   "source": [
    "predict_price('A-10000')"
   ]
  },
  {
   "cell_type": "code",
   "execution_count": 33,
   "id": "37d58fc1",
   "metadata": {},
   "outputs": [
    {
     "data": {
      "text/plain": [
       "'Predicted price for plate A-1234 is 2298.11 AED'"
      ]
     },
     "execution_count": 33,
     "metadata": {},
     "output_type": "execute_result"
    }
   ],
   "source": [
    "predict_price('A-1234')"
   ]
  },
  {
   "cell_type": "code",
   "execution_count": 34,
   "id": "db44c2ed",
   "metadata": {},
   "outputs": [
    {
     "data": {
      "text/plain": [
       "'Predicted price for plate A-123 is 2298.11 AED'"
      ]
     },
     "execution_count": 34,
     "metadata": {},
     "output_type": "execute_result"
    }
   ],
   "source": [
    "predict_price('A-123')"
   ]
  },
  {
   "cell_type": "code",
   "execution_count": 35,
   "id": "acd1019a",
   "metadata": {},
   "outputs": [
    {
     "data": {
      "text/plain": [
       "'Predicted price for plate B-31256 is 2298.11 AED'"
      ]
     },
     "execution_count": 35,
     "metadata": {},
     "output_type": "execute_result"
    }
   ],
   "source": [
    "predict_price('B-31256')"
   ]
  },
  {
   "cell_type": "markdown",
   "id": "2f81b35b",
   "metadata": {},
   "source": [
    "Despite the relative high accuracy the models fail to predict accurately around outlier values due to the inherent nature of the data, thus just a pure old school ML algo might not be the best way to go ahead."
   ]
  },
  {
   "cell_type": "markdown",
   "id": "cc964b75",
   "metadata": {},
   "source": [
    "## Hyperparameter tuning"
   ]
  },
  {
   "cell_type": "markdown",
   "id": "64c5d391",
   "metadata": {},
   "source": [
    "#### XGBoost"
   ]
  },
  {
   "cell_type": "code",
   "execution_count": 36,
   "id": "72f71d9c",
   "metadata": {},
   "outputs": [],
   "source": [
    "from hyperopt import STATUS_OK, Trials, fmin, hp, tpe"
   ]
  },
  {
   "cell_type": "code",
   "execution_count": 37,
   "id": "26b63a8d",
   "metadata": {},
   "outputs": [
    {
     "name": "stdout",
     "output_type": "stream",
     "text": [
      "100%|██████████| 100/100 [00:03<00:00, 31.44trial/s, best loss: 945.2327141748716]\n"
     ]
    }
   ],
   "source": [
    "space={ 'max_depth': hp.quniform(\"max_depth\", 3, 18, 1),\n",
    "        'alpha' : hp.quniform('reg_alpha', 40,180,1),\n",
    "        'learning_rate' : 0.1,\n",
    "        'colsample_bytree' : hp.uniform('colsample_bytree', 0.5,1),\n",
    "        'n_estimators': 10\n",
    "}\n",
    "\n",
    "def objective(space):\n",
    "    clf=XGBRegressor(\n",
    "                    n_estimators =space['n_estimators'],\n",
    "                    max_depth = int(space['max_depth']),\n",
    "                    alpha = int(space['alpha']),\n",
    "                    colsample_bytree=int(space['colsample_bytree']))\n",
    "    \n",
    "    clf.fit(train_X, train_y)\n",
    "    \n",
    "\n",
    "    pred = clf.predict(val_X)\n",
    "    accuracy = 1 - mean_absolute_error(val_y, pred)\n",
    "    return {'loss': -accuracy, 'status': STATUS_OK }\n",
    "\n",
    "trials = Trials()\n",
    "\n",
    "best_hyperparams = fmin(fn = objective,\n",
    "                        space = space,\n",
    "                        algo = tpe.suggest,\n",
    "                        max_evals = 100,\n",
    "                        trials = trials)"
   ]
  },
  {
   "cell_type": "code",
   "execution_count": 38,
   "id": "3c0da987",
   "metadata": {},
   "outputs": [
    {
     "data": {
      "text/plain": [
       "{'colsample_bytree': 0.7469971177485533, 'max_depth': 17.0, 'reg_alpha': 79.0}"
      ]
     },
     "execution_count": 38,
     "metadata": {},
     "output_type": "execute_result"
    }
   ],
   "source": [
    "best_hyperparams"
   ]
  },
  {
   "cell_type": "code",
   "execution_count": 39,
   "id": "ffd118b4",
   "metadata": {},
   "outputs": [
    {
     "name": "stdout",
     "output_type": "stream",
     "text": [
      "Mean absolute error = 635.07 AED\n",
      "RMSE = 2483.35 AED\n",
      "Model accuracy = 89.44 %\n"
     ]
    }
   ],
   "source": [
    "model = XGBRegressor(colsample_bytree= 0.9380797469131581, max_depth = 4, reg_alpha = 45.0\n",
    "                     ,learning_rate = 0.6, n_estimators = 100)\n",
    "model.fit(train_X, train_y)\n",
    "y_pred = model.predict(val_X)\n",
    "\n",
    "print(f'Mean absolute error = {mean_absolute_error(val_y, y_pred):.2f} AED')\n",
    "print(f'RMSE = {mean_squared_error(val_y, y_pred, squared = 0):.2f} AED')\n",
    "print(f'Model accuracy = {(1 - mean_absolute_percentage_error(val_y, y_pred))*100:.2f} %')"
   ]
  },
  {
   "cell_type": "markdown",
   "id": "159c172b",
   "metadata": {},
   "source": [
    "It seems to me tuning parameters won't bring much benefits, probably the best thing to do would be to improve the feature engineering.\n",
    "\n",
    "Howeverm I can try K-means clustering with the levenshtein distance as the distance metric and see how that performs. "
   ]
  },
  {
   "cell_type": "markdown",
   "id": "d96b4582",
   "metadata": {},
   "source": [
    "## Non ML methods"
   ]
  },
  {
   "cell_type": "code",
   "execution_count": 40,
   "id": "b399c386",
   "metadata": {},
   "outputs": [],
   "source": [
    "from Levenshtein import distance"
   ]
  },
  {
   "cell_type": "markdown",
   "id": "76d949c9",
   "metadata": {},
   "source": [
    "### The Levenshtein distance\n",
    "\n",
    "\n",
    "The Levenshtein distance between two words is the minimum number of single-character edits (insertions, deletions or substitutions) required to change one word into the other."
   ]
  },
  {
   "cell_type": "markdown",
   "id": "d4d11d8d",
   "metadata": {},
   "source": [
    "${\\Large\\displaystyle \\qquad \\operatorname {lev} (a,b)={\\begin{cases}|a|&{\\text{ if }}|b|=0,\\\\|b|&{\\text{ if }}|a|=0,\\\\\\operatorname {lev} (\\operatorname {tail} (a),\\operatorname {tail} (b))&{\\text{ if }}a[0]=b[0]\\\\1+\\min {\\begin{cases}\\operatorname {lev} (\\operatorname {tail} (a),b)\\\\\\operatorname {lev} (a,\\operatorname {tail} (b))\\\\\\operatorname {lev} (\\operatorname {tail} (a),\\operatorname {tail} (b))\\\\\\end{cases}}&{\\text{ otherwise.}}\\end{cases}}}$"
   ]
  },
  {
   "cell_type": "code",
   "execution_count": 41,
   "id": "3a4ff039",
   "metadata": {},
   "outputs": [],
   "source": [
    "# Create X and Y for the Levenshtein training\n",
    "\n",
    "features = ['num_digits','number_int','Price']\n",
    "X_lev = plates[features]\n",
    "\n",
    "# Create the test train split\n",
    "train_X_lev, val_X_lev= train_test_split(X_lev,random_state = 0)"
   ]
  },
  {
   "cell_type": "code",
   "execution_count": 42,
   "id": "7cee0d77",
   "metadata": {},
   "outputs": [],
   "source": [
    "def lev_dist_minimizer(string):\n",
    "\n",
    "    lev_plates = train_X_lev\n",
    "    lev_plates['levenshtein'] = lev_plates['number_int'].apply(lambda row: distance(string,str(row)))\n",
    "\n",
    "    same_size = lev_plates.loc[lev_plates['num_digits'] == len(string)]\n",
    "    \n",
    "    ret = same_size.loc[same_size['levenshtein'] == same_size['levenshtein'].min(),'Price']\n",
    "    return ret.mean()"
   ]
  },
  {
   "cell_type": "code",
   "execution_count": 43,
   "id": "22f7d594",
   "metadata": {},
   "outputs": [
    {
     "name": "stdout",
     "output_type": "stream",
     "text": [
      "Mean absolute error = 942.79 AED\n",
      "RMSE = 5533.36 AED\n",
      "Model accuracy = 90.59 %\n"
     ]
    }
   ],
   "source": [
    "val_y_lev = val_X_lev['Price']\n",
    "y_pred_lev = np.array([lev_dist_minimizer(str(x)) for x in val_X_lev['number_int']])\n",
    "\n",
    "print(f'Mean absolute error = {mean_absolute_error(val_y_lev, y_pred_lev):.2f} AED')\n",
    "print(f'RMSE = {mean_squared_error(val_y_lev, y_pred_lev, squared = 0):.2f} AED')\n",
    "print(f'Model accuracy = {(1 - mean_absolute_percentage_error(val_y_lev, y_pred_lev))*100:.2f} %')"
   ]
  },
  {
   "cell_type": "code",
   "execution_count": 44,
   "id": "fa959f89",
   "metadata": {},
   "outputs": [
    {
     "data": {
      "text/plain": [
       "2720.0"
      ]
     },
     "execution_count": 44,
     "metadata": {},
     "output_type": "execute_result"
    }
   ],
   "source": [
    "lev_dist_minimizer('12345')"
   ]
  },
  {
   "cell_type": "code",
   "execution_count": 45,
   "id": "307c4b95",
   "metadata": {},
   "outputs": [
    {
     "data": {
      "text/plain": [
       "42250.0"
      ]
     },
     "execution_count": 45,
     "metadata": {},
     "output_type": "execute_result"
    }
   ],
   "source": [
    "lev_dist_minimizer('1234')"
   ]
  },
  {
   "cell_type": "code",
   "execution_count": 46,
   "id": "2bc645ca",
   "metadata": {},
   "outputs": [
    {
     "data": {
      "text/plain": [
       "215000.0"
      ]
     },
     "execution_count": 46,
     "metadata": {},
     "output_type": "execute_result"
    }
   ],
   "source": [
    "lev_dist_minimizer('123')"
   ]
  },
  {
   "cell_type": "markdown",
   "id": "dfe4891c",
   "metadata": {},
   "source": [
    "This method seems to work well enough for a majority of the numbers, the accuracy is on par with the ML models, however I can see it being erroneous when predicting around outlier values because it would have a small levenshtein distance with it, but thats a shortcoming of ML based algorithms as well. "
   ]
  },
  {
   "cell_type": "markdown",
   "id": "40fdeafd",
   "metadata": {},
   "source": [
    "## Clustering with Levenshtein as metric"
   ]
  },
  {
   "cell_type": "code",
   "execution_count": null,
   "id": "30783c31",
   "metadata": {},
   "outputs": [],
   "source": []
  }
 ],
 "metadata": {
  "kernelspec": {
   "display_name": "Python 3 (ipykernel)",
   "language": "python",
   "name": "python3"
  },
  "language_info": {
   "codemirror_mode": {
    "name": "ipython",
    "version": 3
   },
   "file_extension": ".py",
   "mimetype": "text/x-python",
   "name": "python",
   "nbconvert_exporter": "python",
   "pygments_lexer": "ipython3",
   "version": "3.8.12"
  }
 },
 "nbformat": 4,
 "nbformat_minor": 5
}
