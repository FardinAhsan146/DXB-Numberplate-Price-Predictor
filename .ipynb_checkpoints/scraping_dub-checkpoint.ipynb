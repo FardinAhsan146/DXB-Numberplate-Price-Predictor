{
 "cells": [
  {
   "cell_type": "code",
   "execution_count": 134,
   "id": "70a7f78a",
   "metadata": {},
   "outputs": [],
   "source": [
    "import time\n",
    "import re\n",
    "import requests \n",
    "import numpy as np\n",
    "import pandas as pd\n",
    "import concurrent.futures\n",
    "\n",
    "from bs4 import BeautifulSoup as bs\n",
    "from fake_useragent import UserAgent\n",
    "from tqdm import tqdm\n",
    "\n",
    "from selenium import webdriver\n",
    "from selenium.webdriver.common.by import By\n",
    "from selenium.webdriver.common.keys import Keys\n",
    "from selenium.webdriver.chrome.options import Options\n",
    "from webdriver_manager.chrome import ChromeDriverManager\n",
    "from selenium.common.exceptions import ElementNotInteractableException,NoSuchWindowException "
   ]
  },
  {
   "cell_type": "code",
   "execution_count": 133,
   "id": "8a3f404e",
   "metadata": {},
   "outputs": [
    {
     "name": "stdout",
     "output_type": "stream",
     "text": [
      "Requirement already satisfied: fake_useragent in c:\\users\\fardin\\anaconda3\\lib\\site-packages (0.1.11)\n",
      "Note: you may need to restart the kernel to use updated packages.\n"
     ]
    }
   ],
   "source": [
    "pip install fake_useragent"
   ]
  },
  {
   "cell_type": "markdown",
   "id": "8ca507fc",
   "metadata": {},
   "source": [
    "# Webscraping Dubizzle :^)\n",
    "\n",
    "https://www.imperva.com/resources/customers/case-studies/dubizzle-case-study/"
   ]
  },
  {
   "cell_type": "markdown",
   "id": "75f74c5e",
   "metadata": {},
   "source": [
    "This is going to be a relatively long one. \n",
    "\n",
    "Dubizzle is salty about webscrapers (read link above), so they hired a company to make their website harder to scrape.\n",
    "\n",
    "That won't stop me. I will still scrape the data I need from their website, using the most bootleg methods possible. "
   ]
  },
  {
   "cell_type": "markdown",
   "id": "b91ef81e",
   "metadata": {},
   "source": [
    "## Scrape one webpage, Then build on top of that."
   ]
  },
  {
   "cell_type": "code",
   "execution_count": 15,
   "id": "d47b370d",
   "metadata": {},
   "outputs": [
    {
     "name": "stderr",
     "output_type": "stream",
     "text": [
      "\n",
      "\n",
      "====== WebDriver manager ======\n",
      "Current google-chrome version is 96.0.4664\n",
      "Get LATEST driver version for 96.0.4664\n",
      "Driver [C:\\Users\\Fardin\\.wdm\\drivers\\chromedriver\\win32\\96.0.4664.45\\chromedriver.exe] found in cache\n"
     ]
    }
   ],
   "source": [
    "# Webdriver settings\n",
    "options = Options()\n",
    "driver_manager = ChromeDriverManager().install()\n",
    "driver = webdriver.Chrome(driver_manager,\n",
    "                          options=options)\n",
    "\n",
    "# Open website\n",
    "driver.implicitly_wait(5)\n",
    "driver.get('https://dubai.dubizzle.com/motors/number-plates/dubai-plate/private-car/?page=1')\n",
    "\n",
    "# Find the html blocks we need for the number plates\n",
    "border_selector = 'thumb'\n",
    "plate_borders = driver.find_elements_by_class_name(border_selector)\n",
    "\n",
    "with concurrent.futures.ThreadPoolExecutor() as executor:\n",
    "    futures = []       # List to hold the future objects\n",
    "    for elem in plate_borders:\n",
    "        futures.append(\n",
    "            executor.submit(\n",
    "                lambda elem: elem.get_attribute(\"innerHTML\"),\n",
    "                elem = elem\n",
    "            )\n",
    "        )\n",
    "    \n",
    "    # Html elements of the border we chose by css selector\n",
    "    border_htmls =\\\n",
    "    [future.result() for future in concurrent.futures.as_completed(futures)]\n",
    "\n",
    "\n",
    "#Close driver for good!\n",
    "driver.quit()"
   ]
  },
  {
   "cell_type": "code",
   "execution_count": 20,
   "id": "9651345f",
   "metadata": {},
   "outputs": [
    {
     "data": {
      "text/plain": [
       "25"
      ]
     },
     "execution_count": 20,
     "metadata": {},
     "output_type": "execute_result"
    }
   ],
   "source": [
    "# Great!, 25 links in the page,\n",
    "# I got 25 links, can send requests to these individually. \n",
    "len(plate_borders)"
   ]
  },
  {
   "cell_type": "code",
   "execution_count": 18,
   "id": "c325bdbd",
   "metadata": {},
   "outputs": [
    {
     "data": {
      "text/plain": [
       "'\\n                    <a href=\"https://dubai.dubizzle.com/motors/number-plates/dubai-plate/private-car/2021/11/17/86368-locked-number-2-670---a17457bf51fb4af584bf1ed8e5311b19/?back=L21vdG9ycy9udW1iZXItcGxhdGVzL2R1YmFpLXBsYXRlL3ByaXZhdGUtY2FyLz9wYWdlPTE%3D&amp;pos=0&amp;highlighted_ads=1\">\\n                        <div style=\"background-image:url(https://res.cloudinary.com/dubizzle-com/image/upload/co_rgb:242424,l_text:oswald_140_bold_letter_spacing_4:86368,x_100,y_-50/co_rgb:242424,l_text:oswald_140_bold_letter_spacing_4:P,x_-240,y_-50/c_fit,w_200/dubai-plate_private-car_classic);\"></div>\\n                    </a>\\n                    <span class=\"thumb-image-count\">\\n                        1\\n                    </span>\\n                '"
      ]
     },
     "execution_count": 18,
     "metadata": {},
     "output_type": "execute_result"
    }
   ],
   "source": [
    "# Html looks good\n",
    "border_htmls[0]"
   ]
  },
  {
   "cell_type": "code",
   "execution_count": 19,
   "id": "0f22876b",
   "metadata": {},
   "outputs": [
    {
     "data": {
      "text/plain": [
       "\n",
       "<a href=\"https://dubai.dubizzle.com/motors/number-plates/dubai-plate/private-car/2021/11/17/86368-locked-number-2-670---a17457bf51fb4af584bf1ed8e5311b19/?back=L21vdG9ycy9udW1iZXItcGxhdGVzL2R1YmFpLXBsYXRlL3ByaXZhdGUtY2FyLz9wYWdlPTE%3D&amp;pos=0&amp;highlighted_ads=1\">\n",
       "<div style=\"background-image:url(https://res.cloudinary.com/dubizzle-com/image/upload/co_rgb:242424,l_text:oswald_140_bold_letter_spacing_4:86368,x_100,y_-50/co_rgb:242424,l_text:oswald_140_bold_letter_spacing_4:P,x_-240,y_-50/c_fit,w_200/dubai-plate_private-car_classic);\"></div>\n",
       "</a>\n",
       "<span class=\"thumb-image-count\">\n",
       "                        1\n",
       "                    </span>"
      ]
     },
     "execution_count": 19,
     "metadata": {},
     "output_type": "execute_result"
    }
   ],
   "source": [
    "# Turn it into a soup object\n",
    "soup = bs(border_htmls[0], 'html.parser')\n",
    "soup"
   ]
  },
  {
   "cell_type": "code",
   "execution_count": 30,
   "id": "e1a000c2",
   "metadata": {},
   "outputs": [
    {
     "data": {
      "text/plain": [
       "'https://dubai.dubizzle.com/motors/number-plates/dubai-plate/private-car/2021/11/17/86368-locked-number-2-670---a17457bf51fb4af584bf1ed8e5311b19/?back=L21vdG9ycy9udW1iZXItcGxhdGVzL2R1YmFpLXBsYXRlL3ByaXZhdGUtY2FyLz9wYWdlPTE%3D&pos=0&highlighted_ads=1'"
      ]
     },
     "execution_count": 30,
     "metadata": {},
     "output_type": "execute_result"
    }
   ],
   "source": [
    "# Extracting URL works\n",
    "soup.find_all('a', href=True)[0]['href']"
   ]
  },
  {
   "cell_type": "code",
   "execution_count": 33,
   "id": "be224686",
   "metadata": {},
   "outputs": [
    {
     "data": {
      "text/plain": [
       "'https://dubai.dubizzle.com/motors/number-plates/dubai-plate/private-car/2021/11/17/86368-locked-number-2-670---a17457bf51fb4af584bf1ed8e5311b19/?back=L21vdG9ycy9udW1iZXItcGxhdGVzL2R1YmFpLXBsYXRlL3ByaXZhdGUtY2FyLz9wYWdlPTE%3D&pos=0&highlighted_ads=1'"
      ]
     },
     "execution_count": 33,
     "metadata": {},
     "output_type": "execute_result"
    }
   ],
   "source": [
    "# Create a helper function for the task above\n",
    "def extract_url(soup_object):\n",
    "    \"\"\"\n",
    "    Extract the url from a the a href of a soup object\n",
    "    \"\"\"\n",
    "    return soup_object.find_all('a', href=True)[0]['href']\n",
    "\n",
    "extract_url(soup)"
   ]
  },
  {
   "cell_type": "code",
   "execution_count": 38,
   "id": "1bf8c37e",
   "metadata": {},
   "outputs": [
    {
     "data": {
      "text/plain": [
       "['https://dubai.dubizzle.com/motors/number-plates/dubai-plate/private-car/2021/11/17/86368-locked-number-2-670---a17457bf51fb4af584bf1ed8e5311b19/?back=L21vdG9ycy9udW1iZXItcGxhdGVzL2R1YmFpLXBsYXRlL3ByaXZhdGUtY2FyLz9wYWdlPTE%3D&pos=0&highlighted_ads=1',\n",
       " 'https://dubai.dubizzle.com/motors/number-plates/dubai-plate/private-car/2021/11/17/8989-2-150---41a23c57e41e4c198e36010d578c9fc6/?back=L21vdG9ycy9udW1iZXItcGxhdGVzL2R1YmFpLXBsYXRlL3ByaXZhdGUtY2FyLz9wYWdlPTE%3D&pos=2']"
      ]
     },
     "execution_count": 38,
     "metadata": {},
     "output_type": "execute_result"
    }
   ],
   "source": [
    "# Make a url list\n",
    "soup_list = [bs(elem, 'html.parser') for elem in border_htmls]\n",
    "url_strings = [extract_url(soup) for soup in soup_list]\n",
    "\n",
    "url_strings[0:2]\n",
    "\n",
    "## Need to repeat this for 44 pages, but but need to make sure I can extract data I need from one link."
   ]
  },
  {
   "cell_type": "code",
   "execution_count": 50,
   "id": "5e0d8926",
   "metadata": {},
   "outputs": [
    {
     "name": "stderr",
     "output_type": "stream",
     "text": [
      "\n",
      "\n",
      "====== WebDriver manager ======\n",
      "Current google-chrome version is 96.0.4664\n",
      "Get LATEST driver version for 96.0.4664\n",
      "Driver [C:\\Users\\Fardin\\.wdm\\drivers\\chromedriver\\win32\\96.0.4664.45\\chromedriver.exe] found in cache\n"
     ]
    },
    {
     "name": "stdout",
     "output_type": "stream",
     "text": [
      "AED 4,900\n",
      "U\n",
      "12130\n"
     ]
    }
   ],
   "source": [
    "# Attempt to fetch data from one url.\n",
    "# If it works we can pretty much run this 2000 times.\n",
    "options = Options()\n",
    "driver_manager = ChromeDriverManager().install()\n",
    "driver = webdriver.Chrome(driver_manager,\n",
    "                          options=options)\n",
    "\n",
    "driver.implicitly_wait(5)\n",
    "driver.get(url_strings[5])\n",
    "\n",
    "price_selector = \"sc-1q498l3-0.sc-1q498l3-1.WNwBg.jwMZvh.sc-1pns9yx-3.cRlgZx\"\n",
    "code_selector = '/html/body/div[2]/div/main/div/div[3]/div/div[4]/div[1]/div[3]/div/div[2]/div/p'\n",
    "number_selector = \"sc-1q498l3-0.sc-1q498l3-1.eMVpmW.eoIXmr.sc-19hd12a-3.eLqWzV\"\n",
    "\n",
    "price_element = driver.find_elements_by_class_name(price_selector)\n",
    "code_element = driver.find_elements_by_xpath(code_selector)\n",
    "number_element = driver.find_elements_by_class_name(number_selector)\n",
    "\n",
    "print(price_element[0].text)\n",
    "print(code_element[0].text)\n",
    "print(number_element[0].text)\n",
    "\n",
    "driver.quit()"
   ]
  },
  {
   "cell_type": "code",
   "execution_count": 136,
   "id": "7b1b99e5",
   "metadata": {},
   "outputs": [],
   "source": [
    "# The code above worked with minimal hiccups.\n",
    "# Let's turn that into a function.\n",
    "\n",
    "# Webdriver settings\n",
    "def get_data(url):\n",
    "    \"\"\"\n",
    "    Gets the data I need from a number plate price listing\n",
    "    \n",
    "    \"\"\"\n",
    "    chrome_options = webdriver.ChromeOptions()\n",
    "    chrome_options.add_argument(\"user-agent=[user-agent string]\")\n",
    "    chrome_options.add_argument('--disable-notifications')\n",
    "    prefs = {\"profile.default_content_setting_values.notifications\" : 2}\n",
    "    chrome_options.add_experimental_option(\"prefs\",prefs)\n",
    "    chrome_options.add_argument(\"window-size=1920,1080\")\n",
    "\n",
    "    driver_manager = ChromeDriverManager().install()\n",
    "    driver = webdriver.Chrome(driver_manager,\n",
    "                              options = chrome_options)\n",
    "\n",
    "\n",
    "    driver.implicitly_wait(5)\n",
    "    driver.get(url)\n",
    "    \n",
    "\n",
    "\n",
    "    # Find the html blocks we need for the number plates\n",
    "    price_selector = \"sc-1q498l3-0.sc-1q498l3-1.WNwBg.jwMZvh.sc-1pns9yx-3.cRlgZx\"\n",
    "    code_xpath = '/html/body/div[2]/div/main/div/div[3]/div/div[4]/div[1]/div[3]/div/div[2]/div/p'\n",
    "    number_selector = \"sc-1q498l3-0.sc-1q498l3-1.eMVpmW.eoIXmr.sc-19hd12a-3.eLqWzV\"\n",
    "\n",
    "    price_element = driver.find_elements_by_class_name(price_selector)\n",
    "    code_element = driver.find_elements_by_xpath(code_xpath)\n",
    "    number_element = driver.find_elements_by_class_name(number_selector)\n",
    "\n",
    "    price = price_element[0].text\n",
    "    code = code_element[0].text\n",
    "    number = number_element[0].text\n",
    "\n",
    "    driver.quit()\n",
    "    \n",
    "    return (number,code,price)"
   ]
  },
  {
   "cell_type": "code",
   "execution_count": 82,
   "id": "99f806d4",
   "metadata": {},
   "outputs": [],
   "source": [
    "## Create one more helper function to get all the html elements from all 40 pages, and we will be set\n",
    "def get_html(url):\n",
    "    \"\"\"\n",
    "    gets html elements from all the main scroll pages\n",
    "    \n",
    "    \"\"\"\n",
    "    chrome_options = webdriver.ChromeOptions()\n",
    "    chrome_options.add_argument(\"user-agent=[user-agent string]\")\n",
    "    chrome_options.add_argument('--disable-notifications')\n",
    "    prefs = {\"profile.default_content_setting_values.notifications\" : 2}\n",
    "    chrome_options.add_experimental_option(\"prefs\",prefs)\n",
    "    chrome_options.add_argument(\"window-size=1920,1080\")\n",
    "\n",
    "    driver_manager = ChromeDriverManager().install()\n",
    "    driver = webdriver.Chrome(driver_manager,\n",
    "                              options = chrome_options)\n",
    "\n",
    "\n",
    "    driver.implicitly_wait(5)\n",
    "    driver.get(url)\n",
    "\n",
    "\n",
    "    border_selector = 'thumb'\n",
    "    plate_borders = driver.find_elements_by_class_name(border_selector)\n",
    "\n",
    "    with concurrent.futures.ThreadPoolExecutor() as executor:\n",
    "        time.sleep(1)\n",
    "        futures = []       # List to hold the future objects\n",
    "        for elem in plate_borders:\n",
    "            futures.append(\n",
    "                executor.submit(\n",
    "                    lambda elem: elem.get_attribute(\"innerHTML\"),\n",
    "                    elem = elem\n",
    "                )\n",
    "            )\n",
    "\n",
    "        # Html elements of the border we chose by css selector\n",
    "        border_htmls =\\\n",
    "        [future.result() for future in concurrent.futures.as_completed(futures)]\n",
    "\n",
    "    driver.quit()\n",
    "    \n",
    "    return border_htmls"
   ]
  },
  {
   "cell_type": "markdown",
   "id": "281e7b79",
   "metadata": {},
   "source": [
    "## Time to generalize to all pages"
   ]
  },
  {
   "cell_type": "markdown",
   "id": "1dc3494e",
   "metadata": {},
   "source": [
    "### Get links to all the pages"
   ]
  },
  {
   "cell_type": "code",
   "execution_count": 57,
   "id": "e35c23cf",
   "metadata": {},
   "outputs": [
    {
     "name": "stderr",
     "output_type": "stream",
     "text": [
      "  0%|          | 0/40 [00:00<?, ?it/s]\n",
      "\n",
      "====== WebDriver manager ======\n",
      "Current google-chrome version is 96.0.4664\n",
      "Get LATEST driver version for 96.0.4664\n",
      "Driver [C:\\Users\\Fardin\\.wdm\\drivers\\chromedriver\\win32\\96.0.4664.45\\chromedriver.exe] found in cache\n",
      "  2%|▎         | 1/40 [00:06<03:55,  6.04s/it]\n",
      "\n",
      "====== WebDriver manager ======\n",
      "Current google-chrome version is 96.0.4664\n",
      "Get LATEST driver version for 96.0.4664\n",
      "Driver [C:\\Users\\Fardin\\.wdm\\drivers\\chromedriver\\win32\\96.0.4664.45\\chromedriver.exe] found in cache\n",
      "  5%|▌         | 2/40 [00:11<03:33,  5.62s/it]\n",
      "\n",
      "====== WebDriver manager ======\n",
      "Current google-chrome version is 96.0.4664\n",
      "Get LATEST driver version for 96.0.4664\n",
      "Driver [C:\\Users\\Fardin\\.wdm\\drivers\\chromedriver\\win32\\96.0.4664.45\\chromedriver.exe] found in cache\n",
      "  8%|▊         | 3/40 [00:17<03:35,  5.84s/it]\n",
      "\n",
      "====== WebDriver manager ======\n",
      "Current google-chrome version is 96.0.4664\n",
      "Get LATEST driver version for 96.0.4664\n",
      "Driver [C:\\Users\\Fardin\\.wdm\\drivers\\chromedriver\\win32\\96.0.4664.45\\chromedriver.exe] found in cache\n",
      " 10%|█         | 4/40 [00:23<03:35,  5.99s/it]\n",
      "\n",
      "====== WebDriver manager ======\n",
      "Current google-chrome version is 96.0.4664\n",
      "Get LATEST driver version for 96.0.4664\n",
      "Driver [C:\\Users\\Fardin\\.wdm\\drivers\\chromedriver\\win32\\96.0.4664.45\\chromedriver.exe] found in cache\n",
      " 12%|█▎        | 5/40 [00:32<04:00,  6.87s/it]\n",
      "\n",
      "====== WebDriver manager ======\n",
      "Current google-chrome version is 96.0.4664\n",
      "Get LATEST driver version for 96.0.4664\n",
      "Driver [C:\\Users\\Fardin\\.wdm\\drivers\\chromedriver\\win32\\96.0.4664.45\\chromedriver.exe] found in cache\n",
      " 15%|█▌        | 6/40 [00:40<04:06,  7.26s/it]\n",
      "\n",
      "====== WebDriver manager ======\n",
      "Current google-chrome version is 96.0.4664\n",
      "Get LATEST driver version for 96.0.4664\n",
      "Driver [C:\\Users\\Fardin\\.wdm\\drivers\\chromedriver\\win32\\96.0.4664.45\\chromedriver.exe] found in cache\n",
      " 18%|█▊        | 7/40 [00:46<03:51,  7.02s/it]\n",
      "\n",
      "====== WebDriver manager ======\n",
      "Current google-chrome version is 96.0.4664\n",
      "Get LATEST driver version for 96.0.4664\n",
      "Driver [C:\\Users\\Fardin\\.wdm\\drivers\\chromedriver\\win32\\96.0.4664.45\\chromedriver.exe] found in cache\n",
      " 20%|██        | 8/40 [00:55<03:58,  7.47s/it]\n",
      "\n",
      "====== WebDriver manager ======\n",
      "Current google-chrome version is 96.0.4664\n",
      "Get LATEST driver version for 96.0.4664\n",
      "Driver [C:\\Users\\Fardin\\.wdm\\drivers\\chromedriver\\win32\\96.0.4664.45\\chromedriver.exe] found in cache\n",
      " 22%|██▎       | 9/40 [01:01<03:36,  7.00s/it]\n",
      "\n",
      "====== WebDriver manager ======\n",
      "Current google-chrome version is 96.0.4664\n",
      "Get LATEST driver version for 96.0.4664\n",
      "Driver [C:\\Users\\Fardin\\.wdm\\drivers\\chromedriver\\win32\\96.0.4664.45\\chromedriver.exe] found in cache\n",
      " 25%|██▌       | 10/40 [01:06<03:16,  6.54s/it]\n",
      "\n",
      "====== WebDriver manager ======\n",
      "Current google-chrome version is 96.0.4664\n",
      "Get LATEST driver version for 96.0.4664\n",
      "Driver [C:\\Users\\Fardin\\.wdm\\drivers\\chromedriver\\win32\\96.0.4664.45\\chromedriver.exe] found in cache\n",
      " 28%|██▊       | 11/40 [01:13<03:14,  6.71s/it]\n",
      "\n",
      "====== WebDriver manager ======\n",
      "Current google-chrome version is 96.0.4664\n",
      "Get LATEST driver version for 96.0.4664\n",
      "Driver [C:\\Users\\Fardin\\.wdm\\drivers\\chromedriver\\win32\\96.0.4664.45\\chromedriver.exe] found in cache\n",
      " 30%|███       | 12/40 [01:22<03:23,  7.28s/it]\n",
      "\n",
      "====== WebDriver manager ======\n",
      "Current google-chrome version is 96.0.4664\n",
      "Get LATEST driver version for 96.0.4664\n",
      "Driver [C:\\Users\\Fardin\\.wdm\\drivers\\chromedriver\\win32\\96.0.4664.45\\chromedriver.exe] found in cache\n",
      " 32%|███▎      | 13/40 [01:29<03:12,  7.14s/it]\n",
      "\n",
      "====== WebDriver manager ======\n",
      "Current google-chrome version is 96.0.4664\n",
      "Get LATEST driver version for 96.0.4664\n",
      "Driver [C:\\Users\\Fardin\\.wdm\\drivers\\chromedriver\\win32\\96.0.4664.45\\chromedriver.exe] found in cache\n",
      " 35%|███▌      | 14/40 [01:37<03:17,  7.60s/it]\n",
      "\n",
      "====== WebDriver manager ======\n",
      "Current google-chrome version is 96.0.4664\n",
      "Get LATEST driver version for 96.0.4664\n",
      "Driver [C:\\Users\\Fardin\\.wdm\\drivers\\chromedriver\\win32\\96.0.4664.45\\chromedriver.exe] found in cache\n",
      " 38%|███▊      | 15/40 [01:46<03:22,  8.09s/it]\n",
      "\n",
      "====== WebDriver manager ======\n",
      "Current google-chrome version is 96.0.4664\n",
      "Get LATEST driver version for 96.0.4664\n",
      "Driver [C:\\Users\\Fardin\\.wdm\\drivers\\chromedriver\\win32\\96.0.4664.45\\chromedriver.exe] found in cache\n",
      " 40%|████      | 16/40 [01:53<03:01,  7.56s/it]\n",
      "\n",
      "====== WebDriver manager ======\n",
      "Current google-chrome version is 96.0.4664\n",
      "Get LATEST driver version for 96.0.4664\n",
      "Driver [C:\\Users\\Fardin\\.wdm\\drivers\\chromedriver\\win32\\96.0.4664.45\\chromedriver.exe] found in cache\n",
      " 42%|████▎     | 17/40 [02:01<02:58,  7.76s/it]\n",
      "\n",
      "====== WebDriver manager ======\n",
      "Current google-chrome version is 96.0.4664\n",
      "Get LATEST driver version for 96.0.4664\n",
      "Driver [C:\\Users\\Fardin\\.wdm\\drivers\\chromedriver\\win32\\96.0.4664.45\\chromedriver.exe] found in cache\n",
      " 45%|████▌     | 18/40 [02:07<02:39,  7.26s/it]\n",
      "\n",
      "====== WebDriver manager ======\n",
      "Current google-chrome version is 96.0.4664\n",
      "Get LATEST driver version for 96.0.4664\n",
      "Driver [C:\\Users\\Fardin\\.wdm\\drivers\\chromedriver\\win32\\96.0.4664.45\\chromedriver.exe] found in cache\n",
      " 48%|████▊     | 19/40 [02:14<02:31,  7.23s/it]\n",
      "\n",
      "====== WebDriver manager ======\n",
      "Current google-chrome version is 96.0.4664\n",
      "Get LATEST driver version for 96.0.4664\n",
      "Driver [C:\\Users\\Fardin\\.wdm\\drivers\\chromedriver\\win32\\96.0.4664.45\\chromedriver.exe] found in cache\n",
      " 50%|█████     | 20/40 [02:23<02:32,  7.61s/it]\n",
      "\n",
      "====== WebDriver manager ======\n",
      "Current google-chrome version is 96.0.4664\n",
      "Get LATEST driver version for 96.0.4664\n",
      "Driver [C:\\Users\\Fardin\\.wdm\\drivers\\chromedriver\\win32\\96.0.4664.45\\chromedriver.exe] found in cache\n",
      " 52%|█████▎    | 21/40 [02:30<02:22,  7.48s/it]\n",
      "\n",
      "====== WebDriver manager ======\n",
      "Current google-chrome version is 96.0.4664\n",
      "Get LATEST driver version for 96.0.4664\n",
      "Driver [C:\\Users\\Fardin\\.wdm\\drivers\\chromedriver\\win32\\96.0.4664.45\\chromedriver.exe] found in cache\n",
      " 55%|█████▌    | 22/40 [02:39<02:21,  7.84s/it]\n",
      "\n",
      "====== WebDriver manager ======\n",
      "Current google-chrome version is 96.0.4664\n",
      "Get LATEST driver version for 96.0.4664\n",
      "Driver [C:\\Users\\Fardin\\.wdm\\drivers\\chromedriver\\win32\\96.0.4664.45\\chromedriver.exe] found in cache\n",
      " 57%|█████▊    | 23/40 [02:47<02:17,  8.10s/it]\n",
      "\n",
      "====== WebDriver manager ======\n",
      "Current google-chrome version is 96.0.4664\n",
      "Get LATEST driver version for 96.0.4664\n",
      "Driver [C:\\Users\\Fardin\\.wdm\\drivers\\chromedriver\\win32\\96.0.4664.45\\chromedriver.exe] found in cache\n",
      " 60%|██████    | 24/40 [02:54<02:04,  7.80s/it]\n",
      "\n",
      "====== WebDriver manager ======\n",
      "Current google-chrome version is 96.0.4664\n",
      "Get LATEST driver version for 96.0.4664\n",
      "Driver [C:\\Users\\Fardin\\.wdm\\drivers\\chromedriver\\win32\\96.0.4664.45\\chromedriver.exe] found in cache\n",
      " 62%|██████▎   | 25/40 [03:02<01:54,  7.63s/it]\n",
      "\n",
      "====== WebDriver manager ======\n",
      "Current google-chrome version is 96.0.4664\n",
      "Get LATEST driver version for 96.0.4664\n",
      "Driver [C:\\Users\\Fardin\\.wdm\\drivers\\chromedriver\\win32\\96.0.4664.45\\chromedriver.exe] found in cache\n",
      " 65%|██████▌   | 26/40 [03:09<01:46,  7.57s/it]\n",
      "\n",
      "====== WebDriver manager ======\n",
      "Current google-chrome version is 96.0.4664\n",
      "Get LATEST driver version for 96.0.4664\n",
      "Driver [C:\\Users\\Fardin\\.wdm\\drivers\\chromedriver\\win32\\96.0.4664.45\\chromedriver.exe] found in cache\n",
      " 68%|██████▊   | 27/40 [03:17<01:41,  7.82s/it]\n",
      "\n",
      "====== WebDriver manager ======\n",
      "Current google-chrome version is 96.0.4664\n",
      "Get LATEST driver version for 96.0.4664\n",
      "Driver [C:\\Users\\Fardin\\.wdm\\drivers\\chromedriver\\win32\\96.0.4664.45\\chromedriver.exe] found in cache\n",
      " 70%|███████   | 28/40 [03:25<01:33,  7.83s/it]\n",
      "\n",
      "====== WebDriver manager ======\n",
      "Current google-chrome version is 96.0.4664\n",
      "Get LATEST driver version for 96.0.4664\n",
      "Driver [C:\\Users\\Fardin\\.wdm\\drivers\\chromedriver\\win32\\96.0.4664.45\\chromedriver.exe] found in cache\n",
      " 72%|███████▎  | 29/40 [03:35<01:30,  8.23s/it]\n",
      "\n",
      "====== WebDriver manager ======\n",
      "Current google-chrome version is 96.0.4664\n",
      "Get LATEST driver version for 96.0.4664\n",
      "Driver [C:\\Users\\Fardin\\.wdm\\drivers\\chromedriver\\win32\\96.0.4664.45\\chromedriver.exe] found in cache\n",
      " 75%|███████▌  | 30/40 [03:42<01:20,  8.01s/it]\n",
      "\n",
      "====== WebDriver manager ======\n",
      "Current google-chrome version is 96.0.4664\n",
      "Get LATEST driver version for 96.0.4664\n",
      "Driver [C:\\Users\\Fardin\\.wdm\\drivers\\chromedriver\\win32\\96.0.4664.45\\chromedriver.exe] found in cache\n"
     ]
    },
    {
     "name": "stderr",
     "output_type": "stream",
     "text": [
      " 78%|███████▊  | 31/40 [03:48<01:06,  7.38s/it]\n",
      "\n",
      "====== WebDriver manager ======\n",
      "Current google-chrome version is 96.0.4664\n",
      "Get LATEST driver version for 96.0.4664\n",
      "Driver [C:\\Users\\Fardin\\.wdm\\drivers\\chromedriver\\win32\\96.0.4664.45\\chromedriver.exe] found in cache\n",
      " 80%|████████  | 32/40 [03:56<01:01,  7.68s/it]\n",
      "\n",
      "====== WebDriver manager ======\n",
      "Current google-chrome version is 96.0.4664\n",
      "Get LATEST driver version for 96.0.4664\n",
      "Driver [C:\\Users\\Fardin\\.wdm\\drivers\\chromedriver\\win32\\96.0.4664.45\\chromedriver.exe] found in cache\n",
      " 82%|████████▎ | 33/40 [04:15<01:16, 10.96s/it]\n",
      "\n",
      "====== WebDriver manager ======\n",
      "Current google-chrome version is 96.0.4664\n",
      "Get LATEST driver version for 96.0.4664\n",
      "Driver [C:\\Users\\Fardin\\.wdm\\drivers\\chromedriver\\win32\\96.0.4664.45\\chromedriver.exe] found in cache\n",
      " 85%|████████▌ | 34/40 [04:25<01:03, 10.60s/it]\n",
      "\n",
      "====== WebDriver manager ======\n",
      "Current google-chrome version is 96.0.4664\n",
      "Get LATEST driver version for 96.0.4664\n",
      "Driver [C:\\Users\\Fardin\\.wdm\\drivers\\chromedriver\\win32\\96.0.4664.45\\chromedriver.exe] found in cache\n",
      " 88%|████████▊ | 35/40 [04:31<00:46,  9.40s/it]\n",
      "\n",
      "====== WebDriver manager ======\n",
      "Current google-chrome version is 96.0.4664\n",
      "Get LATEST driver version for 96.0.4664\n",
      "Driver [C:\\Users\\Fardin\\.wdm\\drivers\\chromedriver\\win32\\96.0.4664.45\\chromedriver.exe] found in cache\n",
      " 90%|█████████ | 36/40 [04:38<00:34,  8.74s/it]\n",
      "\n",
      "====== WebDriver manager ======\n",
      "Current google-chrome version is 96.0.4664\n",
      "Get LATEST driver version for 96.0.4664\n",
      "Driver [C:\\Users\\Fardin\\.wdm\\drivers\\chromedriver\\win32\\96.0.4664.45\\chromedriver.exe] found in cache\n",
      " 92%|█████████▎| 37/40 [04:46<00:24,  8.26s/it]\n",
      "\n",
      "====== WebDriver manager ======\n",
      "Current google-chrome version is 96.0.4664\n",
      "Get LATEST driver version for 96.0.4664\n",
      "Driver [C:\\Users\\Fardin\\.wdm\\drivers\\chromedriver\\win32\\96.0.4664.45\\chromedriver.exe] found in cache\n",
      " 95%|█████████▌| 38/40 [04:52<00:15,  7.83s/it]\n",
      "\n",
      "====== WebDriver manager ======\n",
      "Current google-chrome version is 96.0.4664\n",
      "Get LATEST driver version for 96.0.4664\n",
      "Driver [C:\\Users\\Fardin\\.wdm\\drivers\\chromedriver\\win32\\96.0.4664.45\\chromedriver.exe] found in cache\n",
      " 98%|█████████▊| 39/40 [05:00<00:07,  7.72s/it]\n",
      "\n",
      "====== WebDriver manager ======\n",
      "Current google-chrome version is 96.0.4664\n",
      "Get LATEST driver version for 96.0.4664\n",
      "Driver [C:\\Users\\Fardin\\.wdm\\drivers\\chromedriver\\win32\\96.0.4664.45\\chromedriver.exe] found in cache\n",
      "100%|██████████| 40/40 [05:07<00:00,  7.69s/it]\n"
     ]
    }
   ],
   "source": [
    "# This will store the lists of lists with all the html elements \n",
    "# from the scroll down pages\n",
    "htmls_master_list = []\n",
    "\n",
    "for num in tqdm(range(1,41)):\n",
    "    url_num = f'https://dubai.dubizzle.com/motors/number-plates/dubai-plate/private-car/?page={num}'\n",
    "    sub_list = get_html(url_num)\n",
    "    htmls_master_list.append(sub_list)"
   ]
  },
  {
   "cell_type": "code",
   "execution_count": 67,
   "id": "70e9164e",
   "metadata": {},
   "outputs": [
    {
     "data": {
      "text/plain": [
       "['https://dubai.dubizzle.com/motors/number-plates/dubai-plate/private-car/2021/11/17/1418-2-909---0baaef4f35704021b6f8ab853539efd0/?back=L21vdG9ycy9udW1iZXItcGxhdGVzL2R1YmFpLXBsYXRlL3ByaXZhdGUtY2FyLz9wYWdlPTE%3D&pos=3',\n",
       " 'https://dubai.dubizzle.com/motors/number-plates/dubai-plate/private-car/2021/11/17/8989-2-150---41a23c57e41e4c198e36010d578c9fc6/?back=L21vdG9ycy9udW1iZXItcGxhdGVzL2R1YmFpLXBsYXRlL3ByaXZhdGUtY2FyLz9wYWdlPTE%3D&pos=2',\n",
       " 'https://dubai.dubizzle.com/motors/number-plates/dubai-plate/private-car/2021/12/31/b-2652-2-202---4c62bf4eeb174f6d8698b093466a88be/?back=L21vdG9ycy9udW1iZXItcGxhdGVzL2R1YmFpLXBsYXRlL3ByaXZhdGUtY2FyLz9wYWdlPTE%3D&pos=4']"
      ]
     },
     "execution_count": 67,
     "metadata": {},
     "output_type": "execute_result"
    }
   ],
   "source": [
    "# Flatten the html list\n",
    "# Soup it\n",
    "# Get the urls\n",
    "html_flat = np.array(htmls_master_list).ravel().tolist()\n",
    "html_soups = [bs(elem, 'html.parser') for elem in html_array]\n",
    "urls = [extract_url(soup) for soup in html_soups]\n",
    "\n",
    "urls[0:3]"
   ]
  },
  {
   "cell_type": "code",
   "execution_count": null,
   "id": "ce2c4546",
   "metadata": {},
   "outputs": [],
   "source": [
    "# Get all data\n",
    "data_list = []"
   ]
  },
  {
   "cell_type": "code",
   "execution_count": 157,
   "id": "2bc640db",
   "metadata": {},
   "outputs": [],
   "source": [
    "# Missed elements\n",
    "# Iterate through this again F dubizzle\n",
    "missed_list = []"
   ]
  },
  {
   "cell_type": "code",
   "execution_count": 166,
   "id": "a4cb5ba3",
   "metadata": {},
   "outputs": [
    {
     "name": "stderr",
     "output_type": "stream",
     "text": [
      "\n",
      "\n",
      "====== WebDriver manager ======\n",
      "Current google-chrome version is 96.0.4664\n",
      "Get LATEST driver version for 96.0.4664\n",
      "Driver [C:\\Users\\Fardin\\.wdm\\drivers\\chromedriver\\win32\\96.0.4664.45\\chromedriver.exe] found in cache\n",
      "\n",
      "\n",
      "====== WebDriver manager ======\n",
      "Current google-chrome version is 96.0.4664\n",
      "Get LATEST driver version for 96.0.4664\n",
      "Driver [C:\\Users\\Fardin\\.wdm\\drivers\\chromedriver\\win32\\96.0.4664.45\\chromedriver.exe] found in cache\n",
      "\n",
      "\n",
      "====== WebDriver manager ======\n",
      "Current google-chrome version is 96.0.4664\n",
      "Get LATEST driver version for 96.0.4664\n",
      "Driver [C:\\Users\\Fardin\\.wdm\\drivers\\chromedriver\\win32\\96.0.4664.45\\chromedriver.exe] found in cache\n",
      "\n",
      "\n",
      "====== WebDriver manager ======\n",
      "Current google-chrome version is 96.0.4664\n",
      "Get LATEST driver version for 96.0.4664\n",
      "Driver [C:\\Users\\Fardin\\.wdm\\drivers\\chromedriver\\win32\\96.0.4664.45\\chromedriver.exe] found in cache\n",
      "\n",
      "\n",
      "====== WebDriver manager ======\n",
      "Current google-chrome version is 96.0.4664\n",
      "Get LATEST driver version for 96.0.4664\n",
      "Driver [C:\\Users\\Fardin\\.wdm\\drivers\\chromedriver\\win32\\96.0.4664.45\\chromedriver.exe] found in cache\n",
      "\n",
      "\n",
      "====== WebDriver manager ======\n",
      "Current google-chrome version is 96.0.4664\n",
      "Get LATEST driver version for 96.0.4664\n",
      "Driver [C:\\Users\\Fardin\\.wdm\\drivers\\chromedriver\\win32\\96.0.4664.45\\chromedriver.exe] found in cache\n"
     ]
    },
    {
     "ename": "NameError",
     "evalue": "name 'missed_link' is not defined",
     "output_type": "error",
     "traceback": [
      "\u001b[1;31m---------------------------------------------------------------------------\u001b[0m",
      "\u001b[1;31mIndexError\u001b[0m                                Traceback (most recent call last)",
      "\u001b[1;32m~\\AppData\\Local\\Temp/ipykernel_20452/4144444578.py\u001b[0m in \u001b[0;36m<module>\u001b[1;34m\u001b[0m\n\u001b[0;32m      5\u001b[0m         \u001b[1;32mtry\u001b[0m\u001b[1;33m:\u001b[0m\u001b[1;33m\u001b[0m\u001b[1;33m\u001b[0m\u001b[0m\n\u001b[1;32m----> 6\u001b[1;33m             \u001b[0mdata\u001b[0m \u001b[1;33m=\u001b[0m \u001b[0mget_data\u001b[0m\u001b[1;33m(\u001b[0m\u001b[0mlink\u001b[0m\u001b[1;33m)\u001b[0m\u001b[1;33m\u001b[0m\u001b[1;33m\u001b[0m\u001b[0m\n\u001b[0m\u001b[0;32m      7\u001b[0m             \u001b[0mdata_list\u001b[0m\u001b[1;33m.\u001b[0m\u001b[0mappend\u001b[0m\u001b[1;33m(\u001b[0m\u001b[0mdata\u001b[0m\u001b[1;33m)\u001b[0m\u001b[1;33m\u001b[0m\u001b[1;33m\u001b[0m\u001b[0m\n",
      "\u001b[1;32m~\\AppData\\Local\\Temp/ipykernel_20452/1177331186.py\u001b[0m in \u001b[0;36mget_data\u001b[1;34m(url)\u001b[0m\n\u001b[0;32m     38\u001b[0m \u001b[1;33m\u001b[0m\u001b[0m\n\u001b[1;32m---> 39\u001b[1;33m     \u001b[0mprice\u001b[0m \u001b[1;33m=\u001b[0m \u001b[0mprice_element\u001b[0m\u001b[1;33m[\u001b[0m\u001b[1;36m0\u001b[0m\u001b[1;33m]\u001b[0m\u001b[1;33m.\u001b[0m\u001b[0mtext\u001b[0m\u001b[1;33m\u001b[0m\u001b[1;33m\u001b[0m\u001b[0m\n\u001b[0m\u001b[0;32m     40\u001b[0m     \u001b[0mcode\u001b[0m \u001b[1;33m=\u001b[0m \u001b[0mcode_element\u001b[0m\u001b[1;33m[\u001b[0m\u001b[1;36m0\u001b[0m\u001b[1;33m]\u001b[0m\u001b[1;33m.\u001b[0m\u001b[0mtext\u001b[0m\u001b[1;33m\u001b[0m\u001b[1;33m\u001b[0m\u001b[0m\n",
      "\u001b[1;31mIndexError\u001b[0m: list index out of range",
      "\nDuring handling of the above exception, another exception occurred:\n",
      "\u001b[1;31mNameError\u001b[0m                                 Traceback (most recent call last)",
      "\u001b[1;32m~\\AppData\\Local\\Temp/ipykernel_20452/4144444578.py\u001b[0m in \u001b[0;36m<module>\u001b[1;34m\u001b[0m\n\u001b[0;32m      7\u001b[0m             \u001b[0mdata_list\u001b[0m\u001b[1;33m.\u001b[0m\u001b[0mappend\u001b[0m\u001b[1;33m(\u001b[0m\u001b[0mdata\u001b[0m\u001b[1;33m)\u001b[0m\u001b[1;33m\u001b[0m\u001b[1;33m\u001b[0m\u001b[0m\n\u001b[0;32m      8\u001b[0m         \u001b[1;32mexcept\u001b[0m \u001b[0mIndexError\u001b[0m\u001b[1;33m:\u001b[0m\u001b[1;33m\u001b[0m\u001b[1;33m\u001b[0m\u001b[0m\n\u001b[1;32m----> 9\u001b[1;33m             \u001b[0mmissed_link\u001b[0m\u001b[1;33m.\u001b[0m\u001b[0mappend\u001b[0m\u001b[1;33m(\u001b[0m\u001b[0mind\u001b[0m\u001b[1;33m)\u001b[0m\u001b[1;33m\u001b[0m\u001b[1;33m\u001b[0m\u001b[0m\n\u001b[0m\u001b[0;32m     10\u001b[0m             \u001b[1;32mcontinue\u001b[0m\u001b[1;33m\u001b[0m\u001b[1;33m\u001b[0m\u001b[0m\n\u001b[0;32m     11\u001b[0m     \u001b[1;31m# If link doesn't exist just continue iteration\u001b[0m\u001b[1;33m\u001b[0m\u001b[1;33m\u001b[0m\u001b[1;33m\u001b[0m\u001b[0m\n",
      "\u001b[1;31mNameError\u001b[0m: name 'missed_link' is not defined"
     ]
    }
   ],
   "source": [
    "for ind,link in zip(range(111,1000),urls[111:]):\n",
    "    response = requests.get(link)\n",
    "    # check if link exists\n",
    "    if response.status_code == 200:\n",
    "        try:\n",
    "            data = get_data(link) \n",
    "            data_list.append(data)\n",
    "        except IndexError:\n",
    "            missed_link.append(ind)\n",
    "            continue\n",
    "    # If link doesn't exist just continue iteration\n",
    "    # This is needed incase someone removes their listing\n",
    "    else:\n",
    "        continue"
   ]
  },
  {
   "cell_type": "code",
   "execution_count": 161,
   "id": "43fc0c88",
   "metadata": {},
   "outputs": [
    {
     "data": {
      "text/plain": [
       "[('11000', 'K', 'AED 255,000'),\n",
       " ('1114', 'D', 'AED 105,000'),\n",
       " ('66000', 'K', 'AED 160,000'),\n",
       " ('60007', 'Q', 'AED 31,000'),\n",
       " ('8773', 'M', 'AED 15,000'),\n",
       " ('1418', 'S', 'AED 37,000'),\n",
       " ('8989', 'H', 'AED 138,000'),\n",
       " ('2652', 'B', 'AED 21,000'),\n",
       " ('86368', 'P', 'AED 12,000'),\n",
       " ('60100', 'C', 'AED 14,500'),\n",
       " ('12130', 'U', 'AED 4,900'),\n",
       " ('82682', 'S', 'AED 4,500'),\n",
       " ('80156', 'L', 'AED 3,500'),\n",
       " ('60460', 'D', 'AED 7,000'),\n",
       " ('58886', 'F', 'AED 9,500'),\n",
       " ('44044', 'U', 'AED 69,000'),\n",
       " ('181', 'U', 'AED 555,000'),\n",
       " ('3385', 'K', 'AED 15,500'),\n",
       " ('44454', 'L', 'AED 43,000'),\n",
       " ('5010', 'A', 'AED 99,500'),\n",
       " ('1925', 'L', 'AED 15,000'),\n",
       " ('1996', 'White', 'AED 215,000'),\n",
       " ('9114', 'M', 'AED 75,500'),\n",
       " ('8864', 'H', 'AED 14,800'),\n",
       " ('1615', 'Q', 'AED 27,000'),\n",
       " ('778', 'P', 'AED 345,000'),\n",
       " ('717', 'U', 'AED 380,000'),\n",
       " ('84044', 'T', 'AED 9,000'),\n",
       " ('717', 'L', 'AED 379,000'),\n",
       " ('1313', 'F', 'AED 119,000'),\n",
       " ('55911', 'U', 'AED 14,000'),\n",
       " ('31110', 'N', 'AED 12,400'),\n",
       " ('50111', 'R', 'AED 22,000'),\n",
       " ('809', 'T', 'AED 300,000'),\n",
       " ('11000', 'K', 'AED 255,000'),\n",
       " ('1418', 'S', 'AED 37,000'),\n",
       " ('8989', 'H', 'AED 138,000'),\n",
       " ('2652', 'B', 'AED 21,000'),\n",
       " ('86368', 'P', 'AED 12,000'),\n",
       " ('60100', 'C', 'AED 14,500'),\n",
       " ('12130', 'U', 'AED 4,900'),\n",
       " ('82682', 'S', 'AED 4,500'),\n",
       " ('80156', 'L', 'AED 3,500'),\n",
       " ('60460', 'D', 'AED 7,000'),\n",
       " ('58886', 'F', 'AED 9,500'),\n",
       " ('44044', 'U', 'AED 69,000'),\n",
       " ('181', 'U', 'AED 555,000'),\n",
       " ('3385', 'K', 'AED 15,500'),\n",
       " ('44454', 'L', 'AED 43,000'),\n",
       " ('5010', 'A', 'AED 99,500'),\n",
       " ('1925', 'L', 'AED 15,000'),\n",
       " ('1996', 'White', 'AED 215,000'),\n",
       " ('9114', 'M', 'AED 75,500'),\n",
       " ('8864', 'H', 'AED 14,800'),\n",
       " ('1615', 'Q', 'AED 27,000'),\n",
       " ('778', 'P', 'AED 345,000'),\n",
       " ('717', 'U', 'AED 380,000'),\n",
       " ('84044', 'T', 'AED 9,000'),\n",
       " ('717', 'L', 'AED 379,000'),\n",
       " ('1313', 'F', 'AED 119,000'),\n",
       " ('55911', 'U', 'AED 14,000'),\n",
       " ('31110', 'N', 'AED 12,400'),\n",
       " ('50111', 'R', 'AED 22,000'),\n",
       " ('809', 'T', 'AED 300,000'),\n",
       " ('11000', 'K', 'AED 255,000'),\n",
       " ('1114', 'D', 'AED 105,000'),\n",
       " ('66000', 'K', 'AED 160,000'),\n",
       " ('60007', 'Q', 'AED 31,000'),\n",
       " ('8773', 'M', 'AED 15,000'),\n",
       " ('1418', 'S', 'AED 37,000'),\n",
       " ('8989', 'H', 'AED 138,000'),\n",
       " ('2652', 'B', 'AED 21,000'),\n",
       " ('86368', 'P', 'AED 12,000'),\n",
       " ('60100', 'C', 'AED 14,500'),\n",
       " ('12130', 'U', 'AED 4,900'),\n",
       " ('82682', 'S', 'AED 4,500'),\n",
       " ('80156', 'L', 'AED 3,500'),\n",
       " ('60460', 'D', 'AED 7,000'),\n",
       " ('58886', 'F', 'AED 9,500'),\n",
       " ('44044', 'U', 'AED 69,000'),\n",
       " ('181', 'U', 'AED 555,000'),\n",
       " ('3385', 'K', 'AED 15,500'),\n",
       " ('44454', 'L', 'AED 43,000'),\n",
       " ('5010', 'A', 'AED 99,500'),\n",
       " ('1925', 'L', 'AED 15,000'),\n",
       " ('1996', 'White', 'AED 215,000'),\n",
       " ('9114', 'M', 'AED 75,500'),\n",
       " ('8864', 'H', 'AED 14,800'),\n",
       " ('1615', 'Q', 'AED 27,000'),\n",
       " ('778', 'P', 'AED 345,000'),\n",
       " ('717', 'U', 'AED 380,000'),\n",
       " ('84044', 'T', 'AED 9,000'),\n",
       " ('717', 'L', 'AED 379,000'),\n",
       " ('1313', 'F', 'AED 119,000'),\n",
       " ('55911', 'U', 'AED 14,000'),\n",
       " ('31110', 'N', 'AED 12,400'),\n",
       " ('50111', 'R', 'AED 22,000'),\n",
       " ('809', 'T', 'AED 300,000'),\n",
       " ('11000', 'K', 'AED 255,000'),\n",
       " ('1114', 'D', 'AED 105,000'),\n",
       " ('66000', 'K', 'AED 160,000'),\n",
       " ('60007', 'Q', 'AED 31,000'),\n",
       " ('8773', 'M', 'AED 15,000'),\n",
       " ('1418', 'S', 'AED 37,000'),\n",
       " ('8989', 'H', 'AED 138,000'),\n",
       " ('2652', 'B', 'AED 21,000'),\n",
       " ('33369', 'M', 'AED 9,500'),\n",
       " ('94488', 'M', 'AED 6,000'),\n",
       " ('5649', 'L', 'AED 6,000'),\n",
       " ('33900', 'J', 'AED 6,000'),\n",
       " ('7435', 'F', 'AED 6,999')]"
      ]
     },
     "execution_count": 161,
     "metadata": {},
     "output_type": "execute_result"
    }
   ],
   "source": [
    "data_list"
   ]
  },
  {
   "cell_type": "code",
   "execution_count": 167,
   "id": "480c3820",
   "metadata": {},
   "outputs": [
    {
     "data": {
      "text/plain": [
       "116"
      ]
     },
     "execution_count": 167,
     "metadata": {},
     "output_type": "execute_result"
    }
   ],
   "source": [
    "len(data_list)"
   ]
  },
  {
   "cell_type": "code",
   "execution_count": 169,
   "id": "81957ec9",
   "metadata": {},
   "outputs": [
    {
     "data": {
      "text/plain": [
       "'https://dubai.dubizzle.com/motors/number-plates/dubai-plate/private-car/2021/12/30/u6310-2-136---c13f1d62e5a2416ca1519da49f525a61/?back=L21vdG9ycy9udW1iZXItcGxhdGVzL2R1YmFpLXBsYXRlL3ByaXZhdGUtY2FyLz9wYWdlPTU%3D&pos=120'"
      ]
     },
     "execution_count": 169,
     "metadata": {},
     "output_type": "execute_result"
    }
   ],
   "source": [
    "urls[116]"
   ]
  },
  {
   "cell_type": "code",
   "execution_count": null,
   "id": "c1b2dea3",
   "metadata": {},
   "outputs": [],
   "source": [
    "'https://dubai.dubizzle.com/motors/number-plates/dubai-plate/private-car/2021/12/30/u6310-2-136---c13f1d62e5a2416ca1519da49f525a61/?back=L21vdG9ycy9udW1iZXItcGxhdGVzL2R1YmFpLXBsYXRlL3ByaXZhdGUtY2FyLz9wYWdlPTU%3D&pos=120'"
   ]
  },
  {
   "cell_type": "code",
   "execution_count": null,
   "id": "b441f0a2",
   "metadata": {},
   "outputs": [],
   "source": []
  },
  {
   "cell_type": "code",
   "execution_count": 164,
   "id": "c48951c9",
   "metadata": {},
   "outputs": [
    {
     "data": {
      "text/plain": [
       "889"
      ]
     },
     "execution_count": 164,
     "metadata": {},
     "output_type": "execute_result"
    }
   ],
   "source": [
    "len(urls[111:])"
   ]
  },
  {
   "cell_type": "code",
   "execution_count": 165,
   "id": "6e9773e8",
   "metadata": {},
   "outputs": [
    {
     "data": {
      "text/plain": [
       "889"
      ]
     },
     "execution_count": 165,
     "metadata": {},
     "output_type": "execute_result"
    }
   ],
   "source": [
    "len(range(111,1000))"
   ]
  },
  {
   "cell_type": "code",
   "execution_count": 155,
   "id": "188318a8",
   "metadata": {},
   "outputs": [],
   "source": [
    "copy_list = [('11000', 'K', 'AED 255,000'),\n",
    " ('1114', 'D', 'AED 105,000'),\n",
    " ('66000', 'K', 'AED 160,000'),\n",
    " ('60007', 'Q', 'AED 31,000'),\n",
    " ('8773', 'M', 'AED 15,000'),\n",
    " ('1418', 'S', 'AED 37,000'),\n",
    " ('8989', 'H', 'AED 138,000'),\n",
    " ('2652', 'B', 'AED 21,000'),\n",
    " ('86368', 'P', 'AED 12,000'),\n",
    " ('60100', 'C', 'AED 14,500'),\n",
    " ('12130', 'U', 'AED 4,900'),\n",
    " ('82682', 'S', 'AED 4,500'),\n",
    " ('80156', 'L', 'AED 3,500'),\n",
    " ('60460', 'D', 'AED 7,000'),\n",
    " ('58886', 'F', 'AED 9,500'),\n",
    " ('44044', 'U', 'AED 69,000'),\n",
    " ('181', 'U', 'AED 555,000'),\n",
    " ('3385', 'K', 'AED 15,500'),\n",
    " ('44454', 'L', 'AED 43,000'),\n",
    " ('5010', 'A', 'AED 99,500'),\n",
    " ('1925', 'L', 'AED 15,000'),\n",
    " ('1996', 'White', 'AED 215,000'),\n",
    " ('9114', 'M', 'AED 75,500'),\n",
    " ('8864', 'H', 'AED 14,800'),\n",
    " ('1615', 'Q', 'AED 27,000'),\n",
    " ('778', 'P', 'AED 345,000'),\n",
    " ('717', 'U', 'AED 380,000'),\n",
    " ('84044', 'T', 'AED 9,000'),\n",
    " ('717', 'L', 'AED 379,000'),\n",
    " ('1313', 'F', 'AED 119,000'),\n",
    " ('55911', 'U', 'AED 14,000'),\n",
    " ('31110', 'N', 'AED 12,400'),\n",
    " ('50111', 'R', 'AED 22,000'),\n",
    " ('809', 'T', 'AED 300,000'),\n",
    " ('11000', 'K', 'AED 255,000'),\n",
    " ('1418', 'S', 'AED 37,000'),\n",
    " ('8989', 'H', 'AED 138,000'),\n",
    " ('2652', 'B', 'AED 21,000'),\n",
    " ('86368', 'P', 'AED 12,000'),\n",
    " ('60100', 'C', 'AED 14,500'),\n",
    " ('12130', 'U', 'AED 4,900'),\n",
    " ('82682', 'S', 'AED 4,500'),\n",
    " ('80156', 'L', 'AED 3,500'),\n",
    " ('60460', 'D', 'AED 7,000'),\n",
    " ('58886', 'F', 'AED 9,500'),\n",
    " ('44044', 'U', 'AED 69,000'),\n",
    " ('181', 'U', 'AED 555,000'),\n",
    " ('3385', 'K', 'AED 15,500'),\n",
    " ('44454', 'L', 'AED 43,000'),\n",
    " ('5010', 'A', 'AED 99,500'),\n",
    " ('1925', 'L', 'AED 15,000'),\n",
    " ('1996', 'White', 'AED 215,000'),\n",
    " ('9114', 'M', 'AED 75,500'),\n",
    " ('8864', 'H', 'AED 14,800'),\n",
    " ('1615', 'Q', 'AED 27,000'),\n",
    " ('778', 'P', 'AED 345,000'),\n",
    " ('717', 'U', 'AED 380,000'),\n",
    " ('84044', 'T', 'AED 9,000'),\n",
    " ('717', 'L', 'AED 379,000'),\n",
    " ('1313', 'F', 'AED 119,000'),\n",
    " ('55911', 'U', 'AED 14,000'),\n",
    " ('31110', 'N', 'AED 12,400'),\n",
    " ('50111', 'R', 'AED 22,000'),\n",
    " ('809', 'T', 'AED 300,000'),\n",
    " ('11000', 'K', 'AED 255,000'),\n",
    " ('1114', 'D', 'AED 105,000'),\n",
    " ('66000', 'K', 'AED 160,000'),\n",
    " ('60007', 'Q', 'AED 31,000'),\n",
    " ('8773', 'M', 'AED 15,000'),\n",
    " ('1418', 'S', 'AED 37,000'),\n",
    " ('8989', 'H', 'AED 138,000'),\n",
    " ('2652', 'B', 'AED 21,000'),\n",
    " ('86368', 'P', 'AED 12,000'),\n",
    " ('60100', 'C', 'AED 14,500'),\n",
    " ('12130', 'U', 'AED 4,900'),\n",
    " ('82682', 'S', 'AED 4,500'),\n",
    " ('80156', 'L', 'AED 3,500'),\n",
    " ('60460', 'D', 'AED 7,000'),\n",
    " ('58886', 'F', 'AED 9,500'),\n",
    " ('44044', 'U', 'AED 69,000'),\n",
    " ('181', 'U', 'AED 555,000'),\n",
    " ('3385', 'K', 'AED 15,500'),\n",
    " ('44454', 'L', 'AED 43,000'),\n",
    " ('5010', 'A', 'AED 99,500'),\n",
    " ('1925', 'L', 'AED 15,000'),\n",
    " ('1996', 'White', 'AED 215,000'),\n",
    " ('9114', 'M', 'AED 75,500'),\n",
    " ('8864', 'H', 'AED 14,800'),\n",
    " ('1615', 'Q', 'AED 27,000'),\n",
    " ('778', 'P', 'AED 345,000'),\n",
    " ('717', 'U', 'AED 380,000'),\n",
    " ('84044', 'T', 'AED 9,000'),\n",
    " ('717', 'L', 'AED 379,000'),\n",
    " ('1313', 'F', 'AED 119,000'),\n",
    " ('55911', 'U', 'AED 14,000'),\n",
    " ('31110', 'N', 'AED 12,400'),\n",
    " ('50111', 'R', 'AED 22,000'),\n",
    " ('809', 'T', 'AED 300,000'),\n",
    " ('11000', 'K', 'AED 255,000'),\n",
    " ('1114', 'D', 'AED 105,000'),\n",
    " ('66000', 'K', 'AED 160,000'),\n",
    " ('60007', 'Q', 'AED 31,000'),\n",
    " ('8773', 'M', 'AED 15,000')]"
   ]
  },
  {
   "cell_type": "code",
   "execution_count": null,
   "id": "25093bb9",
   "metadata": {},
   "outputs": [],
   "source": []
  }
 ],
 "metadata": {
  "kernelspec": {
   "display_name": "Python 3 (ipykernel)",
   "language": "python",
   "name": "python3"
  },
  "language_info": {
   "codemirror_mode": {
    "name": "ipython",
    "version": 3
   },
   "file_extension": ".py",
   "mimetype": "text/x-python",
   "name": "python",
   "nbconvert_exporter": "python",
   "pygments_lexer": "ipython3",
   "version": "3.8.12"
  }
 },
 "nbformat": 4,
 "nbformat_minor": 5
}
