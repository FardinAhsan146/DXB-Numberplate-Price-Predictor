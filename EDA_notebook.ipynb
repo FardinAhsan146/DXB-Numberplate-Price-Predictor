{
 "cells": [
  {
   "cell_type": "code",
   "execution_count": 1,
   "id": "1f57a1dc",
   "metadata": {},
   "outputs": [],
   "source": [
    "import re\n",
    "import pandas as pd\n",
    "import numpy as np\n",
    "import seaborn as sns\n",
    "from matplotlib import pyplot as plt\n",
    "\n",
    "plt.style.use('ggplot')\n",
    "plt.rcParams['figure.figsize'] = [6,4]\n",
    "plt.rcParams[\"axes.edgecolor\"] = \"black\""
   ]
  },
  {
   "cell_type": "markdown",
   "id": "57246ad7",
   "metadata": {},
   "source": [
    "# EDA "
   ]
  },
  {
   "cell_type": "code",
   "execution_count": 2,
   "id": "ba1c9056",
   "metadata": {},
   "outputs": [],
   "source": [
    "# Load cleaned from data cleaning\n",
    "df = pd.read_csv('datasets/cleaned.csv')"
   ]
  },
  {
   "cell_type": "code",
   "execution_count": 3,
   "id": "df2def10",
   "metadata": {},
   "outputs": [
    {
     "data": {
      "text/html": [
       "<div>\n",
       "<style scoped>\n",
       "    .dataframe tbody tr th:only-of-type {\n",
       "        vertical-align: middle;\n",
       "    }\n",
       "\n",
       "    .dataframe tbody tr th {\n",
       "        vertical-align: top;\n",
       "    }\n",
       "\n",
       "    .dataframe thead th {\n",
       "        text-align: right;\n",
       "    }\n",
       "</style>\n",
       "<table border=\"1\" class=\"dataframe\">\n",
       "  <thead>\n",
       "    <tr style=\"text-align: right;\">\n",
       "      <th></th>\n",
       "      <th>number</th>\n",
       "      <th>code</th>\n",
       "      <th>price</th>\n",
       "    </tr>\n",
       "  </thead>\n",
       "  <tbody>\n",
       "    <tr>\n",
       "      <th>0</th>\n",
       "      <td>1313</td>\n",
       "      <td>U</td>\n",
       "      <td>109000</td>\n",
       "    </tr>\n",
       "    <tr>\n",
       "      <th>1</th>\n",
       "      <td>3222</td>\n",
       "      <td>H</td>\n",
       "      <td>72000</td>\n",
       "    </tr>\n",
       "    <tr>\n",
       "      <th>2</th>\n",
       "      <td>30033</td>\n",
       "      <td>P</td>\n",
       "      <td>24000</td>\n",
       "    </tr>\n",
       "    <tr>\n",
       "      <th>3</th>\n",
       "      <td>7765</td>\n",
       "      <td>L</td>\n",
       "      <td>17500</td>\n",
       "    </tr>\n",
       "    <tr>\n",
       "      <th>4</th>\n",
       "      <td>8876</td>\n",
       "      <td>U</td>\n",
       "      <td>17500</td>\n",
       "    </tr>\n",
       "    <tr>\n",
       "      <th>...</th>\n",
       "      <td>...</td>\n",
       "      <td>...</td>\n",
       "      <td>...</td>\n",
       "    </tr>\n",
       "    <tr>\n",
       "      <th>2963</th>\n",
       "      <td>26277</td>\n",
       "      <td>U</td>\n",
       "      <td>2400</td>\n",
       "    </tr>\n",
       "    <tr>\n",
       "      <th>2964</th>\n",
       "      <td>28299</td>\n",
       "      <td>U</td>\n",
       "      <td>2400</td>\n",
       "    </tr>\n",
       "    <tr>\n",
       "      <th>2965</th>\n",
       "      <td>63383</td>\n",
       "      <td>U</td>\n",
       "      <td>2400</td>\n",
       "    </tr>\n",
       "    <tr>\n",
       "      <th>2966</th>\n",
       "      <td>93966</td>\n",
       "      <td>U</td>\n",
       "      <td>2400</td>\n",
       "    </tr>\n",
       "    <tr>\n",
       "      <th>2967</th>\n",
       "      <td>96656</td>\n",
       "      <td>U</td>\n",
       "      <td>2400</td>\n",
       "    </tr>\n",
       "  </tbody>\n",
       "</table>\n",
       "<p>2968 rows × 3 columns</p>\n",
       "</div>"
      ],
      "text/plain": [
       "      number code   price\n",
       "0       1313    U  109000\n",
       "1       3222    H   72000\n",
       "2      30033    P   24000\n",
       "3       7765    L   17500\n",
       "4       8876    U   17500\n",
       "...      ...  ...     ...\n",
       "2963   26277    U    2400\n",
       "2964   28299    U    2400\n",
       "2965   63383    U    2400\n",
       "2966   93966    U    2400\n",
       "2967   96656    U    2400\n",
       "\n",
       "[2968 rows x 3 columns]"
      ]
     },
     "execution_count": 3,
     "metadata": {},
     "output_type": "execute_result"
    }
   ],
   "source": [
    "df"
   ]
  },
  {
   "cell_type": "code",
   "execution_count": 4,
   "id": "9eba5acc",
   "metadata": {},
   "outputs": [
    {
     "name": "stdout",
     "output_type": "stream",
     "text": [
      "<class 'pandas.core.frame.DataFrame'>\n",
      "RangeIndex: 2968 entries, 0 to 2967\n",
      "Data columns (total 3 columns):\n",
      " #   Column  Non-Null Count  Dtype \n",
      "---  ------  --------------  ----- \n",
      " 0   number  2968 non-null   int64 \n",
      " 1   code    2968 non-null   object\n",
      " 2   price   2968 non-null   int64 \n",
      "dtypes: int64(2), object(1)\n",
      "memory usage: 69.7+ KB\n"
     ]
    }
   ],
   "source": [
    "# LGTM\n",
    "df.info()"
   ]
  },
  {
   "cell_type": "markdown",
   "id": "c44e2d98",
   "metadata": {},
   "source": [
    "## Target / Number of digits sanity checks"
   ]
  },
  {
   "cell_type": "code",
   "execution_count": 5,
   "id": "9b566161",
   "metadata": {},
   "outputs": [
    {
     "data": {
      "text/html": [
       "<div>\n",
       "<style scoped>\n",
       "    .dataframe tbody tr th:only-of-type {\n",
       "        vertical-align: middle;\n",
       "    }\n",
       "\n",
       "    .dataframe tbody tr th {\n",
       "        vertical-align: top;\n",
       "    }\n",
       "\n",
       "    .dataframe thead th {\n",
       "        text-align: right;\n",
       "    }\n",
       "</style>\n",
       "<table border=\"1\" class=\"dataframe\">\n",
       "  <thead>\n",
       "    <tr style=\"text-align: right;\">\n",
       "      <th></th>\n",
       "      <th>number</th>\n",
       "      <th>code</th>\n",
       "      <th>price</th>\n",
       "      <th>num_digits</th>\n",
       "    </tr>\n",
       "  </thead>\n",
       "  <tbody>\n",
       "    <tr>\n",
       "      <th>0</th>\n",
       "      <td>1313</td>\n",
       "      <td>U</td>\n",
       "      <td>109000</td>\n",
       "      <td>4</td>\n",
       "    </tr>\n",
       "    <tr>\n",
       "      <th>1</th>\n",
       "      <td>3222</td>\n",
       "      <td>H</td>\n",
       "      <td>72000</td>\n",
       "      <td>4</td>\n",
       "    </tr>\n",
       "    <tr>\n",
       "      <th>2</th>\n",
       "      <td>30033</td>\n",
       "      <td>P</td>\n",
       "      <td>24000</td>\n",
       "      <td>5</td>\n",
       "    </tr>\n",
       "    <tr>\n",
       "      <th>3</th>\n",
       "      <td>7765</td>\n",
       "      <td>L</td>\n",
       "      <td>17500</td>\n",
       "      <td>4</td>\n",
       "    </tr>\n",
       "    <tr>\n",
       "      <th>4</th>\n",
       "      <td>8876</td>\n",
       "      <td>U</td>\n",
       "      <td>17500</td>\n",
       "      <td>4</td>\n",
       "    </tr>\n",
       "  </tbody>\n",
       "</table>\n",
       "</div>"
      ],
      "text/plain": [
       "   number code   price  num_digits\n",
       "0    1313    U  109000           4\n",
       "1    3222    H   72000           4\n",
       "2   30033    P   24000           5\n",
       "3    7765    L   17500           4\n",
       "4    8876    U   17500           4"
      ]
     },
     "execution_count": 5,
     "metadata": {},
     "output_type": "execute_result"
    }
   ],
   "source": [
    "# new col for # digits\n",
    "# Datatype switcheroo for producing new colum with less loc\n",
    "df['number'] = df['number'].astype(str)\n",
    "df['num_digits'] = df['number'].apply(lambda x: len(x))\n",
    "df['number'] = df['number'].astype(int)\n",
    "\n",
    "df.head()"
   ]
  },
  {
   "cell_type": "code",
   "execution_count": 16,
   "id": "d4e23c9a",
   "metadata": {},
   "outputs": [
    {
     "data": {
      "image/png": "[encoded data removed]",
      "text/plain": [
       "<Figure size 432x288 with 1 Axes>"
      ]
     },
     "metadata": {},
     "output_type": "display_data"
    }
   ],
   "source": [
    "# plot # digits for dataviz\n",
    "df['num_digits'].value_counts().plot(kind = 'bar', color = 'red');\n",
    "plt.title('Number of digits');\n",
    "plt.xlabel('Digits');\n",
    "plt.ylabel('Count');"
   ]
  },
  {
   "cell_type": "code",
   "execution_count": 7,
   "id": "3e8d237f",
   "metadata": {},
   "outputs": [
    {
     "data": {
      "text/plain": [
       "5    2934\n",
       "4      33\n",
       "3       1\n",
       "Name: num_digits, dtype: int64"
      ]
     },
     "execution_count": 7,
     "metadata": {},
     "output_type": "execute_result"
    }
   ],
   "source": [
    "# same dataviz but this time numbers. \n",
    "# This poses dillemma of should I drop \n",
    "# the lesser numbers to balance dataset. \n",
    "# However number of digits is a v.imp feature\n",
    "df['num_digits'].value_counts()"
   ]
  },
  {
   "cell_type": "code",
   "execution_count": 8,
   "id": "d73aabd9",
   "metadata": {},
   "outputs": [
    {
     "data": {
      "text/plain": [
       "count     2934.000000\n",
       "mean      2765.507839\n",
       "std       1869.283480\n",
       "min       2000.000000\n",
       "25%       2400.000000\n",
       "50%       2400.000000\n",
       "75%       2600.000000\n",
       "max      72000.000000\n",
       "Name: price, dtype: float64"
      ]
     },
     "execution_count": 8,
     "metadata": {},
     "output_type": "execute_result"
    }
   ],
   "source": [
    "# Given 5 is the most common # plate, \n",
    "# Our models evaluation metrics will have to satisfy these numbers\n",
    "# basically get RMSE, MAE as close to std as possible\n",
    "# If higher than STD, model is unfeasible \n",
    "# However results could go off kilter with <5 digits\n",
    "df.loc[df['num_digits'] == 5,'price'].describe()"
   ]
  },
  {
   "cell_type": "code",
   "execution_count": 9,
   "id": "ec0a0b00",
   "metadata": {},
   "outputs": [
    {
     "data": {
      "text/plain": [
       "count        34.000000\n",
       "mean      27523.529412\n",
       "std       40296.402267\n",
       "min        6900.000000\n",
       "25%       12500.000000\n",
       "50%       13200.000000\n",
       "75%       17350.000000\n",
       "max      215000.000000\n",
       "Name: price, dtype: float64"
      ]
     },
     "execution_count": 9,
     "metadata": {},
     "output_type": "execute_result"
    }
   ],
   "source": [
    "# Seems to me there is much more room for error here\n",
    "# Producing a model within these metrics wouldn't be hard\n",
    "df.loc[df['num_digits'] != 5,'price'].describe()"
   ]
  },
  {
   "cell_type": "code",
   "execution_count": 10,
   "id": "5842d6f2",
   "metadata": {},
   "outputs": [
    {
     "data": {
      "text/plain": [
       "count      2968.000000\n",
       "mean       3049.123989\n",
       "std        5334.634080\n",
       "min        2000.000000\n",
       "25%        2400.000000\n",
       "50%        2400.000000\n",
       "75%        2600.000000\n",
       "max      215000.000000\n",
       "Name: price, dtype: float64"
      ]
     },
     "execution_count": 10,
     "metadata": {},
     "output_type": "execute_result"
    }
   ],
   "source": [
    "# As expected somewhere in between\n",
    "# This might prove to be difficult\n",
    "df['price'].describe()"
   ]
  },
  {
   "cell_type": "code",
   "execution_count": 11,
   "id": "0be65889",
   "metadata": {},
   "outputs": [
    {
     "data": {
      "image/png": "[encoded data removed]",
      "text/plain": [
       "<Figure size 432x288 with 1 Axes>"
      ]
     },
     "metadata": {},
     "output_type": "display_data"
    }
   ],
   "source": [
    "# distribution of price\n",
    "sns.kdeplot(df[\"price\"], shade=True);"
   ]
  },
  {
   "cell_type": "code",
   "execution_count": 12,
   "id": "d7a61ddd",
   "metadata": {},
   "outputs": [
    {
     "data": {
      "image/png": "[encoded data removed]",
      "text/plain": [
       "<Figure size 432x288 with 1 Axes>"
      ]
     },
     "metadata": {},
     "output_type": "display_data"
    }
   ],
   "source": [
    "# Scatter of price against #\n",
    "sns.scatterplot(x = 'number', y = 'price', data = df);"
   ]
  },
  {
   "cell_type": "code",
   "execution_count": 15,
   "id": "809d815c",
   "metadata": {},
   "outputs": [
    {
     "data": {
      "image/png": "[encoded data removed]",
      "text/plain": [
       "<Figure size 432x288 with 1 Axes>"
      ]
     },
     "metadata": {},
     "output_type": "display_data"
    }
   ],
   "source": [
    "# Average price # digits\n",
    "df.groupby(['num_digits'])['price'].mean().plot(kind = 'bar', color = 'red');\n",
    "plt.title('Average price by digit');\n",
    "plt.xlabel('Price (AED)');\n",
    "plt.ylabel('Digit (#)');"
   ]
  },
  {
   "cell_type": "code",
   "execution_count": 19,
   "id": "11fc3d26",
   "metadata": {},
   "outputs": [
    {
     "data": {
      "image/png": "[encoded data removed]",
      "text/plain": [
       "<Figure size 432x288 with 1 Axes>"
      ]
     },
     "metadata": {},
     "output_type": "display_data"
    }
   ],
   "source": [
    "# Plot average price by code\n",
    "only_fives = df.loc[df['num_digits'] == 5]\n",
    "b_plot = only_fives.groupby(['code'])['price'].mean().sort_values()\n",
    "b_plot.plot(kind = 'bar', color = 'red');\n",
    "plt.title('Average price by code');\n",
    "plt.xlabel('Code');\n",
    "plt.ylabel('Average price (AED)');\n",
    "\n",
    "#price of H looks to be high, need to investigate that \n",
    "# Original plan to to one hot encode the codes but it seems to me a better idea would be to \n",
    "# Label encode H as a higher value. "
   ]
  },
  {
   "cell_type": "code",
   "execution_count": 20,
   "id": "310966cf",
   "metadata": {},
   "outputs": [
    {
     "data": {
      "text/html": [
       "<div>\n",
       "<style scoped>\n",
       "    .dataframe tbody tr th:only-of-type {\n",
       "        vertical-align: middle;\n",
       "    }\n",
       "\n",
       "    .dataframe tbody tr th {\n",
       "        vertical-align: top;\n",
       "    }\n",
       "\n",
       "    .dataframe thead th {\n",
       "        text-align: right;\n",
       "    }\n",
       "</style>\n",
       "<table border=\"1\" class=\"dataframe\">\n",
       "  <thead>\n",
       "    <tr style=\"text-align: right;\">\n",
       "      <th></th>\n",
       "      <th>number</th>\n",
       "      <th>code</th>\n",
       "      <th>price</th>\n",
       "      <th>num_digits</th>\n",
       "    </tr>\n",
       "  </thead>\n",
       "  <tbody>\n",
       "    <tr>\n",
       "      <th>12</th>\n",
       "      <td>40333</td>\n",
       "      <td>H</td>\n",
       "      <td>10900</td>\n",
       "      <td>5</td>\n",
       "    </tr>\n",
       "    <tr>\n",
       "      <th>2695</th>\n",
       "      <td>78888</td>\n",
       "      <td>H</td>\n",
       "      <td>72000</td>\n",
       "      <td>5</td>\n",
       "    </tr>\n",
       "    <tr>\n",
       "      <th>2793</th>\n",
       "      <td>44525</td>\n",
       "      <td>H</td>\n",
       "      <td>3000</td>\n",
       "      <td>5</td>\n",
       "    </tr>\n",
       "  </tbody>\n",
       "</table>\n",
       "</div>"
      ],
      "text/plain": [
       "      number code  price  num_digits\n",
       "12     40333    H  10900           5\n",
       "2695   78888    H  72000           5\n",
       "2793   44525    H   3000           5"
      ]
     },
     "execution_count": 20,
     "metadata": {},
     "output_type": "execute_result"
    }
   ],
   "source": [
    "# investigating the trend seen before further\n",
    "# Seems to me two outlier values\n",
    "# But could not be outliers based on feature extarction need to investigate that\n",
    "df.loc[(df['code'] == 'H') & (df['num_digits'] == 5)]"
   ]
  },
  {
   "cell_type": "code",
   "execution_count": 23,
   "id": "dc00c7e3",
   "metadata": {},
   "outputs": [
    {
     "data": {
      "text/html": [
       "<div>\n",
       "<style scoped>\n",
       "    .dataframe tbody tr th:only-of-type {\n",
       "        vertical-align: middle;\n",
       "    }\n",
       "\n",
       "    .dataframe tbody tr th {\n",
       "        vertical-align: top;\n",
       "    }\n",
       "\n",
       "    .dataframe thead th {\n",
       "        text-align: right;\n",
       "    }\n",
       "</style>\n",
       "<table border=\"1\" class=\"dataframe\">\n",
       "  <thead>\n",
       "    <tr style=\"text-align: right;\">\n",
       "      <th></th>\n",
       "      <th>number</th>\n",
       "      <th>code</th>\n",
       "      <th>price</th>\n",
       "      <th>num_digits</th>\n",
       "    </tr>\n",
       "  </thead>\n",
       "  <tbody>\n",
       "    <tr>\n",
       "      <th>0</th>\n",
       "      <td>1313</td>\n",
       "      <td>U</td>\n",
       "      <td>109000</td>\n",
       "      <td>4</td>\n",
       "    </tr>\n",
       "    <tr>\n",
       "      <th>1</th>\n",
       "      <td>3222</td>\n",
       "      <td>H</td>\n",
       "      <td>72000</td>\n",
       "      <td>4</td>\n",
       "    </tr>\n",
       "    <tr>\n",
       "      <th>2</th>\n",
       "      <td>30033</td>\n",
       "      <td>P</td>\n",
       "      <td>24000</td>\n",
       "      <td>5</td>\n",
       "    </tr>\n",
       "    <tr>\n",
       "      <th>3</th>\n",
       "      <td>7765</td>\n",
       "      <td>L</td>\n",
       "      <td>17500</td>\n",
       "      <td>4</td>\n",
       "    </tr>\n",
       "    <tr>\n",
       "      <th>4</th>\n",
       "      <td>8876</td>\n",
       "      <td>U</td>\n",
       "      <td>17500</td>\n",
       "      <td>4</td>\n",
       "    </tr>\n",
       "  </tbody>\n",
       "</table>\n",
       "</div>"
      ],
      "text/plain": [
       "   number code   price  num_digits\n",
       "0    1313    U  109000           4\n",
       "1    3222    H   72000           4\n",
       "2   30033    P   24000           5\n",
       "3    7765    L   17500           4\n",
       "4    8876    U   17500           4"
      ]
     },
     "execution_count": 23,
     "metadata": {},
     "output_type": "execute_result"
    }
   ],
   "source": [
    "# There is a trend\n",
    "# Less # of unique digits and a pattern\n",
    "# Will help in feature engineering\n",
    "df.loc[df['price'] > 10000].head()"
   ]
  },
  {
   "cell_type": "code",
   "execution_count": 18,
   "id": "29221676",
   "metadata": {},
   "outputs": [
    {
     "data": {
      "image/png": "[encoded data removed]",
      "text/plain": [
       "<Figure size 432x288 with 1 Axes>"
      ]
     },
     "metadata": {},
     "output_type": "display_data"
    }
   ],
   "source": [
    "# just need to see if the count of the codes\n",
    "df['code'].value_counts().plot(kind = 'bar', color = 'red');\n",
    "plt.title('Number of letters');\n",
    "plt.xlabel('Code');\n",
    "plt.ylabel('Count');\n",
    "# Its seems to me that H is not a majority and most are mindane values\n",
    "# This is good news as I can feed the data in directly without any preprocessing"
   ]
  },
  {
   "cell_type": "code",
   "execution_count": null,
   "id": "26b9e1d6",
   "metadata": {},
   "outputs": [],
   "source": []
  }
 ],
 "metadata": {
  "kernelspec": {
   "display_name": "Python 3 (ipykernel)",
   "language": "python",
   "name": "python3"
  },
  "language_info": {
   "codemirror_mode": {
    "name": "ipython",
    "version": 3
   },
   "file_extension": ".py",
   "mimetype": "text/x-python",
   "name": "python",
   "nbconvert_exporter": "python",
   "pygments_lexer": "ipython3",
   "version": "3.8.12"
  }
 },
 "nbformat": 4,
 "nbformat_minor": 5
}
