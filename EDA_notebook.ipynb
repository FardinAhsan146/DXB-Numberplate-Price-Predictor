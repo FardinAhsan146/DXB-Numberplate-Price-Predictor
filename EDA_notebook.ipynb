{
 "cells": [
  {
   "cell_type": "code",
   "execution_count": 1,
   "id": "1f57a1dc",
   "metadata": {},
   "outputs": [],
   "source": [
    "import re\n",
    "import pandas as pd\n",
    "import numpy as np\n",
    "import seaborn as sns\n",
    "from matplotlib import pyplot as plt\n",
    "\n",
    "plt.style.use('ggplot')\n",
    "plt.rcParams['figure.figsize'] = [6,4]\n",
    "plt.rcParams[\"axes.edgecolor\"] = \"black\""
   ]
  },
  {
   "cell_type": "markdown",
   "id": "57246ad7",
   "metadata": {},
   "source": [
    "# EDA "
   ]
  },
  {
   "cell_type": "code",
   "execution_count": 2,
   "id": "ba1c9056",
   "metadata": {},
   "outputs": [],
   "source": [
    "# Load cleaned from data cleaning\n",
    "df = pd.read_csv('datasets/cleaned.csv')"
   ]
  },
  {
   "cell_type": "code",
   "execution_count": 3,
   "id": "df2def10",
   "metadata": {},
   "outputs": [
    {
     "data": {
      "text/html": [
       "<div>\n",
       "<style scoped>\n",
       "    .dataframe tbody tr th:only-of-type {\n",
       "        vertical-align: middle;\n",
       "    }\n",
       "\n",
       "    .dataframe tbody tr th {\n",
       "        vertical-align: top;\n",
       "    }\n",
       "\n",
       "    .dataframe thead th {\n",
       "        text-align: right;\n",
       "    }\n",
       "</style>\n",
       "<table border=\"1\" class=\"dataframe\">\n",
       "  <thead>\n",
       "    <tr style=\"text-align: right;\">\n",
       "      <th></th>\n",
       "      <th>number</th>\n",
       "      <th>code</th>\n",
       "      <th>price</th>\n",
       "      <th>num_digits</th>\n",
       "    </tr>\n",
       "  </thead>\n",
       "  <tbody>\n",
       "    <tr>\n",
       "      <th>0</th>\n",
       "      <td>1313</td>\n",
       "      <td>U</td>\n",
       "      <td>109000</td>\n",
       "      <td>4</td>\n",
       "    </tr>\n",
       "    <tr>\n",
       "      <th>1</th>\n",
       "      <td>3222</td>\n",
       "      <td>H</td>\n",
       "      <td>72000</td>\n",
       "      <td>4</td>\n",
       "    </tr>\n",
       "    <tr>\n",
       "      <th>2</th>\n",
       "      <td>30033</td>\n",
       "      <td>P</td>\n",
       "      <td>24000</td>\n",
       "      <td>5</td>\n",
       "    </tr>\n",
       "    <tr>\n",
       "      <th>3</th>\n",
       "      <td>7765</td>\n",
       "      <td>L</td>\n",
       "      <td>17500</td>\n",
       "      <td>4</td>\n",
       "    </tr>\n",
       "    <tr>\n",
       "      <th>4</th>\n",
       "      <td>8876</td>\n",
       "      <td>U</td>\n",
       "      <td>17500</td>\n",
       "      <td>4</td>\n",
       "    </tr>\n",
       "    <tr>\n",
       "      <th>...</th>\n",
       "      <td>...</td>\n",
       "      <td>...</td>\n",
       "      <td>...</td>\n",
       "      <td>...</td>\n",
       "    </tr>\n",
       "    <tr>\n",
       "      <th>3835</th>\n",
       "      <td>7210</td>\n",
       "      <td>Q</td>\n",
       "      <td>9200</td>\n",
       "      <td>4</td>\n",
       "    </tr>\n",
       "    <tr>\n",
       "      <th>3836</th>\n",
       "      <td>6353</td>\n",
       "      <td>E</td>\n",
       "      <td>15000</td>\n",
       "      <td>4</td>\n",
       "    </tr>\n",
       "    <tr>\n",
       "      <th>3837</th>\n",
       "      <td>91181</td>\n",
       "      <td>R</td>\n",
       "      <td>6500</td>\n",
       "      <td>5</td>\n",
       "    </tr>\n",
       "    <tr>\n",
       "      <th>3838</th>\n",
       "      <td>8704</td>\n",
       "      <td>Q</td>\n",
       "      <td>6600</td>\n",
       "      <td>4</td>\n",
       "    </tr>\n",
       "    <tr>\n",
       "      <th>3839</th>\n",
       "      <td>93603</td>\n",
       "      <td>A</td>\n",
       "      <td>2900</td>\n",
       "      <td>5</td>\n",
       "    </tr>\n",
       "  </tbody>\n",
       "</table>\n",
       "<p>3840 rows × 4 columns</p>\n",
       "</div>"
      ],
      "text/plain": [
       "      number code   price  num_digits\n",
       "0       1313    U  109000           4\n",
       "1       3222    H   72000           4\n",
       "2      30033    P   24000           5\n",
       "3       7765    L   17500           4\n",
       "4       8876    U   17500           4\n",
       "...      ...  ...     ...         ...\n",
       "3835    7210    Q    9200           4\n",
       "3836    6353    E   15000           4\n",
       "3837   91181    R    6500           5\n",
       "3838    8704    Q    6600           4\n",
       "3839   93603    A    2900           5\n",
       "\n",
       "[3840 rows x 4 columns]"
      ]
     },
     "execution_count": 3,
     "metadata": {},
     "output_type": "execute_result"
    }
   ],
   "source": [
    "df"
   ]
  },
  {
   "cell_type": "code",
   "execution_count": 4,
   "id": "9eba5acc",
   "metadata": {},
   "outputs": [
    {
     "name": "stdout",
     "output_type": "stream",
     "text": [
      "<class 'pandas.core.frame.DataFrame'>\n",
      "RangeIndex: 3840 entries, 0 to 3839\n",
      "Data columns (total 4 columns):\n",
      " #   Column      Non-Null Count  Dtype \n",
      "---  ------      --------------  ----- \n",
      " 0   number      3840 non-null   int64 \n",
      " 1   code        3840 non-null   object\n",
      " 2   price       3840 non-null   int64 \n",
      " 3   num_digits  3840 non-null   int64 \n",
      "dtypes: int64(3), object(1)\n",
      "memory usage: 120.1+ KB\n"
     ]
    }
   ],
   "source": [
    "# LGTM\n",
    "df.info()"
   ]
  },
  {
   "cell_type": "markdown",
   "id": "c44e2d98",
   "metadata": {},
   "source": [
    "## Target / Number of digits sanity checks"
   ]
  },
  {
   "cell_type": "code",
   "execution_count": 5,
   "id": "9b566161",
   "metadata": {},
   "outputs": [
    {
     "data": {
      "text/html": [
       "<div>\n",
       "<style scoped>\n",
       "    .dataframe tbody tr th:only-of-type {\n",
       "        vertical-align: middle;\n",
       "    }\n",
       "\n",
       "    .dataframe tbody tr th {\n",
       "        vertical-align: top;\n",
       "    }\n",
       "\n",
       "    .dataframe thead th {\n",
       "        text-align: right;\n",
       "    }\n",
       "</style>\n",
       "<table border=\"1\" class=\"dataframe\">\n",
       "  <thead>\n",
       "    <tr style=\"text-align: right;\">\n",
       "      <th></th>\n",
       "      <th>number</th>\n",
       "      <th>code</th>\n",
       "      <th>price</th>\n",
       "      <th>num_digits</th>\n",
       "    </tr>\n",
       "  </thead>\n",
       "  <tbody>\n",
       "    <tr>\n",
       "      <th>0</th>\n",
       "      <td>1313</td>\n",
       "      <td>U</td>\n",
       "      <td>109000</td>\n",
       "      <td>4</td>\n",
       "    </tr>\n",
       "    <tr>\n",
       "      <th>1</th>\n",
       "      <td>3222</td>\n",
       "      <td>H</td>\n",
       "      <td>72000</td>\n",
       "      <td>4</td>\n",
       "    </tr>\n",
       "    <tr>\n",
       "      <th>2</th>\n",
       "      <td>30033</td>\n",
       "      <td>P</td>\n",
       "      <td>24000</td>\n",
       "      <td>5</td>\n",
       "    </tr>\n",
       "    <tr>\n",
       "      <th>3</th>\n",
       "      <td>7765</td>\n",
       "      <td>L</td>\n",
       "      <td>17500</td>\n",
       "      <td>4</td>\n",
       "    </tr>\n",
       "    <tr>\n",
       "      <th>4</th>\n",
       "      <td>8876</td>\n",
       "      <td>U</td>\n",
       "      <td>17500</td>\n",
       "      <td>4</td>\n",
       "    </tr>\n",
       "  </tbody>\n",
       "</table>\n",
       "</div>"
      ],
      "text/plain": [
       "   number code   price  num_digits\n",
       "0    1313    U  109000           4\n",
       "1    3222    H   72000           4\n",
       "2   30033    P   24000           5\n",
       "3    7765    L   17500           4\n",
       "4    8876    U   17500           4"
      ]
     },
     "execution_count": 5,
     "metadata": {},
     "output_type": "execute_result"
    }
   ],
   "source": [
    "# new col for # digits\n",
    "# Datatype switcheroo for producing new colum with less loc\n",
    "df['number'] = df['number'].astype(str)\n",
    "df['num_digits'] = df['number'].apply(lambda x: len(x))\n",
    "df['number'] = df['number'].astype(int)\n",
    "\n",
    "df.head()"
   ]
  },
  {
   "cell_type": "code",
   "execution_count": 6,
   "id": "d4e23c9a",
   "metadata": {},
   "outputs": [
    {
     "data": {
      "image/png": "[encoded data removed]",
      "text/plain": [
       "<Figure size 432x288 with 1 Axes>"
      ]
     },
     "metadata": {},
     "output_type": "display_data"
    }
   ],
   "source": [
    "# plot # digits for dataviz\n",
    "df['num_digits'].value_counts().plot(kind = 'bar', color = 'red');\n",
    "plt.title('Number of digits');\n",
    "plt.xlabel('Digits');\n",
    "plt.ylabel('Count');"
   ]
  },
  {
   "cell_type": "code",
   "execution_count": 7,
   "id": "3e8d237f",
   "metadata": {},
   "outputs": [
    {
     "data": {
      "text/plain": [
       "5    3505\n",
       "4     297\n",
       "3      36\n",
       "2       2\n",
       "Name: num_digits, dtype: int64"
      ]
     },
     "execution_count": 7,
     "metadata": {},
     "output_type": "execute_result"
    }
   ],
   "source": [
    "# same dataviz but this time numbers. \n",
    "# This poses dillemma of should I drop \n",
    "# the lesser numbers to balance dataset. \n",
    "# However number of digits is a v.imp feature\n",
    "df['num_digits'].value_counts()"
   ]
  },
  {
   "cell_type": "code",
   "execution_count": 8,
   "id": "d73aabd9",
   "metadata": {},
   "outputs": [
    {
     "data": {
      "text/plain": [
       "count    3.505000e+03\n",
       "mean     5.605649e+03\n",
       "std      5.496686e+04\n",
       "min      1.234000e+03\n",
       "25%      2.400000e+03\n",
       "50%      2.600000e+03\n",
       "75%      3.000000e+03\n",
       "max      2.990000e+06\n",
       "Name: price, dtype: float64"
      ]
     },
     "execution_count": 8,
     "metadata": {},
     "output_type": "execute_result"
    }
   ],
   "source": [
    "# Given 5 is the most common # plate, \n",
    "# Our models evaluation metrics will have to satisfy these numbers\n",
    "# basically get RMSE, MAE as close to std as possible\n",
    "# If higher than STD, model is unfeasible \n",
    "# However results could go off kilter with <5 digits\n",
    "df.loc[df['num_digits'] == 5,'price'].describe()"
   ]
  },
  {
   "cell_type": "code",
   "execution_count": 9,
   "id": "ec0a0b00",
   "metadata": {},
   "outputs": [
    {
     "data": {
      "text/plain": [
       "count    3.350000e+02\n",
       "mean     8.920710e+04\n",
       "std      2.231985e+05\n",
       "min      1.000000e+00\n",
       "25%      1.090000e+04\n",
       "50%      1.650000e+04\n",
       "75%      5.550000e+04\n",
       "max      2.250000e+06\n",
       "Name: price, dtype: float64"
      ]
     },
     "execution_count": 9,
     "metadata": {},
     "output_type": "execute_result"
    }
   ],
   "source": [
    "# Seems to me there is much more room for error here\n",
    "# Producing a model within these metrics wouldn't be hard\n",
    "df.loc[df['num_digits'] != 5,'price'].describe()"
   ]
  },
  {
   "cell_type": "code",
   "execution_count": 10,
   "id": "5842d6f2",
   "metadata": {},
   "outputs": [
    {
     "data": {
      "text/plain": [
       "count    3.840000e+03\n",
       "mean     1.289900e+04\n",
       "std      8.745635e+04\n",
       "min      1.000000e+00\n",
       "25%      2.400000e+03\n",
       "50%      2.600000e+03\n",
       "75%      3.000000e+03\n",
       "max      2.990000e+06\n",
       "Name: price, dtype: float64"
      ]
     },
     "execution_count": 10,
     "metadata": {},
     "output_type": "execute_result"
    }
   ],
   "source": [
    "# As expected somewhere in between\n",
    "# This might prove to be difficult\n",
    "df['price'].describe()"
   ]
  },
  {
   "cell_type": "code",
   "execution_count": 11,
   "id": "0be65889",
   "metadata": {},
   "outputs": [
    {
     "data": {
      "image/png": "[encoded data removed]",
      "text/plain": [
       "<Figure size 432x288 with 1 Axes>"
      ]
     },
     "metadata": {},
     "output_type": "display_data"
    }
   ],
   "source": [
    "# distribution of price\n",
    "sns.kdeplot(df[\"price\"], shade=True);"
   ]
  },
  {
   "cell_type": "code",
   "execution_count": 12,
   "id": "d7a61ddd",
   "metadata": {},
   "outputs": [
    {
     "data": {
      "image/png": "[encoded data removed]",
      "text/plain": [
       "<Figure size 432x288 with 1 Axes>"
      ]
     },
     "metadata": {},
     "output_type": "display_data"
    }
   ],
   "source": [
    "# Scatter of price against #\n",
    "sns.scatterplot(x = 'number', y = 'price', data = df);"
   ]
  },
  {
   "cell_type": "code",
   "execution_count": 13,
   "id": "809d815c",
   "metadata": {},
   "outputs": [
    {
     "data": {
      "image/png": "[encoded data removed]",
      "text/plain": [
       "<Figure size 432x288 with 1 Axes>"
      ]
     },
     "metadata": {},
     "output_type": "display_data"
    }
   ],
   "source": [
    "# Average price # digits\n",
    "df.groupby(['num_digits'])['price'].mean().plot(kind = 'bar', color = 'red');\n",
    "plt.title('Average price by digit');\n",
    "plt.xlabel('Price (AED)');\n",
    "plt.ylabel('Digit (#)');"
   ]
  },
  {
   "cell_type": "code",
   "execution_count": 14,
   "id": "11fc3d26",
   "metadata": {},
   "outputs": [
    {
     "data": {
      "image/png": "[encoded data removed]",
      "text/plain": [
       "<Figure size 432x288 with 1 Axes>"
      ]
     },
     "metadata": {},
     "output_type": "display_data"
    }
   ],
   "source": [
    "# Plot average price by code\n",
    "only_fives = df.loc[df['num_digits'] == 5]\n",
    "b_plot = only_fives.groupby(['code'])['price'].mean().sort_values()\n",
    "b_plot.plot(kind = 'bar', color = 'red');\n",
    "plt.title('Average price by code');\n",
    "plt.xlabel('Code');\n",
    "plt.ylabel('Average price (AED)');\n",
    "\n",
    "#price of H looks to be high, need to investigate that \n",
    "# Original plan to to one hot encode the codes but it seems to me a better idea would be to \n",
    "# Label encode H as a higher value. "
   ]
  },
  {
   "cell_type": "code",
   "execution_count": 15,
   "id": "310966cf",
   "metadata": {},
   "outputs": [
    {
     "data": {
      "text/html": [
       "<div>\n",
       "<style scoped>\n",
       "    .dataframe tbody tr th:only-of-type {\n",
       "        vertical-align: middle;\n",
       "    }\n",
       "\n",
       "    .dataframe tbody tr th {\n",
       "        vertical-align: top;\n",
       "    }\n",
       "\n",
       "    .dataframe thead th {\n",
       "        text-align: right;\n",
       "    }\n",
       "</style>\n",
       "<table border=\"1\" class=\"dataframe\">\n",
       "  <thead>\n",
       "    <tr style=\"text-align: right;\">\n",
       "      <th></th>\n",
       "      <th>number</th>\n",
       "      <th>code</th>\n",
       "      <th>price</th>\n",
       "      <th>num_digits</th>\n",
       "    </tr>\n",
       "  </thead>\n",
       "  <tbody>\n",
       "    <tr>\n",
       "      <th>2989</th>\n",
       "      <td>1996</td>\n",
       "      <td>White</td>\n",
       "      <td>215000</td>\n",
       "      <td>4</td>\n",
       "    </tr>\n",
       "    <tr>\n",
       "      <th>3204</th>\n",
       "      <td>60011</td>\n",
       "      <td>White</td>\n",
       "      <td>6899</td>\n",
       "      <td>5</td>\n",
       "    </tr>\n",
       "    <tr>\n",
       "      <th>3275</th>\n",
       "      <td>666</td>\n",
       "      <td>White</td>\n",
       "      <td>1570000</td>\n",
       "      <td>3</td>\n",
       "    </tr>\n",
       "    <tr>\n",
       "      <th>3348</th>\n",
       "      <td>91800</td>\n",
       "      <td>White</td>\n",
       "      <td>15000</td>\n",
       "      <td>5</td>\n",
       "    </tr>\n",
       "    <tr>\n",
       "      <th>3355</th>\n",
       "      <td>30103</td>\n",
       "      <td>White</td>\n",
       "      <td>12500</td>\n",
       "      <td>5</td>\n",
       "    </tr>\n",
       "    <tr>\n",
       "      <th>3530</th>\n",
       "      <td>1898</td>\n",
       "      <td>White</td>\n",
       "      <td>16000</td>\n",
       "      <td>4</td>\n",
       "    </tr>\n",
       "    <tr>\n",
       "      <th>3538</th>\n",
       "      <td>444</td>\n",
       "      <td>White</td>\n",
       "      <td>1450000</td>\n",
       "      <td>3</td>\n",
       "    </tr>\n",
       "    <tr>\n",
       "      <th>3578</th>\n",
       "      <td>4868</td>\n",
       "      <td>White</td>\n",
       "      <td>14500</td>\n",
       "      <td>4</td>\n",
       "    </tr>\n",
       "    <tr>\n",
       "      <th>3604</th>\n",
       "      <td>33333</td>\n",
       "      <td>White</td>\n",
       "      <td>850000</td>\n",
       "      <td>5</td>\n",
       "    </tr>\n",
       "    <tr>\n",
       "      <th>3621</th>\n",
       "      <td>62</td>\n",
       "      <td>White</td>\n",
       "      <td>1790000</td>\n",
       "      <td>2</td>\n",
       "    </tr>\n",
       "    <tr>\n",
       "      <th>3629</th>\n",
       "      <td>81</td>\n",
       "      <td>White</td>\n",
       "      <td>2250000</td>\n",
       "      <td>2</td>\n",
       "    </tr>\n",
       "    <tr>\n",
       "      <th>3634</th>\n",
       "      <td>62063</td>\n",
       "      <td>White</td>\n",
       "      <td>5000</td>\n",
       "      <td>5</td>\n",
       "    </tr>\n",
       "    <tr>\n",
       "      <th>3679</th>\n",
       "      <td>11111</td>\n",
       "      <td>White</td>\n",
       "      <td>2990000</td>\n",
       "      <td>5</td>\n",
       "    </tr>\n",
       "    <tr>\n",
       "      <th>3682</th>\n",
       "      <td>55123</td>\n",
       "      <td>White</td>\n",
       "      <td>25000</td>\n",
       "      <td>5</td>\n",
       "    </tr>\n",
       "    <tr>\n",
       "      <th>3695</th>\n",
       "      <td>1234</td>\n",
       "      <td>White</td>\n",
       "      <td>390000</td>\n",
       "      <td>4</td>\n",
       "    </tr>\n",
       "    <tr>\n",
       "      <th>3704</th>\n",
       "      <td>170</td>\n",
       "      <td>White</td>\n",
       "      <td>450000</td>\n",
       "      <td>3</td>\n",
       "    </tr>\n",
       "    <tr>\n",
       "      <th>3714</th>\n",
       "      <td>880</td>\n",
       "      <td>White</td>\n",
       "      <td>395000</td>\n",
       "      <td>3</td>\n",
       "    </tr>\n",
       "    <tr>\n",
       "      <th>3726</th>\n",
       "      <td>81218</td>\n",
       "      <td>White</td>\n",
       "      <td>15000</td>\n",
       "      <td>5</td>\n",
       "    </tr>\n",
       "    <tr>\n",
       "      <th>3789</th>\n",
       "      <td>1947</td>\n",
       "      <td>White</td>\n",
       "      <td>65000</td>\n",
       "      <td>4</td>\n",
       "    </tr>\n",
       "    <tr>\n",
       "      <th>3823</th>\n",
       "      <td>33334</td>\n",
       "      <td>White</td>\n",
       "      <td>70000</td>\n",
       "      <td>5</td>\n",
       "    </tr>\n",
       "    <tr>\n",
       "      <th>3832</th>\n",
       "      <td>5432</td>\n",
       "      <td>White</td>\n",
       "      <td>37500</td>\n",
       "      <td>4</td>\n",
       "    </tr>\n",
       "  </tbody>\n",
       "</table>\n",
       "</div>"
      ],
      "text/plain": [
       "      number   code    price  num_digits\n",
       "2989    1996  White   215000           4\n",
       "3204   60011  White     6899           5\n",
       "3275     666  White  1570000           3\n",
       "3348   91800  White    15000           5\n",
       "3355   30103  White    12500           5\n",
       "3530    1898  White    16000           4\n",
       "3538     444  White  1450000           3\n",
       "3578    4868  White    14500           4\n",
       "3604   33333  White   850000           5\n",
       "3621      62  White  1790000           2\n",
       "3629      81  White  2250000           2\n",
       "3634   62063  White     5000           5\n",
       "3679   11111  White  2990000           5\n",
       "3682   55123  White    25000           5\n",
       "3695    1234  White   390000           4\n",
       "3704     170  White   450000           3\n",
       "3714     880  White   395000           3\n",
       "3726   81218  White    15000           5\n",
       "3789    1947  White    65000           4\n",
       "3823   33334  White    70000           5\n",
       "3832    5432  White    37500           4"
      ]
     },
     "execution_count": 15,
     "metadata": {},
     "output_type": "execute_result"
    }
   ],
   "source": [
    "# investigating the trend seen before further\n",
    "# Seems to me two outlier values\n",
    "# But could not be outliers based on feature extarction need to investigate that\n",
    "# Needs one hot encoding anyways\n",
    "df.loc[df['code'] == 'White']"
   ]
  },
  {
   "cell_type": "code",
   "execution_count": 16,
   "id": "dc00c7e3",
   "metadata": {},
   "outputs": [
    {
     "data": {
      "text/html": [
       "<div>\n",
       "<style scoped>\n",
       "    .dataframe tbody tr th:only-of-type {\n",
       "        vertical-align: middle;\n",
       "    }\n",
       "\n",
       "    .dataframe tbody tr th {\n",
       "        vertical-align: top;\n",
       "    }\n",
       "\n",
       "    .dataframe thead th {\n",
       "        text-align: right;\n",
       "    }\n",
       "</style>\n",
       "<table border=\"1\" class=\"dataframe\">\n",
       "  <thead>\n",
       "    <tr style=\"text-align: right;\">\n",
       "      <th></th>\n",
       "      <th>number</th>\n",
       "      <th>code</th>\n",
       "      <th>price</th>\n",
       "      <th>num_digits</th>\n",
       "    </tr>\n",
       "  </thead>\n",
       "  <tbody>\n",
       "    <tr>\n",
       "      <th>0</th>\n",
       "      <td>1313</td>\n",
       "      <td>U</td>\n",
       "      <td>109000</td>\n",
       "      <td>4</td>\n",
       "    </tr>\n",
       "    <tr>\n",
       "      <th>1</th>\n",
       "      <td>3222</td>\n",
       "      <td>H</td>\n",
       "      <td>72000</td>\n",
       "      <td>4</td>\n",
       "    </tr>\n",
       "    <tr>\n",
       "      <th>2</th>\n",
       "      <td>30033</td>\n",
       "      <td>P</td>\n",
       "      <td>24000</td>\n",
       "      <td>5</td>\n",
       "    </tr>\n",
       "    <tr>\n",
       "      <th>3</th>\n",
       "      <td>7765</td>\n",
       "      <td>L</td>\n",
       "      <td>17500</td>\n",
       "      <td>4</td>\n",
       "    </tr>\n",
       "    <tr>\n",
       "      <th>4</th>\n",
       "      <td>8876</td>\n",
       "      <td>U</td>\n",
       "      <td>17500</td>\n",
       "      <td>4</td>\n",
       "    </tr>\n",
       "  </tbody>\n",
       "</table>\n",
       "</div>"
      ],
      "text/plain": [
       "   number code   price  num_digits\n",
       "0    1313    U  109000           4\n",
       "1    3222    H   72000           4\n",
       "2   30033    P   24000           5\n",
       "3    7765    L   17500           4\n",
       "4    8876    U   17500           4"
      ]
     },
     "execution_count": 16,
     "metadata": {},
     "output_type": "execute_result"
    }
   ],
   "source": [
    "# There is a trend\n",
    "# Less # of unique digits and a pattern\n",
    "# Will help in feature engineering\n",
    "df.loc[df['price'] > 10000].head()"
   ]
  },
  {
   "cell_type": "code",
   "execution_count": 17,
   "id": "29221676",
   "metadata": {},
   "outputs": [
    {
     "data": {
      "image/png": "[encoded data removed]",
      "text/plain": [
       "<Figure size 432x288 with 1 Axes>"
      ]
     },
     "metadata": {},
     "output_type": "display_data"
    }
   ],
   "source": [
    "# just need to see if the count of the codes\n",
    "df['code'].value_counts().plot(kind = 'bar', color = 'red');\n",
    "plt.title('Number of letters');\n",
    "plt.xlabel('Code');\n",
    "plt.ylabel('Count');\n",
    "# Its seems to me that H is not a majority and most are mindane values\n",
    "# This is good news as I can feed the data in directly without any preprocessing"
   ]
  },
  {
   "cell_type": "code",
   "execution_count": 18,
   "id": "26b9e1d6",
   "metadata": {},
   "outputs": [],
   "source": [
    "df.to_csv('datasets/cleaned.csv', index = False)"
   ]
  }
 ],
 "metadata": {
  "kernelspec": {
   "display_name": "Python 3 (ipykernel)",
   "language": "python",
   "name": "python3"
  },
  "language_info": {
   "codemirror_mode": {
    "name": "ipython",
    "version": 3
   },
   "file_extension": ".py",
   "mimetype": "text/x-python",
   "name": "python",
   "nbconvert_exporter": "python",
   "pygments_lexer": "ipython3",
   "version": "3.8.12"
  }
 },
 "nbformat": 4,
 "nbformat_minor": 5
}
