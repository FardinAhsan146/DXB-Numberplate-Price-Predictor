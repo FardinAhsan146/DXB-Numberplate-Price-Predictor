{
 "cells": [
  {
   "cell_type": "code",
   "execution_count": 25,
   "id": "a0038d62",
   "metadata": {},
   "outputs": [],
   "source": [
    "import pandas as pd\n",
    "import numpy as np\n",
    "import seaborn as sns\n",
    "import random\n",
    "import re\n",
    "\n",
    "from matplotlib import pyplot as plt\n",
    "\n",
    "from sklearn.model_selection import train_test_split\n",
    "from sklearn.model_selection import KFold\n",
    "from sklearn.model_selection import cross_val_score\n",
    "from sklearn.model_selection import cross_validate\n",
    "\n",
    "from sklearn.metrics import mean_absolute_error\n",
    "from sklearn.metrics import mean_squared_error\n",
    "from sklearn.metrics import accuracy_score\n",
    "from sklearn.metrics import explained_variance_score\n",
    "from sklearn.metrics import mean_squared_log_error\n",
    "from sklearn.metrics import r2_score\n",
    "\n",
    "from xgboost import XGBRegressor\n",
    "from sklearn.ensemble import RandomForestRegressor\n",
    "from sklearn.linear_model import LinearRegression\n",
    "from sklearn.tree import DecisionTreeRegressor\n",
    "from sklearn.neighbors import KNeighborsRegressor\n",
    "from sklearn.ensemble import AdaBoostRegressor\n",
    "from sklearn.linear_model import ElasticNet\n",
    "from sklearn.linear_model import LassoCV\n",
    "from sklearn.linear_model import Lasso\n",
    "from sklearn.svm import SVR"
   ]
  },
  {
   "cell_type": "code",
   "execution_count": 2,
   "id": "3e90df6e",
   "metadata": {},
   "outputs": [
    {
     "data": {
      "application/javascript": [
       "IPython.OutputArea.auto_scroll_threshold = 9999\n"
      ],
      "text/plain": [
       "<IPython.core.display.Javascript object>"
      ]
     },
     "metadata": {},
     "output_type": "display_data"
    }
   ],
   "source": [
    "%%javascript\n",
    "IPython.OutputArea.auto_scroll_threshold = 9999"
   ]
  },
  {
   "cell_type": "markdown",
   "id": "c3fc92e1",
   "metadata": {},
   "source": [
    "## ML preeliminary testing"
   ]
  },
  {
   "cell_type": "markdown",
   "id": "d05dd936",
   "metadata": {},
   "source": [
    "#### Create a helper class"
   ]
  },
  {
   "cell_type": "code",
   "execution_count": 11,
   "id": "4a3a617b",
   "metadata": {},
   "outputs": [],
   "source": [
    "class trainAndEvaluate:\n",
    "    def __init__(self,df,model):\n",
    "        self.df = df\n",
    "        self.model = model\n",
    "        \n",
    "    def create_split(self):\n",
    "        # Creating a holdout split\n",
    "        ## Sets targets and set up test train_split\n",
    "        X = self.df[[col for col in self.df.columns if col != 'price']]\n",
    "        y = self.df['price']\n",
    "\n",
    "        # Set up the split\n",
    "        train_X, val_X, train_y, val_y = train_test_split(X,y)\n",
    "        \n",
    "        return (train_X, val_X, train_y, val_y)\n",
    "    \n",
    "    def KFold_score(self, n_folds = 10):\n",
    "        X = self.df[[col for col in self.df.columns if col != 'price']]\n",
    "        y = self.df['price']\n",
    "        \n",
    "        cv = KFold(n_splits = n_folds,\n",
    "                   random_state = 1,\n",
    "                   shuffle = True) \n",
    "        \n",
    "        scores = cross_val_score(model,\n",
    "                                 X,\n",
    "                                 y,\n",
    "                                 scoring='neg_mean_squared_error',\n",
    "                                 cv = cv,\n",
    "                                 n_jobs=-1)\n",
    "        \n",
    "        \n",
    "    \n",
    "    def regression_eval_nonn(self,\n",
    "                             show_results = 1,\n",
    "                             plot = 1,\n",
    "                             target_log = 0):\n",
    "        \n",
    "    \n",
    "        train_input,test_input,train_output,test_output  = self.create_split()\n",
    "    \n",
    "        self.model.fit(train_input, train_output)\n",
    "        y_pred = self.model.predict(test_input)\n",
    "\n",
    "         # extract line of best fit statistics\n",
    "        slope, intercept, r_value, p_value, std_err = stats.linregress(test_output,y_pred)\n",
    "\n",
    "        MAE = mean_absolute_error(test_output, y_pred)\n",
    "        MSE = mean_squared_error(test_output, y_pred, squared = 1)\n",
    "        RMSE = mean_squared_error(test_output, y_pred, squared = 0)\n",
    "        N_RMSE = (mean_squared_error(test_output, y_pred, squared = 0))/(test_output.std())\n",
    "        R2 = r2_score(test_output, y_pred)\n",
    "        EV = explained_variance_score(test_output, y_pred)\n",
    "\n",
    "        # Extract name from model __class__\n",
    "        model_name = re.findall(r'(?<=\\.)[a-zA-Z]+(?=\\')',str(self.model.__class__))[0]\n",
    "\n",
    "        if show_results:\n",
    "            print('---------------')\n",
    "            print(f'{model_name} Results: ')\n",
    "            print('---------------')\n",
    "#             print(f'MAE = {MAE:.2f} AED.')\n",
    "#             print(f'MSE = {MSE:.2f} AED.')\n",
    "#             print(f'RMSE = {RMSE:.2f} AED.')\n",
    "\n",
    "            print(f'NRMSE = {N_RMSE:.2f} AED.')\n",
    "            print(f'R^2 score = {R2:.2f}')\n",
    "            print(f'EV = {EV:.2f}')\n",
    "            if plot:\n",
    "                print('\\nRegression Line Metrics: ')\n",
    "                print('---------------------------')\n",
    "                print(f'r = {r_value:.2f}, p = {p_value:.2f}, err = {std_err:.2f}')\n",
    "                # plot A vs. P plot with regression line\n",
    "                sns.regplot(x = test_output, y = y_pred, line_kws = {'label': f' y = {slope:.1f} x + {intercept:.1f}'})\n",
    "                plt.legend()\n",
    "                plt.title(f'{model_name}')\n",
    "                plt.xlabel('Actual Price (AED)')\n",
    "                plt.ylabel('Predicted Price (AED)')\n",
    "                plt.show()\n",
    "        else:\n",
    "            return (\"\"\"model_name,MAE,MSE,RMSE,\"\"\",N_RMSE,R2)"
   ]
  },
  {
   "cell_type": "markdown",
   "id": "73c00f0a",
   "metadata": {},
   "source": [
    "### Test with training data and some models"
   ]
  },
  {
   "cell_type": "code",
   "execution_count": 12,
   "id": "b97dfdaf",
   "metadata": {},
   "outputs": [],
   "source": [
    "# Will iterate and inspect initial results from these models\n",
    "models = [RandomForestRegressor(),\n",
    "          XGBRegressor()]"
   ]
  },
  {
   "cell_type": "markdown",
   "id": "a3b28b57",
   "metadata": {},
   "source": [
    "### Normalized data, Untouched Output"
   ]
  },
  {
   "cell_type": "code",
   "execution_count": 13,
   "id": "57631fe5",
   "metadata": {},
   "outputs": [],
   "source": [
    "df_norm = pd.read_csv('datasets/training/train_norm.csv')"
   ]
  },
  {
   "cell_type": "code",
   "execution_count": 14,
   "id": "b153df44",
   "metadata": {},
   "outputs": [
    {
     "data": {
      "text/html": [
       "<div>\n",
       "<style scoped>\n",
       "    .dataframe tbody tr th:only-of-type {\n",
       "        vertical-align: middle;\n",
       "    }\n",
       "\n",
       "    .dataframe tbody tr th {\n",
       "        vertical-align: top;\n",
       "    }\n",
       "\n",
       "    .dataframe thead th {\n",
       "        text-align: right;\n",
       "    }\n",
       "</style>\n",
       "<table border=\"1\" class=\"dataframe\">\n",
       "  <thead>\n",
       "    <tr style=\"text-align: right;\">\n",
       "      <th></th>\n",
       "      <th>number</th>\n",
       "      <th>price</th>\n",
       "      <th>num_digits</th>\n",
       "      <th>unique_digits</th>\n",
       "      <th>num_zeros</th>\n",
       "      <th>max_group</th>\n",
       "      <th>max_group_second</th>\n",
       "      <th>shan_entrop</th>\n",
       "      <th>lv_dist</th>\n",
       "      <th>num_ones</th>\n",
       "      <th>...</th>\n",
       "      <th>15</th>\n",
       "      <th>16</th>\n",
       "      <th>17</th>\n",
       "      <th>18</th>\n",
       "      <th>19</th>\n",
       "      <th>20</th>\n",
       "      <th>21</th>\n",
       "      <th>22</th>\n",
       "      <th>23</th>\n",
       "      <th>24</th>\n",
       "    </tr>\n",
       "  </thead>\n",
       "  <tbody>\n",
       "    <tr>\n",
       "      <th>0</th>\n",
       "      <td>0.012519</td>\n",
       "      <td>109000</td>\n",
       "      <td>0.666667</td>\n",
       "      <td>0.25</td>\n",
       "      <td>0.0</td>\n",
       "      <td>0.25</td>\n",
       "      <td>0.25</td>\n",
       "      <td>0.430677</td>\n",
       "      <td>0.141237</td>\n",
       "      <td>0.4</td>\n",
       "      <td>...</td>\n",
       "      <td>0.0</td>\n",
       "      <td>0.0</td>\n",
       "      <td>0.0</td>\n",
       "      <td>0.0</td>\n",
       "      <td>0.0</td>\n",
       "      <td>1.0</td>\n",
       "      <td>0.0</td>\n",
       "      <td>0.0</td>\n",
       "      <td>0.0</td>\n",
       "      <td>0.0</td>\n",
       "    </tr>\n",
       "    <tr>\n",
       "      <th>1</th>\n",
       "      <td>0.031622</td>\n",
       "      <td>72000</td>\n",
       "      <td>0.666667</td>\n",
       "      <td>0.25</td>\n",
       "      <td>0.0</td>\n",
       "      <td>0.50</td>\n",
       "      <td>0.00</td>\n",
       "      <td>0.349398</td>\n",
       "      <td>0.532474</td>\n",
       "      <td>0.0</td>\n",
       "      <td>...</td>\n",
       "      <td>0.0</td>\n",
       "      <td>0.0</td>\n",
       "      <td>0.0</td>\n",
       "      <td>0.0</td>\n",
       "      <td>0.0</td>\n",
       "      <td>0.0</td>\n",
       "      <td>0.0</td>\n",
       "      <td>0.0</td>\n",
       "      <td>0.0</td>\n",
       "      <td>0.0</td>\n",
       "    </tr>\n",
       "    <tr>\n",
       "      <th>2</th>\n",
       "      <td>0.299923</td>\n",
       "      <td>24000</td>\n",
       "      <td>1.000000</td>\n",
       "      <td>0.25</td>\n",
       "      <td>0.5</td>\n",
       "      <td>0.50</td>\n",
       "      <td>0.25</td>\n",
       "      <td>0.418166</td>\n",
       "      <td>0.785567</td>\n",
       "      <td>0.0</td>\n",
       "      <td>...</td>\n",
       "      <td>1.0</td>\n",
       "      <td>0.0</td>\n",
       "      <td>0.0</td>\n",
       "      <td>0.0</td>\n",
       "      <td>0.0</td>\n",
       "      <td>0.0</td>\n",
       "      <td>0.0</td>\n",
       "      <td>0.0</td>\n",
       "      <td>0.0</td>\n",
       "      <td>0.0</td>\n",
       "    </tr>\n",
       "    <tr>\n",
       "      <th>3</th>\n",
       "      <td>0.077085</td>\n",
       "      <td>17500</td>\n",
       "      <td>0.666667</td>\n",
       "      <td>0.50</td>\n",
       "      <td>0.0</td>\n",
       "      <td>0.25</td>\n",
       "      <td>0.00</td>\n",
       "      <td>0.646015</td>\n",
       "      <td>0.229897</td>\n",
       "      <td>0.0</td>\n",
       "      <td>...</td>\n",
       "      <td>0.0</td>\n",
       "      <td>0.0</td>\n",
       "      <td>0.0</td>\n",
       "      <td>0.0</td>\n",
       "      <td>0.0</td>\n",
       "      <td>0.0</td>\n",
       "      <td>0.0</td>\n",
       "      <td>0.0</td>\n",
       "      <td>0.0</td>\n",
       "      <td>0.0</td>\n",
       "    </tr>\n",
       "    <tr>\n",
       "      <th>4</th>\n",
       "      <td>0.088203</td>\n",
       "      <td>17500</td>\n",
       "      <td>0.666667</td>\n",
       "      <td>0.50</td>\n",
       "      <td>0.0</td>\n",
       "      <td>0.25</td>\n",
       "      <td>0.00</td>\n",
       "      <td>0.646015</td>\n",
       "      <td>0.286082</td>\n",
       "      <td>0.0</td>\n",
       "      <td>...</td>\n",
       "      <td>0.0</td>\n",
       "      <td>0.0</td>\n",
       "      <td>0.0</td>\n",
       "      <td>0.0</td>\n",
       "      <td>0.0</td>\n",
       "      <td>1.0</td>\n",
       "      <td>0.0</td>\n",
       "      <td>0.0</td>\n",
       "      <td>0.0</td>\n",
       "      <td>0.0</td>\n",
       "    </tr>\n",
       "  </tbody>\n",
       "</table>\n",
       "<p>5 rows × 43 columns</p>\n",
       "</div>"
      ],
      "text/plain": [
       "     number   price  num_digits  unique_digits  num_zeros  max_group  \\\n",
       "0  0.012519  109000    0.666667           0.25        0.0       0.25   \n",
       "1  0.031622   72000    0.666667           0.25        0.0       0.50   \n",
       "2  0.299923   24000    1.000000           0.25        0.5       0.50   \n",
       "3  0.077085   17500    0.666667           0.50        0.0       0.25   \n",
       "4  0.088203   17500    0.666667           0.50        0.0       0.25   \n",
       "\n",
       "   max_group_second  shan_entrop   lv_dist  num_ones  ...   15   16   17   18  \\\n",
       "0              0.25     0.430677  0.141237       0.4  ...  0.0  0.0  0.0  0.0   \n",
       "1              0.00     0.349398  0.532474       0.0  ...  0.0  0.0  0.0  0.0   \n",
       "2              0.25     0.418166  0.785567       0.0  ...  1.0  0.0  0.0  0.0   \n",
       "3              0.00     0.646015  0.229897       0.0  ...  0.0  0.0  0.0  0.0   \n",
       "4              0.00     0.646015  0.286082       0.0  ...  0.0  0.0  0.0  0.0   \n",
       "\n",
       "    19   20   21   22   23   24  \n",
       "0  0.0  1.0  0.0  0.0  0.0  0.0  \n",
       "1  0.0  0.0  0.0  0.0  0.0  0.0  \n",
       "2  0.0  0.0  0.0  0.0  0.0  0.0  \n",
       "3  0.0  0.0  0.0  0.0  0.0  0.0  \n",
       "4  0.0  1.0  0.0  0.0  0.0  0.0  \n",
       "\n",
       "[5 rows x 43 columns]"
      ]
     },
     "execution_count": 14,
     "metadata": {},
     "output_type": "execute_result"
    }
   ],
   "source": [
    "df_norm.head()"
   ]
  },
  {
   "cell_type": "code",
   "execution_count": 20,
   "id": "89c1ee44",
   "metadata": {},
   "outputs": [
    {
     "data": {
      "application/javascript": [
       "\n",
       "        if (window._pyforest_update_imports_cell) { window._pyforest_update_imports_cell('from scipy import stats'); }\n",
       "    "
      ],
      "text/plain": [
       "<IPython.core.display.Javascript object>"
      ]
     },
     "metadata": {},
     "output_type": "display_data"
    },
    {
     "name": "stdout",
     "output_type": "stream",
     "text": [
      "---------------\n",
      "RandomForestRegressor Results: \n",
      "---------------\n",
      "NRMSE = 0.49 AED.\n",
      "R^2 score = 0.76\n",
      "EV = 0.76\n",
      "\n",
      "Regression Line Metrics: \n",
      "---------------------------\n",
      "r = 0.88, p = 0.00, err = 0.01\n"
     ]
    },
    {
     "data": {
      "image/png": "[encoded data removed]",
      "text/plain": [
       "<Figure size 432x288 with 1 Axes>"
      ]
     },
     "metadata": {
      "needs_background": "light"
     },
     "output_type": "display_data"
    },
    {
     "data": {
      "application/javascript": [
       "\n",
       "        if (window._pyforest_update_imports_cell) { window._pyforest_update_imports_cell('from scipy import stats'); }\n",
       "    "
      ],
      "text/plain": [
       "<IPython.core.display.Javascript object>"
      ]
     },
     "metadata": {},
     "output_type": "display_data"
    },
    {
     "name": "stdout",
     "output_type": "stream",
     "text": [
      "---------------\n",
      "XGBRegressor Results: \n",
      "---------------\n",
      "NRMSE = 0.63 AED.\n",
      "R^2 score = 0.60\n",
      "EV = 0.60\n",
      "\n",
      "Regression Line Metrics: \n",
      "---------------------------\n",
      "r = 0.84, p = 0.00, err = 0.02\n"
     ]
    },
    {
     "data": {
      "image/png": "[encoded data removed]",
      "text/plain": [
       "<Figure size 432x288 with 1 Axes>"
      ]
     },
     "metadata": {
      "needs_background": "light"
     },
     "output_type": "display_data"
    }
   ],
   "source": [
    "for model in models:\n",
    "    trainAndEvaluate(df_norm,model).regression_eval_nonn()"
   ]
  },
  {
   "cell_type": "code",
   "execution_count": 29,
   "id": "1bf08b13",
   "metadata": {},
   "outputs": [
    {
     "data": {
      "text/plain": [
       "{'fit_time': array([0.00400186, 0.00299931, 0.00400114, 0.00400114, 0.00500131,\n",
       "        0.00400114, 0.00400209, 0.00400114, 0.00400019, 0.00299978]),\n",
       " 'score_time': array([0.00300097, 0.00400114, 0.00299978, 0.00300002, 0.00300074,\n",
       "        0.00300097, 0.00299978, 0.00199962, 0.0030005 , 0.00200105]),\n",
       " 'test_r2': array([nan, nan, nan, nan, nan, nan, nan, nan, nan, nan]),\n",
       " 'test_neg_root_mean_squared_error': array([-1.37391167, -0.5800885 , -2.22270204, -3.88354531, -1.7159581 ,\n",
       "        -6.76454294, -4.91317829, -3.37927664, -4.43852243, -2.18982218])}"
      ]
     },
     "execution_count": 29,
     "metadata": {},
     "output_type": "execute_result"
    }
   ],
   "source": [
    "df = pd.DataFrame({'y': [6, 8, 12, 14, 14, 15, 17, 22, 24, 23],\n",
    "                   'x1': [2, 5, 4, 3, 4, 6, 7, 5, 8, 9],\n",
    "                   'x2': [14, 12, 12, 13, 7, 8, 7, 4, 6, 5]})\n",
    "\n",
    "#define predictor and response variables\n",
    "X = df[['x1', 'x2']]\n",
    "y = df['y']\n",
    "\n",
    "#define cross-validation method to use\n",
    "cv = KFold(n_splits=10, random_state=1, shuffle= True)\n",
    "\n",
    "#build multiple linear regression model\n",
    "model = LinearRegression()\n",
    "\n",
    "#use k-fold CV to evaluate model\n",
    "scores = cross_validate(model, X, y, scoring=['r2','neg_root_mean_squared_error'],\n",
    "                         cv=cv, n_jobs=-1)\n",
    "\n",
    "#view mean absolute error\n",
    "scores"
   ]
  },
  {
   "cell_type": "code",
   "execution_count": null,
   "id": "c7dc5722",
   "metadata": {},
   "outputs": [],
   "source": []
  }
 ],
 "metadata": {
  "kernelspec": {
   "display_name": "Python 3 (ipykernel)",
   "language": "python",
   "name": "python3"
  },
  "language_info": {
   "codemirror_mode": {
    "name": "ipython",
    "version": 3
   },
   "file_extension": ".py",
   "mimetype": "text/x-python",
   "name": "python",
   "nbconvert_exporter": "python",
   "pygments_lexer": "ipython3",
   "version": "3.8.12"
  }
 },
 "nbformat": 4,
 "nbformat_minor": 5
}
