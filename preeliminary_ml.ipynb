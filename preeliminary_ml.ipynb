{
 "cells": [
  {
   "cell_type": "code",
   "execution_count": 14,
   "id": "9b10cd2c",
   "metadata": {},
   "outputs": [],
   "source": [
    "import pandas as pd\n",
    "import numpy as np\n",
    "import seaborn as sns\n",
    "import random\n",
    "import re\n",
    "\n",
    "from matplotlib import pyplot as plt\n",
    "\n",
    "from sklearn.metrics import mean_absolute_error\n",
    "from sklearn.model_selection import train_test_split\n",
    "from sklearn.metrics import mean_absolute_percentage_error\n",
    "from sklearn.metrics import mean_squared_error\n",
    "from sklearn.metrics import accuracy_score\n",
    "\n",
    "from xgboost import XGBRegressor\n",
    "from sklearn.ensemble import RandomForestRegressor\n",
    "from sklearn.linear_model import LinearRegression\n",
    "from sklearn.tree import DecisionTreeRegressor\n",
    "from sklearn.neighbors import KNeighborsRegressor\n",
    "from sklearn.ensemble import AdaBoostRegressor"
   ]
  },
  {
   "cell_type": "code",
   "execution_count": 21,
   "id": "b84bd0b2",
   "metadata": {},
   "outputs": [
    {
     "data": {
      "application/javascript": [
       "IPython.OutputArea.auto_scroll_threshold = 9999\n"
      ],
      "text/plain": [
       "<IPython.core.display.Javascript object>"
      ]
     },
     "metadata": {},
     "output_type": "display_data"
    }
   ],
   "source": [
    "%%javascript\n",
    "IPython.OutputArea.auto_scroll_threshold = 9999"
   ]
  },
  {
   "cell_type": "markdown",
   "id": "3f30ffd6",
   "metadata": {},
   "source": [
    "## ML preeliminary testing"
   ]
  },
  {
   "cell_type": "code",
   "execution_count": 3,
   "id": "e2b4c68e",
   "metadata": {},
   "outputs": [
    {
     "data": {
      "text/html": [
       "<div>\n",
       "<style scoped>\n",
       "    .dataframe tbody tr th:only-of-type {\n",
       "        vertical-align: middle;\n",
       "    }\n",
       "\n",
       "    .dataframe tbody tr th {\n",
       "        vertical-align: top;\n",
       "    }\n",
       "\n",
       "    .dataframe thead th {\n",
       "        text-align: right;\n",
       "    }\n",
       "</style>\n",
       "<table border=\"1\" class=\"dataframe\">\n",
       "  <thead>\n",
       "    <tr style=\"text-align: right;\">\n",
       "      <th></th>\n",
       "      <th>number</th>\n",
       "      <th>price</th>\n",
       "      <th>num_digits</th>\n",
       "      <th>unique_digits</th>\n",
       "      <th>num_zeros</th>\n",
       "      <th>max_group</th>\n",
       "      <th>max_group_second</th>\n",
       "      <th>shan_entrop</th>\n",
       "      <th>lv_dist</th>\n",
       "      <th>num_ones</th>\n",
       "      <th>...</th>\n",
       "      <th>15</th>\n",
       "      <th>16</th>\n",
       "      <th>17</th>\n",
       "      <th>18</th>\n",
       "      <th>19</th>\n",
       "      <th>20</th>\n",
       "      <th>21</th>\n",
       "      <th>22</th>\n",
       "      <th>23</th>\n",
       "      <th>24</th>\n",
       "    </tr>\n",
       "  </thead>\n",
       "  <tbody>\n",
       "    <tr>\n",
       "      <th>0</th>\n",
       "      <td>0.012519</td>\n",
       "      <td>109000</td>\n",
       "      <td>0.666667</td>\n",
       "      <td>0.25</td>\n",
       "      <td>0.00</td>\n",
       "      <td>0.25</td>\n",
       "      <td>0.25</td>\n",
       "      <td>0.430677</td>\n",
       "      <td>0.141237</td>\n",
       "      <td>0.4</td>\n",
       "      <td>...</td>\n",
       "      <td>0.0</td>\n",
       "      <td>0.0</td>\n",
       "      <td>0.0</td>\n",
       "      <td>0.0</td>\n",
       "      <td>0.0</td>\n",
       "      <td>1.0</td>\n",
       "      <td>0.0</td>\n",
       "      <td>0.0</td>\n",
       "      <td>0.0</td>\n",
       "      <td>0.0</td>\n",
       "    </tr>\n",
       "    <tr>\n",
       "      <th>1</th>\n",
       "      <td>0.031622</td>\n",
       "      <td>72000</td>\n",
       "      <td>0.666667</td>\n",
       "      <td>0.25</td>\n",
       "      <td>0.00</td>\n",
       "      <td>0.50</td>\n",
       "      <td>0.00</td>\n",
       "      <td>0.349398</td>\n",
       "      <td>0.532474</td>\n",
       "      <td>0.0</td>\n",
       "      <td>...</td>\n",
       "      <td>0.0</td>\n",
       "      <td>0.0</td>\n",
       "      <td>0.0</td>\n",
       "      <td>0.0</td>\n",
       "      <td>0.0</td>\n",
       "      <td>0.0</td>\n",
       "      <td>0.0</td>\n",
       "      <td>0.0</td>\n",
       "      <td>0.0</td>\n",
       "      <td>0.0</td>\n",
       "    </tr>\n",
       "    <tr>\n",
       "      <th>2</th>\n",
       "      <td>0.299923</td>\n",
       "      <td>24000</td>\n",
       "      <td>1.000000</td>\n",
       "      <td>0.25</td>\n",
       "      <td>0.50</td>\n",
       "      <td>0.50</td>\n",
       "      <td>0.25</td>\n",
       "      <td>0.418166</td>\n",
       "      <td>0.785567</td>\n",
       "      <td>0.0</td>\n",
       "      <td>...</td>\n",
       "      <td>1.0</td>\n",
       "      <td>0.0</td>\n",
       "      <td>0.0</td>\n",
       "      <td>0.0</td>\n",
       "      <td>0.0</td>\n",
       "      <td>0.0</td>\n",
       "      <td>0.0</td>\n",
       "      <td>0.0</td>\n",
       "      <td>0.0</td>\n",
       "      <td>0.0</td>\n",
       "    </tr>\n",
       "    <tr>\n",
       "      <th>3</th>\n",
       "      <td>0.077085</td>\n",
       "      <td>17500</td>\n",
       "      <td>0.666667</td>\n",
       "      <td>0.50</td>\n",
       "      <td>0.00</td>\n",
       "      <td>0.25</td>\n",
       "      <td>0.00</td>\n",
       "      <td>0.646015</td>\n",
       "      <td>0.229897</td>\n",
       "      <td>0.0</td>\n",
       "      <td>...</td>\n",
       "      <td>0.0</td>\n",
       "      <td>0.0</td>\n",
       "      <td>0.0</td>\n",
       "      <td>0.0</td>\n",
       "      <td>0.0</td>\n",
       "      <td>0.0</td>\n",
       "      <td>0.0</td>\n",
       "      <td>0.0</td>\n",
       "      <td>0.0</td>\n",
       "      <td>0.0</td>\n",
       "    </tr>\n",
       "    <tr>\n",
       "      <th>4</th>\n",
       "      <td>0.088203</td>\n",
       "      <td>17500</td>\n",
       "      <td>0.666667</td>\n",
       "      <td>0.50</td>\n",
       "      <td>0.00</td>\n",
       "      <td>0.25</td>\n",
       "      <td>0.00</td>\n",
       "      <td>0.646015</td>\n",
       "      <td>0.286082</td>\n",
       "      <td>0.0</td>\n",
       "      <td>...</td>\n",
       "      <td>0.0</td>\n",
       "      <td>0.0</td>\n",
       "      <td>0.0</td>\n",
       "      <td>0.0</td>\n",
       "      <td>0.0</td>\n",
       "      <td>1.0</td>\n",
       "      <td>0.0</td>\n",
       "      <td>0.0</td>\n",
       "      <td>0.0</td>\n",
       "      <td>0.0</td>\n",
       "    </tr>\n",
       "    <tr>\n",
       "      <th>...</th>\n",
       "      <td>...</td>\n",
       "      <td>...</td>\n",
       "      <td>...</td>\n",
       "      <td>...</td>\n",
       "      <td>...</td>\n",
       "      <td>...</td>\n",
       "      <td>...</td>\n",
       "      <td>...</td>\n",
       "      <td>...</td>\n",
       "      <td>...</td>\n",
       "      <td>...</td>\n",
       "      <td>...</td>\n",
       "      <td>...</td>\n",
       "      <td>...</td>\n",
       "      <td>...</td>\n",
       "      <td>...</td>\n",
       "      <td>...</td>\n",
       "      <td>...</td>\n",
       "      <td>...</td>\n",
       "      <td>...</td>\n",
       "      <td>...</td>\n",
       "    </tr>\n",
       "    <tr>\n",
       "      <th>3835</th>\n",
       "      <td>0.071531</td>\n",
       "      <td>9200</td>\n",
       "      <td>0.666667</td>\n",
       "      <td>0.75</td>\n",
       "      <td>0.25</td>\n",
       "      <td>0.00</td>\n",
       "      <td>0.00</td>\n",
       "      <td>0.861353</td>\n",
       "      <td>0.250515</td>\n",
       "      <td>0.2</td>\n",
       "      <td>...</td>\n",
       "      <td>0.0</td>\n",
       "      <td>1.0</td>\n",
       "      <td>0.0</td>\n",
       "      <td>0.0</td>\n",
       "      <td>0.0</td>\n",
       "      <td>0.0</td>\n",
       "      <td>0.0</td>\n",
       "      <td>0.0</td>\n",
       "      <td>0.0</td>\n",
       "      <td>0.0</td>\n",
       "    </tr>\n",
       "    <tr>\n",
       "      <th>3836</th>\n",
       "      <td>0.062955</td>\n",
       "      <td>15000</td>\n",
       "      <td>0.666667</td>\n",
       "      <td>0.50</td>\n",
       "      <td>0.00</td>\n",
       "      <td>0.25</td>\n",
       "      <td>0.00</td>\n",
       "      <td>0.646015</td>\n",
       "      <td>0.114433</td>\n",
       "      <td>0.0</td>\n",
       "      <td>...</td>\n",
       "      <td>0.0</td>\n",
       "      <td>0.0</td>\n",
       "      <td>0.0</td>\n",
       "      <td>0.0</td>\n",
       "      <td>0.0</td>\n",
       "      <td>0.0</td>\n",
       "      <td>0.0</td>\n",
       "      <td>0.0</td>\n",
       "      <td>0.0</td>\n",
       "      <td>0.0</td>\n",
       "    </tr>\n",
       "    <tr>\n",
       "      <th>3837</th>\n",
       "      <td>0.911837</td>\n",
       "      <td>6500</td>\n",
       "      <td>1.000000</td>\n",
       "      <td>0.50</td>\n",
       "      <td>0.00</td>\n",
       "      <td>0.50</td>\n",
       "      <td>0.00</td>\n",
       "      <td>0.590436</td>\n",
       "      <td>0.618041</td>\n",
       "      <td>0.6</td>\n",
       "      <td>...</td>\n",
       "      <td>0.0</td>\n",
       "      <td>0.0</td>\n",
       "      <td>1.0</td>\n",
       "      <td>0.0</td>\n",
       "      <td>0.0</td>\n",
       "      <td>0.0</td>\n",
       "      <td>0.0</td>\n",
       "      <td>0.0</td>\n",
       "      <td>0.0</td>\n",
       "      <td>0.0</td>\n",
       "    </tr>\n",
       "    <tr>\n",
       "      <th>3838</th>\n",
       "      <td>0.086481</td>\n",
       "      <td>6600</td>\n",
       "      <td>0.666667</td>\n",
       "      <td>0.75</td>\n",
       "      <td>0.25</td>\n",
       "      <td>0.00</td>\n",
       "      <td>0.00</td>\n",
       "      <td>0.861353</td>\n",
       "      <td>0.208247</td>\n",
       "      <td>0.0</td>\n",
       "      <td>...</td>\n",
       "      <td>0.0</td>\n",
       "      <td>1.0</td>\n",
       "      <td>0.0</td>\n",
       "      <td>0.0</td>\n",
       "      <td>0.0</td>\n",
       "      <td>0.0</td>\n",
       "      <td>0.0</td>\n",
       "      <td>0.0</td>\n",
       "      <td>0.0</td>\n",
       "      <td>0.0</td>\n",
       "    </tr>\n",
       "    <tr>\n",
       "      <th>3839</th>\n",
       "      <td>0.936075</td>\n",
       "      <td>2900</td>\n",
       "      <td>1.000000</td>\n",
       "      <td>0.75</td>\n",
       "      <td>0.25</td>\n",
       "      <td>0.25</td>\n",
       "      <td>0.00</td>\n",
       "      <td>0.827729</td>\n",
       "      <td>0.581959</td>\n",
       "      <td>0.0</td>\n",
       "      <td>...</td>\n",
       "      <td>0.0</td>\n",
       "      <td>0.0</td>\n",
       "      <td>0.0</td>\n",
       "      <td>0.0</td>\n",
       "      <td>0.0</td>\n",
       "      <td>0.0</td>\n",
       "      <td>0.0</td>\n",
       "      <td>0.0</td>\n",
       "      <td>0.0</td>\n",
       "      <td>0.0</td>\n",
       "    </tr>\n",
       "  </tbody>\n",
       "</table>\n",
       "<p>3840 rows × 43 columns</p>\n",
       "</div>"
      ],
      "text/plain": [
       "        number   price  num_digits  unique_digits  num_zeros  max_group  \\\n",
       "0     0.012519  109000    0.666667           0.25       0.00       0.25   \n",
       "1     0.031622   72000    0.666667           0.25       0.00       0.50   \n",
       "2     0.299923   24000    1.000000           0.25       0.50       0.50   \n",
       "3     0.077085   17500    0.666667           0.50       0.00       0.25   \n",
       "4     0.088203   17500    0.666667           0.50       0.00       0.25   \n",
       "...        ...     ...         ...            ...        ...        ...   \n",
       "3835  0.071531    9200    0.666667           0.75       0.25       0.00   \n",
       "3836  0.062955   15000    0.666667           0.50       0.00       0.25   \n",
       "3837  0.911837    6500    1.000000           0.50       0.00       0.50   \n",
       "3838  0.086481    6600    0.666667           0.75       0.25       0.00   \n",
       "3839  0.936075    2900    1.000000           0.75       0.25       0.25   \n",
       "\n",
       "      max_group_second  shan_entrop   lv_dist  num_ones  ...   15   16   17  \\\n",
       "0                 0.25     0.430677  0.141237       0.4  ...  0.0  0.0  0.0   \n",
       "1                 0.00     0.349398  0.532474       0.0  ...  0.0  0.0  0.0   \n",
       "2                 0.25     0.418166  0.785567       0.0  ...  1.0  0.0  0.0   \n",
       "3                 0.00     0.646015  0.229897       0.0  ...  0.0  0.0  0.0   \n",
       "4                 0.00     0.646015  0.286082       0.0  ...  0.0  0.0  0.0   \n",
       "...                ...          ...       ...       ...  ...  ...  ...  ...   \n",
       "3835              0.00     0.861353  0.250515       0.2  ...  0.0  1.0  0.0   \n",
       "3836              0.00     0.646015  0.114433       0.0  ...  0.0  0.0  0.0   \n",
       "3837              0.00     0.590436  0.618041       0.6  ...  0.0  0.0  1.0   \n",
       "3838              0.00     0.861353  0.208247       0.0  ...  0.0  1.0  0.0   \n",
       "3839              0.00     0.827729  0.581959       0.0  ...  0.0  0.0  0.0   \n",
       "\n",
       "       18   19   20   21   22   23   24  \n",
       "0     0.0  0.0  1.0  0.0  0.0  0.0  0.0  \n",
       "1     0.0  0.0  0.0  0.0  0.0  0.0  0.0  \n",
       "2     0.0  0.0  0.0  0.0  0.0  0.0  0.0  \n",
       "3     0.0  0.0  0.0  0.0  0.0  0.0  0.0  \n",
       "4     0.0  0.0  1.0  0.0  0.0  0.0  0.0  \n",
       "...   ...  ...  ...  ...  ...  ...  ...  \n",
       "3835  0.0  0.0  0.0  0.0  0.0  0.0  0.0  \n",
       "3836  0.0  0.0  0.0  0.0  0.0  0.0  0.0  \n",
       "3837  0.0  0.0  0.0  0.0  0.0  0.0  0.0  \n",
       "3838  0.0  0.0  0.0  0.0  0.0  0.0  0.0  \n",
       "3839  0.0  0.0  0.0  0.0  0.0  0.0  0.0  \n",
       "\n",
       "[3840 rows x 43 columns]"
      ]
     },
     "execution_count": 3,
     "metadata": {},
     "output_type": "execute_result"
    }
   ],
   "source": [
    "df = pd.read_csv('datasets/train.csv')\n",
    "df"
   ]
  },
  {
   "cell_type": "code",
   "execution_count": 10,
   "id": "83eb1770",
   "metadata": {},
   "outputs": [],
   "source": [
    "## Sets targets and set up test train_split\n",
    "X = df[[col for col in df.columns if col != 'price']]\n",
    "y = df['price']\n",
    "\n",
    "# Set up the split\n",
    "train_X, val_X, train_y, val_y = train_test_split(X, y, random_state=42)"
   ]
  },
  {
   "cell_type": "code",
   "execution_count": 25,
   "id": "2686beb6",
   "metadata": {},
   "outputs": [],
   "source": [
    "def test(model):\n",
    "    model.fit(train_X, train_y)\n",
    "    y_pred = model.predict(val_X)\n",
    "    \n",
    "     # extract line of best fit statistics\n",
    "    slope, intercept, r_value, p_value, std_err = stats.linregress(val_y,y_pred)\n",
    "\n",
    "    print(f'MAE = {mean_absolute_error(val_y, y_pred):.2f} AED.')\n",
    "    print(f'MSE = {mean_squared_error(val_y, y_pred, squared = 1):.2f} AED.')\n",
    "    print(f'RMSE = {mean_squared_error(val_y, y_pred, squared = 0):.2f} AED.')\n",
    "    print(f'NRMSE = {(mean_squared_error(val_y, y_pred, squared = 0))/(val_y.max() - val_y.min())} AED.')\n",
    "    print(f'R^2 = {r_value**2}')\n",
    "    print(f'r = {r_value:.2f}, p = {p_value:.2f}, err = {std_err:.2f}')\n",
    "    \n",
    "    # Extract name from model __class__\n",
    "    model_name = re.findall(r'(?<=\\.)[a-zA-Z]+(?=\\')',str(model.__class__))[0]\n",
    "  \n",
    "    # plot A vs. P plot with regression line\n",
    "    sns.regplot(x = val_y, y = y_pred, line_kws = {'label': f' y = {slope:.1f} x + {intercept:.1f}'})\n",
    "    plt.legend()\n",
    "    plt.title(f'{model_name}')\n",
    "    plt.xlabel('Actual Price (AED)')\n",
    "    plt.ylabel('Predicted Price (AED)')\n",
    "    plt.show()"
   ]
  },
  {
   "cell_type": "code",
   "execution_count": 16,
   "id": "226397a6",
   "metadata": {},
   "outputs": [],
   "source": [
    "# Will iterate and inspect initial results from these models\n",
    "models = [RandomForestRegressor(),\n",
    "          XGBRegressor(),\n",
    "          LinearRegression(),\n",
    "          DecisionTreeRegressor(),\n",
    "          KNeighborsRegressor()]"
   ]
  },
  {
   "cell_type": "code",
   "execution_count": 29,
   "id": "186cdc77",
   "metadata": {},
   "outputs": [
    {
     "data": {
      "text/plain": [
       "count    3.840000e+03\n",
       "mean     1.289900e+04\n",
       "std      8.745635e+04\n",
       "min      1.000000e+00\n",
       "25%      2.400000e+03\n",
       "50%      2.600000e+03\n",
       "75%      3.000000e+03\n",
       "max      2.990000e+06\n",
       "Name: price, dtype: float64"
      ]
     },
     "execution_count": 29,
     "metadata": {},
     "output_type": "execute_result"
    }
   ],
   "source": [
    "# This gives context to Metrics\n",
    "y.describe()"
   ]
  },
  {
   "cell_type": "code",
   "execution_count": 26,
   "id": "3c70242a",
   "metadata": {},
   "outputs": [
    {
     "data": {
      "application/javascript": [
       "\n",
       "        if (window._pyforest_update_imports_cell) { window._pyforest_update_imports_cell('from scipy import stats'); }\n",
       "    "
      ],
      "text/plain": [
       "<IPython.core.display.Javascript object>"
      ]
     },
     "metadata": {},
     "output_type": "display_data"
    },
    {
     "name": "stdout",
     "output_type": "stream",
     "text": [
      "MAE = 4743.71 AED.\n",
      "MSE = 1482022726.67 AED.\n",
      "RMSE = 38497.05 AED.\n",
      "NRMSE = 0.026572302418194 AED.\n",
      "R^2 = 0.8574240310457049\n",
      "r = 0.93, p = 0.00, err = 0.02\n"
     ]
    },
    {
     "data": {
      "image/png": "[encoded data removed]",
      "text/plain": [
       "<Figure size 432x288 with 1 Axes>"
      ]
     },
     "metadata": {
      "needs_background": "light"
     },
     "output_type": "display_data"
    },
    {
     "name": "stdout",
     "output_type": "stream",
     "text": [
      "________________________________________________\n"
     ]
    },
    {
     "data": {
      "application/javascript": [
       "\n",
       "        if (window._pyforest_update_imports_cell) { window._pyforest_update_imports_cell('from scipy import stats'); }\n",
       "    "
      ],
      "text/plain": [
       "<IPython.core.display.Javascript object>"
      ]
     },
     "metadata": {},
     "output_type": "display_data"
    },
    {
     "name": "stdout",
     "output_type": "stream",
     "text": [
      "MAE = 7249.50 AED.\n",
      "MSE = 7034894896.93 AED.\n",
      "RMSE = 83874.28 AED.\n",
      "NRMSE = 0.05789360069636301 AED.\n",
      "R^2 = 0.6743787099945978\n",
      "r = 0.82, p = 0.00, err = 0.04\n"
     ]
    },
    {
     "data": {
      "image/png": "[encoded data removed]",
      "text/plain": [
       "<Figure size 432x288 with 1 Axes>"
      ]
     },
     "metadata": {
      "needs_background": "light"
     },
     "output_type": "display_data"
    },
    {
     "name": "stdout",
     "output_type": "stream",
     "text": [
      "________________________________________________\n"
     ]
    },
    {
     "data": {
      "application/javascript": [
       "\n",
       "        if (window._pyforest_update_imports_cell) { window._pyforest_update_imports_cell('from scipy import stats'); }\n",
       "    "
      ],
      "text/plain": [
       "<IPython.core.display.Javascript object>"
      ]
     },
     "metadata": {},
     "output_type": "display_data"
    },
    {
     "name": "stdout",
     "output_type": "stream",
     "text": [
      "MAE = 19106.09 AED.\n",
      "MSE = 4591001814.94 AED.\n",
      "RMSE = 67756.93 AED.\n",
      "NRMSE = 0.04676872031712952 AED.\n",
      "R^2 = 0.7792377197064496\n",
      "r = 0.88, p = 0.00, err = 0.03\n"
     ]
    },
    {
     "data": {
      "image/png": "[encoded data removed]",
      "text/plain": [
       "<Figure size 432x288 with 1 Axes>"
      ]
     },
     "metadata": {
      "needs_background": "light"
     },
     "output_type": "display_data"
    },
    {
     "name": "stdout",
     "output_type": "stream",
     "text": [
      "________________________________________________\n"
     ]
    },
    {
     "data": {
      "application/javascript": [
       "\n",
       "        if (window._pyforest_update_imports_cell) { window._pyforest_update_imports_cell('from scipy import stats'); }\n",
       "    "
      ],
      "text/plain": [
       "<IPython.core.display.Javascript object>"
      ]
     },
     "metadata": {},
     "output_type": "display_data"
    },
    {
     "name": "stdout",
     "output_type": "stream",
     "text": [
      "MAE = 8247.09 AED.\n",
      "MSE = 8732605132.80 AED.\n",
      "RMSE = 93448.41 AED.\n",
      "NRMSE = 0.06450207206456433 AED.\n",
      "R^2 = 0.6168255174505805\n",
      "r = 0.79, p = 0.00, err = 0.04\n"
     ]
    },
    {
     "data": {
      "image/png": "[encoded data removed]",
      "text/plain": [
       "<Figure size 432x288 with 1 Axes>"
      ]
     },
     "metadata": {
      "needs_background": "light"
     },
     "output_type": "display_data"
    },
    {
     "name": "stdout",
     "output_type": "stream",
     "text": [
      "________________________________________________\n"
     ]
    },
    {
     "data": {
      "application/javascript": [
       "\n",
       "        if (window._pyforest_update_imports_cell) { window._pyforest_update_imports_cell('from scipy import stats'); }\n",
       "    "
      ],
      "text/plain": [
       "<IPython.core.display.Javascript object>"
      ]
     },
     "metadata": {},
     "output_type": "display_data"
    },
    {
     "name": "stdout",
     "output_type": "stream",
     "text": [
      "MAE = 7841.46 AED.\n",
      "MSE = 1994835714.46 AED.\n",
      "RMSE = 44663.58 AED.\n",
      "NRMSE = 0.030828707853418808 AED.\n",
      "R^2 = 0.5976890873879535\n",
      "r = 0.77, p = 0.00, err = 0.02\n"
     ]
    },
    {
     "data": {
      "image/png": "[encoded data removed]",
      "text/plain": [
       "<Figure size 432x288 with 1 Axes>"
      ]
     },
     "metadata": {
      "needs_background": "light"
     },
     "output_type": "display_data"
    },
    {
     "name": "stdout",
     "output_type": "stream",
     "text": [
      "________________________________________________\n"
     ]
    }
   ],
   "source": [
    "for model in models:\n",
    "    test(model)\n",
    "    print('________________________________________________')"
   ]
  },
  {
   "cell_type": "code",
   "execution_count": null,
   "id": "7c1dd4c6",
   "metadata": {},
   "outputs": [],
   "source": []
  }
 ],
 "metadata": {
  "kernelspec": {
   "display_name": "Python 3 (ipykernel)",
   "language": "python",
   "name": "python3"
  },
  "language_info": {
   "codemirror_mode": {
    "name": "ipython",
    "version": 3
   },
   "file_extension": ".py",
   "mimetype": "text/x-python",
   "name": "python",
   "nbconvert_exporter": "python",
   "pygments_lexer": "ipython3",
   "version": "3.8.12"
  }
 },
 "nbformat": 4,
 "nbformat_minor": 5
}
