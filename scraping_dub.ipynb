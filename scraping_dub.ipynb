{
 "cells": [
  {
   "cell_type": "code",
   "execution_count": 10,
   "id": "001df508",
   "metadata": {},
   "outputs": [],
   "source": [
    "import time\n",
    "import re\n",
    "import requests \n",
    "import numpy as np\n",
    "import pandas as pd\n",
    "import concurrent.futures\n",
    "\n",
    "from bs4 import BeautifulSoup as bs\n",
    "\n",
    "from selenium import webdriver\n",
    "from selenium.webdriver.common.by import By\n",
    "from selenium.webdriver.common.keys import Keys\n",
    "from selenium.webdriver.chrome.options import Options\n",
    "from webdriver_manager.chrome import ChromeDriverManager\n",
    "from selenium.common.exceptions import ElementNotInteractableException "
   ]
  },
  {
   "cell_type": "markdown",
   "id": "1817e3d2",
   "metadata": {},
   "source": [
    "# Webscraping Dubizzle :^)\n",
    "\n",
    "https://www.imperva.com/resources/customers/case-studies/dubizzle-case-study/"
   ]
  },
  {
   "cell_type": "markdown",
   "id": "b9477dc2",
   "metadata": {},
   "source": [
    "This is going to be a relatively long one. \n",
    "\n",
    "Dubizzle is salty about webscrapers (read link above), so they hired a company to make their website harder to scrape.\n",
    "\n",
    "That won't stop me. I will still scrape the data I need from their website, using the most bootleg methods possible. "
   ]
  },
  {
   "cell_type": "markdown",
   "id": "92ca0d84",
   "metadata": {},
   "source": [
    "## Scrape one webpage, Then build on top of that."
   ]
  },
  {
   "cell_type": "code",
   "execution_count": 15,
   "id": "6e3abb9c",
   "metadata": {},
   "outputs": [
    {
     "name": "stderr",
     "output_type": "stream",
     "text": [
      "\n",
      "\n",
      "====== WebDriver manager ======\n",
      "Current google-chrome version is 96.0.4664\n",
      "Get LATEST driver version for 96.0.4664\n",
      "Driver [C:\\Users\\Fardin\\.wdm\\drivers\\chromedriver\\win32\\96.0.4664.45\\chromedriver.exe] found in cache\n"
     ]
    }
   ],
   "source": [
    "# Webdriver settings\n",
    "options = Options()\n",
    "driver_manager = ChromeDriverManager().install()\n",
    "driver = webdriver.Chrome(driver_manager,\n",
    "                          options=options)\n",
    "\n",
    "# Open website\n",
    "driver.implicitly_wait(5)\n",
    "driver.get('https://dubai.dubizzle.com/motors/number-plates/dubai-plate/private-car/?page=1')\n",
    "\n",
    "# Find the html blocks we need for the number plates\n",
    "border_selector = 'thumb'\n",
    "plate_borders = driver.find_elements_by_class_name(border_selector)\n",
    "\n",
    "with concurrent.futures.ThreadPoolExecutor() as executor:\n",
    "    futures = []       # List to hold the future objects\n",
    "    for elem in plate_borders:\n",
    "        futures.append(\n",
    "            executor.submit(\n",
    "                lambda elem: elem.get_attribute(\"innerHTML\"),\n",
    "                elem = elem\n",
    "            )\n",
    "        )\n",
    "    \n",
    "    # Html elements of the border we chose by css selector\n",
    "    border_htmls =\\\n",
    "    [future.result() for future in concurrent.futures.as_completed(futures)]\n",
    "\n",
    "\n",
    "#Close driver for good!\n",
    "driver.quit()"
   ]
  },
  {
   "cell_type": "code",
   "execution_count": 20,
   "id": "28efda3a",
   "metadata": {},
   "outputs": [
    {
     "data": {
      "text/plain": [
       "25"
      ]
     },
     "execution_count": 20,
     "metadata": {},
     "output_type": "execute_result"
    }
   ],
   "source": [
    "# Great!, 25 links in the page,\n",
    "# I got 25 links, can send requests to these individually. \n",
    "len(plate_borders)"
   ]
  },
  {
   "cell_type": "code",
   "execution_count": 18,
   "id": "17ccfb52",
   "metadata": {},
   "outputs": [
    {
     "data": {
      "text/plain": [
       "'\\n                    <a href=\"https://dubai.dubizzle.com/motors/number-plates/dubai-plate/private-car/2021/11/17/86368-locked-number-2-670---a17457bf51fb4af584bf1ed8e5311b19/?back=L21vdG9ycy9udW1iZXItcGxhdGVzL2R1YmFpLXBsYXRlL3ByaXZhdGUtY2FyLz9wYWdlPTE%3D&amp;pos=0&amp;highlighted_ads=1\">\\n                        <div style=\"background-image:url(https://res.cloudinary.com/dubizzle-com/image/upload/co_rgb:242424,l_text:oswald_140_bold_letter_spacing_4:86368,x_100,y_-50/co_rgb:242424,l_text:oswald_140_bold_letter_spacing_4:P,x_-240,y_-50/c_fit,w_200/dubai-plate_private-car_classic);\"></div>\\n                    </a>\\n                    <span class=\"thumb-image-count\">\\n                        1\\n                    </span>\\n                '"
      ]
     },
     "execution_count": 18,
     "metadata": {},
     "output_type": "execute_result"
    }
   ],
   "source": [
    "# Html looks good\n",
    "border_htmls[0]"
   ]
  },
  {
   "cell_type": "code",
   "execution_count": 19,
   "id": "e94d0e2b",
   "metadata": {},
   "outputs": [
    {
     "data": {
      "text/plain": [
       "\n",
       "<a href=\"https://dubai.dubizzle.com/motors/number-plates/dubai-plate/private-car/2021/11/17/86368-locked-number-2-670---a17457bf51fb4af584bf1ed8e5311b19/?back=L21vdG9ycy9udW1iZXItcGxhdGVzL2R1YmFpLXBsYXRlL3ByaXZhdGUtY2FyLz9wYWdlPTE%3D&amp;pos=0&amp;highlighted_ads=1\">\n",
       "<div style=\"background-image:url(https://res.cloudinary.com/dubizzle-com/image/upload/co_rgb:242424,l_text:oswald_140_bold_letter_spacing_4:86368,x_100,y_-50/co_rgb:242424,l_text:oswald_140_bold_letter_spacing_4:P,x_-240,y_-50/c_fit,w_200/dubai-plate_private-car_classic);\"></div>\n",
       "</a>\n",
       "<span class=\"thumb-image-count\">\n",
       "                        1\n",
       "                    </span>"
      ]
     },
     "execution_count": 19,
     "metadata": {},
     "output_type": "execute_result"
    }
   ],
   "source": [
    "# Turn it into a soup object\n",
    "soup = bs(border_htmls[0], 'html.parser')\n",
    "soup"
   ]
  },
  {
   "cell_type": "code",
   "execution_count": 30,
   "id": "cfe6c42d",
   "metadata": {},
   "outputs": [
    {
     "data": {
      "text/plain": [
       "'https://dubai.dubizzle.com/motors/number-plates/dubai-plate/private-car/2021/11/17/86368-locked-number-2-670---a17457bf51fb4af584bf1ed8e5311b19/?back=L21vdG9ycy9udW1iZXItcGxhdGVzL2R1YmFpLXBsYXRlL3ByaXZhdGUtY2FyLz9wYWdlPTE%3D&pos=0&highlighted_ads=1'"
      ]
     },
     "execution_count": 30,
     "metadata": {},
     "output_type": "execute_result"
    }
   ],
   "source": [
    "# Extracting URL works\n",
    "soup.find_all('a', href=True)[0]['href']"
   ]
  },
  {
   "cell_type": "code",
   "execution_count": 33,
   "id": "e25d8bc6",
   "metadata": {},
   "outputs": [
    {
     "data": {
      "text/plain": [
       "'https://dubai.dubizzle.com/motors/number-plates/dubai-plate/private-car/2021/11/17/86368-locked-number-2-670---a17457bf51fb4af584bf1ed8e5311b19/?back=L21vdG9ycy9udW1iZXItcGxhdGVzL2R1YmFpLXBsYXRlL3ByaXZhdGUtY2FyLz9wYWdlPTE%3D&pos=0&highlighted_ads=1'"
      ]
     },
     "execution_count": 33,
     "metadata": {},
     "output_type": "execute_result"
    }
   ],
   "source": [
    "# Create a helper function for the task above\n",
    "def extract_url(soup_object):\n",
    "    \"\"\"\n",
    "    Extract the url from a the a href of a soup object\n",
    "    \"\"\"\n",
    "    return soup_object.find_all('a', href=True)[0]['href']\n",
    "\n",
    "extract_url(soup)"
   ]
  },
  {
   "cell_type": "code",
   "execution_count": 38,
   "id": "9f7dec24",
   "metadata": {},
   "outputs": [
    {
     "data": {
      "text/plain": [
       "['https://dubai.dubizzle.com/motors/number-plates/dubai-plate/private-car/2021/11/17/86368-locked-number-2-670---a17457bf51fb4af584bf1ed8e5311b19/?back=L21vdG9ycy9udW1iZXItcGxhdGVzL2R1YmFpLXBsYXRlL3ByaXZhdGUtY2FyLz9wYWdlPTE%3D&pos=0&highlighted_ads=1',\n",
       " 'https://dubai.dubizzle.com/motors/number-plates/dubai-plate/private-car/2021/11/17/8989-2-150---41a23c57e41e4c198e36010d578c9fc6/?back=L21vdG9ycy9udW1iZXItcGxhdGVzL2R1YmFpLXBsYXRlL3ByaXZhdGUtY2FyLz9wYWdlPTE%3D&pos=2']"
      ]
     },
     "execution_count": 38,
     "metadata": {},
     "output_type": "execute_result"
    }
   ],
   "source": [
    "# Make a url list\n",
    "soup_list = [bs(elem, 'html.parser') for elem in border_htmls]\n",
    "url_strings = [extract_url(soup) for soup in soup_list]\n",
    "\n",
    "url_strings[0:2]\n",
    "\n",
    "## Need to repeat this for 44 pages, but but need to make sure I can extract data I need from one link."
   ]
  },
  {
   "cell_type": "code",
   "execution_count": 50,
   "id": "e87af199",
   "metadata": {},
   "outputs": [
    {
     "name": "stderr",
     "output_type": "stream",
     "text": [
      "\n",
      "\n",
      "====== WebDriver manager ======\n",
      "Current google-chrome version is 96.0.4664\n",
      "Get LATEST driver version for 96.0.4664\n",
      "Driver [C:\\Users\\Fardin\\.wdm\\drivers\\chromedriver\\win32\\96.0.4664.45\\chromedriver.exe] found in cache\n"
     ]
    },
    {
     "name": "stdout",
     "output_type": "stream",
     "text": [
      "AED 4,900\n",
      "U\n",
      "12130\n"
     ]
    }
   ],
   "source": [
    "# Attempt to fetch data from one url.\n",
    "# If it works we can pretty much run this 2000 times.\n",
    "options = Options()\n",
    "driver_manager = ChromeDriverManager().install()\n",
    "driver = webdriver.Chrome(driver_manager,\n",
    "                          options=options)\n",
    "\n",
    "driver.implicitly_wait(5)\n",
    "driver.get(url_strings[5])\n",
    "\n",
    "price_selector = \"sc-1q498l3-0.sc-1q498l3-1.WNwBg.jwMZvh.sc-1pns9yx-3.cRlgZx\"\n",
    "code_selector = '/html/body/div[2]/div/main/div/div[3]/div/div[4]/div[1]/div[3]/div/div[2]/div/p'\n",
    "number_selector = \"sc-1q498l3-0.sc-1q498l3-1.eMVpmW.eoIXmr.sc-19hd12a-3.eLqWzV\"\n",
    "\n",
    "price_element = driver.find_elements_by_class_name(price_selector)\n",
    "code_element = driver.find_elements_by_xpath(code_selector)\n",
    "number_element = driver.find_elements_by_class_name(number_selector)\n",
    "\n",
    "print(price_element[0].text)\n",
    "print(code_element[0].text)\n",
    "print(number_element[0].text)\n",
    "\n",
    "driver.quit()"
   ]
  },
  {
   "cell_type": "code",
   "execution_count": 52,
   "id": "a0f9dba6",
   "metadata": {},
   "outputs": [],
   "source": [
    "# The code above worked with minimal hiccups.\n",
    "# Let's turn that into a function.\n",
    "\n",
    "# Webdriver settings\n",
    "def get_data(url):\n",
    "    options = Options()\n",
    "    driver_manager = ChromeDriverManager().install()\n",
    "    driver = webdriver.Chrome(driver_manager,\n",
    "                              options=options)\n",
    "\n",
    "    # Open website\n",
    "    driver.implicitly_wait(5)\n",
    "    driver.get(url)\n",
    "\n",
    "    # Find the html blocks we need for the number plates\n",
    "    price_selector = \"sc-1q498l3-0.sc-1q498l3-1.WNwBg.jwMZvh.sc-1pns9yx-3.cRlgZx\"\n",
    "    code_xpath = '/html/body/div[2]/div/main/div/div[3]/div/div[4]/div[1]/div[3]/div/div[2]/div/p'\n",
    "    number_selector = \"sc-1q498l3-0.sc-1q498l3-1.eMVpmW.eoIXmr.sc-19hd12a-3.eLqWzV\"\n",
    "\n",
    "    price_element = driver.find_elements_by_class_name(price_selector)\n",
    "    code_element = driver.find_elements_by_xpath(code_xpath)\n",
    "    number_element = driver.find_elements_by_class_name(number_selector)\n",
    "\n",
    "    price = price_element[0].text\n",
    "    code = code_element[0].text\n",
    "    number = number_element[0].text\n",
    "\n",
    "    driver.quit()\n",
    "    \n",
    "    return (number,code,price)"
   ]
  },
  {
   "cell_type": "code",
   "execution_count": null,
   "id": "d5b07375",
   "metadata": {},
   "outputs": [],
   "source": []
  }
 ],
 "metadata": {
  "kernelspec": {
   "display_name": "Python 3 (ipykernel)",
   "language": "python",
   "name": "python3"
  },
  "language_info": {
   "codemirror_mode": {
    "name": "ipython",
    "version": 3
   },
   "file_extension": ".py",
   "mimetype": "text/x-python",
   "name": "python",
   "nbconvert_exporter": "python",
   "pygments_lexer": "ipython3",
   "version": "3.8.12"
  }
 },
 "nbformat": 4,
 "nbformat_minor": 5
}
