{
 "cells": [
  {
   "cell_type": "code",
   "execution_count": 39,
   "id": "fad6a0a8",
   "metadata": {},
   "outputs": [],
   "source": [
    "import re\n",
    "import math\n",
    "\n",
    "import pandas as pd \n",
    "import numpy as np \n",
    "import seaborn as sns \n",
    "\n",
    "from keras.models import Sequential\n",
    "from keras.layers import Dense\n",
    "from keras.layers import Activation\n",
    "from keras.layers import Embedding\n",
    "from keras.layers import Flatten\n",
    "from keras.layers import LeakyReLU\n",
    "from keras.layers import BatchNormalization\n",
    "from keras.layers import Dropout \n",
    "from keras.layers import LSTM\n",
    "from keras.layers import SimpleRNN\n",
    "\n",
    "from keras import regularizers\n",
    "from keras.activations import relu, sigmoid\n",
    "from keras.optimizers import Adam\n",
    "from keras.utils.vis_utils import plot_model\n",
    "\n",
    "\n",
    "from scipy import stats\n",
    "from matplotlib import pyplot as plt\n",
    "from sklearn.model_selection import train_test_split\n",
    "from sklearn.metrics import mean_squared_error\n",
    "from sklearn.metrics import r2_score\n",
    "\n",
    "import warnings\n",
    "pd.set_option('max_columns', None)\n",
    "pd.set_option('display.float_format', str)\n",
    "warnings.filterwarnings('ignore')\n",
    "%matplotlib inline\n",
    "\n",
    "plt.style.use('ggplot')\n",
    "plt.rcParams['figure.figsize'] = [9,5]\n",
    "plt.rcParams[\"axes.edgecolor\"] = \"black\""
   ]
  },
  {
   "cell_type": "markdown",
   "id": "9913cacd",
   "metadata": {},
   "source": [
    "# Deep Learning Model Selection"
   ]
  },
  {
   "cell_type": "markdown",
   "id": "1dacb600",
   "metadata": {},
   "source": [
    "#### Check if GPU exists"
   ]
  },
  {
   "cell_type": "code",
   "execution_count": 2,
   "id": "5435c6ce",
   "metadata": {},
   "outputs": [
    {
     "name": "stdout",
     "output_type": "stream",
     "text": [
      "[name: \"/device:CPU:0\"\n",
      "device_type: \"CPU\"\n",
      "memory_limit: 268435456\n",
      "locality {\n",
      "}\n",
      "incarnation: 5193076083477409622\n",
      ", name: \"/device:XLA_CPU:0\"\n",
      "device_type: \"XLA_CPU\"\n",
      "memory_limit: 17179869184\n",
      "locality {\n",
      "}\n",
      "incarnation: 770679133906726897\n",
      "physical_device_desc: \"device: XLA_CPU device\"\n",
      ", name: \"/device:GPU:0\"\n",
      "device_type: \"GPU\"\n",
      "memory_limit: 7052715648\n",
      "locality {\n",
      "  bus_id: 1\n",
      "  links {\n",
      "  }\n",
      "}\n",
      "incarnation: 16612348361761671312\n",
      "physical_device_desc: \"device: 0, name: GeForce GTX 1070, pci bus id: 0000:06:00.0, compute capability: 6.1\"\n",
      ", name: \"/device:XLA_GPU:0\"\n",
      "device_type: \"XLA_GPU\"\n",
      "memory_limit: 17179869184\n",
      "locality {\n",
      "}\n",
      "incarnation: 15526364616269155587\n",
      "physical_device_desc: \"device: XLA_GPU device\"\n",
      "]\n",
      "2.2.0\n",
      "Num GPUs Available:  1\n",
      "WARNING:tensorflow:From <ipython-input-2-b5bb3d29fd0a>:6: is_gpu_available (from tensorflow.python.framework.test_util) is deprecated and will be removed in a future version.\n",
      "Instructions for updating:\n",
      "Use `tf.config.list_physical_devices('GPU')` instead.\n"
     ]
    },
    {
     "name": "stderr",
     "output_type": "stream",
     "text": [
      "Python 3.6.13 :: Anaconda, Inc.\n"
     ]
    }
   ],
   "source": [
    "import tensorflow as tf\n",
    "from tensorflow.python.client import device_lib\n",
    "print(device_lib.list_local_devices())\n",
    "print(tf.__version__)\n",
    "print(\"Num GPUs Available: \", len(tf.config.experimental.list_physical_devices('GPU')))\n",
    "tf.test.is_gpu_available()\n",
    "!python --version"
   ]
  },
  {
   "cell_type": "code",
   "execution_count": 3,
   "id": "aff99d89",
   "metadata": {},
   "outputs": [
    {
     "data": {
      "text/plain": [
       "[PhysicalDevice(name='/physical_device:GPU:0', device_type='GPU')]"
      ]
     },
     "execution_count": 3,
     "metadata": {},
     "output_type": "execute_result"
    }
   ],
   "source": [
    "tf.config.list_physical_devices('GPU')"
   ]
  },
  {
   "cell_type": "markdown",
   "id": "8743114a",
   "metadata": {},
   "source": [
    "### Create Helper function"
   ]
  },
  {
   "cell_type": "code",
   "execution_count": 68,
   "id": "0f640cc4",
   "metadata": {},
   "outputs": [],
   "source": [
    "def evaluate_and_plot(model,y_val,y_pred):\n",
    "    '''\n",
    "    This function improves QOL for the programmer \n",
    "    by allowing to run tests fast without writing code over and over,\n",
    "    to evaluate a models performance.\n",
    "    \n",
    "    '''\n",
    "    y_pred = y_pred.ravel()\n",
    "    te_y = np.array(y_val)\n",
    "    \n",
    "    # Extract name from model __class__\n",
    "    model_name = re.findall(r'(?<=\\.)[a-zA-Z]+(?=\\')',str(model.__class__))[0]\n",
    "    \n",
    "    # extract line of best fit statistics\n",
    "    slope, intercept, r_value, p_value, std_err = stats.linregress(te_y,y_pred)\n",
    "    \n",
    "    NRMSE = (mean_squared_error(te_y, y_pred, squared = 0))/(te_y.std())\n",
    "    R2 = r2_score(te_y, y_pred)\n",
    "    \n",
    "    # Print out results\n",
    "    print(f'Regression Metrics')\n",
    "    print(f'NRMSE = {NRMSE:.2f} AED')\n",
    "    print(f'R^2 = {R2:.2f}')\n",
    "    \n",
    "    print('\\nLinregress Metrics')\n",
    "    print(f'r = {r_value:.2f}, p = {p_value:.2f}, err = {std_err:.2f}')\n",
    "    \n",
    "    # Plot Loss\n",
    "    plt.plot(model.history['loss'])\n",
    "    plt.plot(model.history['val_loss'])\n",
    "    plt.title('Learning Curve')\n",
    "    plt.ylabel('Loss (MSE)')\n",
    "    plt.xlabel('Epoch')\n",
    "    plt.legend(['Train', 'Val'], loc='upper right')\n",
    "    plt.show()\n",
    "\n",
    "    # plot A vs. P plot with regression line\n",
    "    sns.regplot(x = te_y, y = y_pred, line_kws = {'label': f' y = {slope:.1f} x + {intercept:.1f}'})\n",
    "    plt.legend()\n",
    "    plt.title(f'A v P Plot')\n",
    "    plt.xlabel('Actual Price (AED)')\n",
    "    plt.ylabel('Predicted Price (AED)')\n",
    "    plt.show()"
   ]
  },
  {
   "cell_type": "markdown",
   "id": "74fe3016",
   "metadata": {},
   "source": [
    "### Training Data"
   ]
  },
  {
   "cell_type": "code",
   "execution_count": 5,
   "id": "5c29d364",
   "metadata": {},
   "outputs": [
    {
     "data": {
      "text/html": [
       "<div>\n",
       "<style scoped>\n",
       "    .dataframe tbody tr th:only-of-type {\n",
       "        vertical-align: middle;\n",
       "    }\n",
       "\n",
       "    .dataframe tbody tr th {\n",
       "        vertical-align: top;\n",
       "    }\n",
       "\n",
       "    .dataframe thead th {\n",
       "        text-align: right;\n",
       "    }\n",
       "</style>\n",
       "<table border=\"1\" class=\"dataframe\">\n",
       "  <thead>\n",
       "    <tr style=\"text-align: right;\">\n",
       "      <th></th>\n",
       "      <th>number</th>\n",
       "      <th>price</th>\n",
       "      <th>num_digits</th>\n",
       "      <th>unique_digits</th>\n",
       "      <th>num_zeros</th>\n",
       "      <th>max_group</th>\n",
       "      <th>max_group_second</th>\n",
       "      <th>shan_entrop</th>\n",
       "      <th>lv_dist</th>\n",
       "      <th>num_ones</th>\n",
       "      <th>num_twos</th>\n",
       "      <th>num_threes</th>\n",
       "      <th>num_fours</th>\n",
       "      <th>num_fives</th>\n",
       "      <th>num_sixes</th>\n",
       "      <th>num_sevens</th>\n",
       "      <th>num_eights</th>\n",
       "      <th>num_nines</th>\n",
       "      <th>0</th>\n",
       "      <th>1</th>\n",
       "      <th>2</th>\n",
       "      <th>3</th>\n",
       "      <th>4</th>\n",
       "      <th>5</th>\n",
       "      <th>6</th>\n",
       "      <th>7</th>\n",
       "      <th>8</th>\n",
       "      <th>9</th>\n",
       "      <th>10</th>\n",
       "      <th>11</th>\n",
       "      <th>12</th>\n",
       "      <th>13</th>\n",
       "      <th>14</th>\n",
       "      <th>15</th>\n",
       "      <th>16</th>\n",
       "      <th>17</th>\n",
       "      <th>18</th>\n",
       "      <th>19</th>\n",
       "      <th>20</th>\n",
       "      <th>21</th>\n",
       "      <th>22</th>\n",
       "      <th>23</th>\n",
       "      <th>24</th>\n",
       "    </tr>\n",
       "  </thead>\n",
       "  <tbody>\n",
       "    <tr>\n",
       "      <th>0</th>\n",
       "      <td>0.012518888410771648</td>\n",
       "      <td>11.599112335481124</td>\n",
       "      <td>0.6666666666666666</td>\n",
       "      <td>0.25</td>\n",
       "      <td>0.0</td>\n",
       "      <td>0.25</td>\n",
       "      <td>0.25</td>\n",
       "      <td>0.43067655807339295</td>\n",
       "      <td>0.14123711340206135</td>\n",
       "      <td>0.4</td>\n",
       "      <td>0.0</td>\n",
       "      <td>0.4</td>\n",
       "      <td>0.0</td>\n",
       "      <td>0.0</td>\n",
       "      <td>0.0</td>\n",
       "      <td>0.0</td>\n",
       "      <td>0.0</td>\n",
       "      <td>0.0</td>\n",
       "      <td>0.0</td>\n",
       "      <td>0.0</td>\n",
       "      <td>0.0</td>\n",
       "      <td>0.0</td>\n",
       "      <td>0.0</td>\n",
       "      <td>0.0</td>\n",
       "      <td>0.0</td>\n",
       "      <td>0.0</td>\n",
       "      <td>0.0</td>\n",
       "      <td>0.0</td>\n",
       "      <td>0.0</td>\n",
       "      <td>0.0</td>\n",
       "      <td>0.0</td>\n",
       "      <td>0.0</td>\n",
       "      <td>0.0</td>\n",
       "      <td>0.0</td>\n",
       "      <td>0.0</td>\n",
       "      <td>0.0</td>\n",
       "      <td>0.0</td>\n",
       "      <td>0.0</td>\n",
       "      <td>1.0</td>\n",
       "      <td>0.0</td>\n",
       "      <td>0.0</td>\n",
       "      <td>0.0</td>\n",
       "      <td>0.0</td>\n",
       "    </tr>\n",
       "    <tr>\n",
       "      <th>1</th>\n",
       "      <td>0.031622451940878024</td>\n",
       "      <td>11.184435286790633</td>\n",
       "      <td>0.6666666666666666</td>\n",
       "      <td>0.25</td>\n",
       "      <td>0.0</td>\n",
       "      <td>0.5</td>\n",
       "      <td>0.0</td>\n",
       "      <td>0.3493984702822971</td>\n",
       "      <td>0.5324742268041227</td>\n",
       "      <td>0.0</td>\n",
       "      <td>0.75</td>\n",
       "      <td>0.2</td>\n",
       "      <td>0.0</td>\n",
       "      <td>0.0</td>\n",
       "      <td>0.0</td>\n",
       "      <td>0.0</td>\n",
       "      <td>0.0</td>\n",
       "      <td>0.0</td>\n",
       "      <td>0.0</td>\n",
       "      <td>0.0</td>\n",
       "      <td>0.0</td>\n",
       "      <td>0.0</td>\n",
       "      <td>0.0</td>\n",
       "      <td>0.0</td>\n",
       "      <td>0.0</td>\n",
       "      <td>1.0</td>\n",
       "      <td>0.0</td>\n",
       "      <td>0.0</td>\n",
       "      <td>0.0</td>\n",
       "      <td>0.0</td>\n",
       "      <td>0.0</td>\n",
       "      <td>0.0</td>\n",
       "      <td>0.0</td>\n",
       "      <td>0.0</td>\n",
       "      <td>0.0</td>\n",
       "      <td>0.0</td>\n",
       "      <td>0.0</td>\n",
       "      <td>0.0</td>\n",
       "      <td>0.0</td>\n",
       "      <td>0.0</td>\n",
       "      <td>0.0</td>\n",
       "      <td>0.0</td>\n",
       "      <td>0.0</td>\n",
       "    </tr>\n",
       "    <tr>\n",
       "      <th>2</th>\n",
       "      <td>0.2999229452911567</td>\n",
       "      <td>10.085850775128716</td>\n",
       "      <td>1.0</td>\n",
       "      <td>0.25</td>\n",
       "      <td>0.5</td>\n",
       "      <td>0.5</td>\n",
       "      <td>0.25</td>\n",
       "      <td>0.4181656600790517</td>\n",
       "      <td>0.7855670103092773</td>\n",
       "      <td>0.0</td>\n",
       "      <td>0.0</td>\n",
       "      <td>0.6000000000000001</td>\n",
       "      <td>0.0</td>\n",
       "      <td>0.0</td>\n",
       "      <td>0.0</td>\n",
       "      <td>0.0</td>\n",
       "      <td>0.0</td>\n",
       "      <td>0.0</td>\n",
       "      <td>0.0</td>\n",
       "      <td>0.0</td>\n",
       "      <td>0.0</td>\n",
       "      <td>0.0</td>\n",
       "      <td>0.0</td>\n",
       "      <td>0.0</td>\n",
       "      <td>0.0</td>\n",
       "      <td>0.0</td>\n",
       "      <td>0.0</td>\n",
       "      <td>0.0</td>\n",
       "      <td>0.0</td>\n",
       "      <td>0.0</td>\n",
       "      <td>0.0</td>\n",
       "      <td>0.0</td>\n",
       "      <td>0.0</td>\n",
       "      <td>1.0</td>\n",
       "      <td>0.0</td>\n",
       "      <td>0.0</td>\n",
       "      <td>0.0</td>\n",
       "      <td>0.0</td>\n",
       "      <td>0.0</td>\n",
       "      <td>0.0</td>\n",
       "      <td>0.0</td>\n",
       "      <td>0.0</td>\n",
       "      <td>0.0</td>\n",
       "    </tr>\n",
       "    <tr>\n",
       "      <th>3</th>\n",
       "      <td>0.07708473015841248</td>\n",
       "      <td>9.770013301136158</td>\n",
       "      <td>0.6666666666666666</td>\n",
       "      <td>0.5</td>\n",
       "      <td>0.0</td>\n",
       "      <td>0.25</td>\n",
       "      <td>0.0</td>\n",
       "      <td>0.6460148371100896</td>\n",
       "      <td>0.22989690721649406</td>\n",
       "      <td>0.0</td>\n",
       "      <td>0.0</td>\n",
       "      <td>0.0</td>\n",
       "      <td>0.0</td>\n",
       "      <td>0.25</td>\n",
       "      <td>0.25</td>\n",
       "      <td>0.6666666666666666</td>\n",
       "      <td>0.0</td>\n",
       "      <td>0.0</td>\n",
       "      <td>0.0</td>\n",
       "      <td>0.0</td>\n",
       "      <td>0.0</td>\n",
       "      <td>0.0</td>\n",
       "      <td>0.0</td>\n",
       "      <td>0.0</td>\n",
       "      <td>0.0</td>\n",
       "      <td>0.0</td>\n",
       "      <td>0.0</td>\n",
       "      <td>0.0</td>\n",
       "      <td>0.0</td>\n",
       "      <td>1.0</td>\n",
       "      <td>0.0</td>\n",
       "      <td>0.0</td>\n",
       "      <td>0.0</td>\n",
       "      <td>0.0</td>\n",
       "      <td>0.0</td>\n",
       "      <td>0.0</td>\n",
       "      <td>0.0</td>\n",
       "      <td>0.0</td>\n",
       "      <td>0.0</td>\n",
       "      <td>0.0</td>\n",
       "      <td>0.0</td>\n",
       "      <td>0.0</td>\n",
       "      <td>0.0</td>\n",
       "    </tr>\n",
       "    <tr>\n",
       "      <th>4</th>\n",
       "      <td>0.08820262386294267</td>\n",
       "      <td>9.770013301136158</td>\n",
       "      <td>0.6666666666666666</td>\n",
       "      <td>0.5</td>\n",
       "      <td>0.0</td>\n",
       "      <td>0.25</td>\n",
       "      <td>0.0</td>\n",
       "      <td>0.6460148371100896</td>\n",
       "      <td>0.28608247422680394</td>\n",
       "      <td>0.0</td>\n",
       "      <td>0.0</td>\n",
       "      <td>0.0</td>\n",
       "      <td>0.0</td>\n",
       "      <td>0.0</td>\n",
       "      <td>0.25</td>\n",
       "      <td>0.3333333333333333</td>\n",
       "      <td>0.5</td>\n",
       "      <td>0.0</td>\n",
       "      <td>0.0</td>\n",
       "      <td>0.0</td>\n",
       "      <td>0.0</td>\n",
       "      <td>0.0</td>\n",
       "      <td>0.0</td>\n",
       "      <td>0.0</td>\n",
       "      <td>0.0</td>\n",
       "      <td>0.0</td>\n",
       "      <td>0.0</td>\n",
       "      <td>0.0</td>\n",
       "      <td>0.0</td>\n",
       "      <td>0.0</td>\n",
       "      <td>0.0</td>\n",
       "      <td>0.0</td>\n",
       "      <td>0.0</td>\n",
       "      <td>0.0</td>\n",
       "      <td>0.0</td>\n",
       "      <td>0.0</td>\n",
       "      <td>0.0</td>\n",
       "      <td>0.0</td>\n",
       "      <td>1.0</td>\n",
       "      <td>0.0</td>\n",
       "      <td>0.0</td>\n",
       "      <td>0.0</td>\n",
       "      <td>0.0</td>\n",
       "    </tr>\n",
       "  </tbody>\n",
       "</table>\n",
       "</div>"
      ],
      "text/plain": [
       "                number              price         num_digits  unique_digits  \\\n",
       "0 0.012518888410771648 11.599112335481124 0.6666666666666666           0.25   \n",
       "1 0.031622451940878024 11.184435286790633 0.6666666666666666           0.25   \n",
       "2   0.2999229452911567 10.085850775128716                1.0           0.25   \n",
       "3  0.07708473015841248  9.770013301136158 0.6666666666666666            0.5   \n",
       "4  0.08820262386294267  9.770013301136158 0.6666666666666666            0.5   \n",
       "\n",
       "   num_zeros  max_group  max_group_second         shan_entrop  \\\n",
       "0        0.0       0.25              0.25 0.43067655807339295   \n",
       "1        0.0        0.5               0.0  0.3493984702822971   \n",
       "2        0.5        0.5              0.25  0.4181656600790517   \n",
       "3        0.0       0.25               0.0  0.6460148371100896   \n",
       "4        0.0       0.25               0.0  0.6460148371100896   \n",
       "\n",
       "              lv_dist  num_ones  num_twos         num_threes  num_fours  \\\n",
       "0 0.14123711340206135       0.4       0.0                0.4        0.0   \n",
       "1  0.5324742268041227       0.0      0.75                0.2        0.0   \n",
       "2  0.7855670103092773       0.0       0.0 0.6000000000000001        0.0   \n",
       "3 0.22989690721649406       0.0       0.0                0.0        0.0   \n",
       "4 0.28608247422680394       0.0       0.0                0.0        0.0   \n",
       "\n",
       "   num_fives  num_sixes         num_sevens  num_eights  num_nines   0   1   2  \\\n",
       "0        0.0        0.0                0.0         0.0        0.0 0.0 0.0 0.0   \n",
       "1        0.0        0.0                0.0         0.0        0.0 0.0 0.0 0.0   \n",
       "2        0.0        0.0                0.0         0.0        0.0 0.0 0.0 0.0   \n",
       "3       0.25       0.25 0.6666666666666666         0.0        0.0 0.0 0.0 0.0   \n",
       "4        0.0       0.25 0.3333333333333333         0.5        0.0 0.0 0.0 0.0   \n",
       "\n",
       "    3   4   5   6   7   8   9  10  11  12  13  14  15  16  17  18  19  20  21  \\\n",
       "0 0.0 0.0 0.0 0.0 0.0 0.0 0.0 0.0 0.0 0.0 0.0 0.0 0.0 0.0 0.0 0.0 0.0 1.0 0.0   \n",
       "1 0.0 0.0 0.0 0.0 1.0 0.0 0.0 0.0 0.0 0.0 0.0 0.0 0.0 0.0 0.0 0.0 0.0 0.0 0.0   \n",
       "2 0.0 0.0 0.0 0.0 0.0 0.0 0.0 0.0 0.0 0.0 0.0 0.0 1.0 0.0 0.0 0.0 0.0 0.0 0.0   \n",
       "3 0.0 0.0 0.0 0.0 0.0 0.0 0.0 0.0 1.0 0.0 0.0 0.0 0.0 0.0 0.0 0.0 0.0 0.0 0.0   \n",
       "4 0.0 0.0 0.0 0.0 0.0 0.0 0.0 0.0 0.0 0.0 0.0 0.0 0.0 0.0 0.0 0.0 0.0 1.0 0.0   \n",
       "\n",
       "   22  23  24  \n",
       "0 0.0 0.0 0.0  \n",
       "1 0.0 0.0 0.0  \n",
       "2 0.0 0.0 0.0  \n",
       "3 0.0 0.0 0.0  \n",
       "4 0.0 0.0 0.0  "
      ]
     },
     "execution_count": 5,
     "metadata": {},
     "output_type": "execute_result"
    }
   ],
   "source": [
    "df = pd.read_csv('datasets/training/train_normlog.csv')\n",
    "df.head()"
   ]
  },
  {
   "cell_type": "code",
   "execution_count": 6,
   "id": "ef72dbad",
   "metadata": {},
   "outputs": [],
   "source": [
    "# Target column\n",
    "y = df['price']\n",
    "\n",
    "# Feature columns and matrix\n",
    "features = [col for col in df.columns if col not in ('price','price_per_sqft')]\n",
    "X = df[features]\n",
    "\n",
    "# Create the test train split\n",
    "train_X, val_X, train_y, val_y = train_test_split(X, y, random_state = 0, test_size = 0.2)\n",
    "\n",
    "# Features shape\n",
    "n_features = train_X.shape[1]"
   ]
  },
  {
   "cell_type": "markdown",
   "id": "17d56ab3",
   "metadata": {},
   "source": [
    "## Model Selection"
   ]
  },
  {
   "cell_type": "markdown",
   "id": "6e582930",
   "metadata": {},
   "source": [
    "### DNN"
   ]
  },
  {
   "cell_type": "code",
   "execution_count": 27,
   "id": "5f661fbb",
   "metadata": {},
   "outputs": [],
   "source": [
    "# Test with a genetic DNN\n",
    "model = Sequential([\n",
    "    Dense(n_features, activation='relu', kernel_regularizer = regularizers.l2(0.01), input_shape=(n_features,)),\n",
    "        Dropout(0.2),\n",
    "    Dense(n_features, activation='relu', kernel_regularizer = regularizers.l2(0.01)),\n",
    "        Dropout(0.2),\n",
    "    Dense(n_features, activation='relu', kernel_regularizer = regularizers.l2(0.01)),\n",
    "        Dropout(0.2),\n",
    "    Dense(n_features, activation='relu', kernel_regularizer = regularizers.l2(0.01)),\n",
    "        Dropout(0.2),\n",
    "    Dense(1, activation = 'relu', kernel_regularizer = regularizers.l2(1)),\n",
    "])\n",
    "\n",
    "model.compile(optimizer = Adam(learning_rate = 0.001),\n",
    "              loss = 'mse')"
   ]
  },
  {
   "cell_type": "code",
   "execution_count": 28,
   "id": "5d1bd15c",
   "metadata": {},
   "outputs": [],
   "source": [
    "hist = model.fit(x = train_X,\n",
    "                 y = train_y,\n",
    "                 batch_size = 512,\n",
    "                 epochs = 150,\n",
    "                 validation_data = (val_X, val_y),\n",
    "                verbose = 0)"
   ]
  },
  {
   "cell_type": "markdown",
   "id": "4f95196f",
   "metadata": {},
   "source": [
    "#### Check metrics"
   ]
  },
  {
   "cell_type": "code",
   "execution_count": 29,
   "id": "237aa7f6",
   "metadata": {},
   "outputs": [
    {
     "name": "stdout",
     "output_type": "stream",
     "text": [
      "Regression Metrics\n",
      "NRMSE = 0.50 AED\n",
      "R^2 = 0.75\n",
      "\n",
      "Linregress Metrics\n",
      "r = 0.90, p = 0.00, err = 0.01\n"
     ]
    },
    {
     "data": {
      "image/png": "[encoded data removed]",
      "text/plain": [
       "<Figure size 648x360 with 1 Axes>"
      ]
     },
     "metadata": {},
     "output_type": "display_data"
    },
    {
     "data": {
      "image/png": "[encoded data removed]",
      "text/plain": [
       "<Figure size 648x360 with 1 Axes>"
      ]
     },
     "metadata": {},
     "output_type": "display_data"
    }
   ],
   "source": [
    "y_pred = model.predict(val_X)\n",
    "evaluate_and_plot(hist,val_y,y_pred, plot = 1)"
   ]
  },
  {
   "cell_type": "markdown",
   "id": "487699f1",
   "metadata": {},
   "source": [
    "## RNN"
   ]
  },
  {
   "cell_type": "markdown",
   "id": "0666dd9f",
   "metadata": {},
   "source": [
    "### Check if plate numbers can be modelled as a pseudo-timeseries"
   ]
  },
  {
   "cell_type": "code",
   "execution_count": 43,
   "id": "14e87cb7",
   "metadata": {},
   "outputs": [
    {
     "data": {
      "text/plain": [
       "<AxesSubplot:xlabel='number', ylabel='price'>"
      ]
     },
     "execution_count": 43,
     "metadata": {},
     "output_type": "execute_result"
    },
    {
     "data": {
      "image/png": "[encoded data removed]",
      "text/plain": [
       "<Figure size 648x360 with 1 Axes>"
      ]
     },
     "metadata": {},
     "output_type": "display_data"
    }
   ],
   "source": [
    "sns.lineplot(data = df, x = 'number', y = np.expm1(df['price']))"
   ]
  },
  {
   "cell_type": "markdown",
   "id": "85f65015",
   "metadata": {},
   "source": [
    "Wil try just using a number to price, no feature extraction model"
   ]
  },
  {
   "cell_type": "code",
   "execution_count": 117,
   "id": "b099b32d",
   "metadata": {},
   "outputs": [],
   "source": [
    "# Data \n",
    "t = df[[col for col in df.columns if col != 'price']].to_numpy()\n",
    "x = df['price'].to_numpy()\n",
    "\n",
    "dft = pd.DataFrame(x)"
   ]
  },
  {
   "cell_type": "code",
   "execution_count": 154,
   "id": "e3962019",
   "metadata": {},
   "outputs": [],
   "source": [
    "# Reshaping for test train and window size\n",
    "step = 400           # Window size\n",
    "Tp = int(t.shape[0]*0.2)  # 20% of training data is test percentage\n",
    "N = t.shape[0]       # Testing samples\n",
    "\n",
    "# Test train split\n",
    "values = df.values\n",
    "train,test = values[0:Tp,:], values[Tp:N,:]\n",
    "\n",
    "# add step elements into train and test\n",
    "test = np.append(test,np.repeat(test[-1,],step))\n",
    "train = np.append(train,np.repeat(train[-1,],step))\n",
    "\n",
    "# convert into dataset matrix\n",
    "# with sliding windows\n",
    "def convertToMatrix(data, step):\n",
    "    X, Y = [], []\n",
    "    for i in range(len(data)-step):\n",
    "        d=i+step  \n",
    "        X.append(data[i:d,])\n",
    "        Y.append(data[d,])\n",
    "    return np.array(X), np.array(Y)\n",
    "\n",
    "trainX,trainY =convertToMatrix(train,step)\n",
    "testX,testY =convertToMatrix(test,step)"
   ]
  },
  {
   "cell_type": "code",
   "execution_count": 155,
   "id": "86744320",
   "metadata": {},
   "outputs": [],
   "source": [
    "# Reshape such that it fits into RNN\n",
    "trainX = np.reshape(trainX, (trainX.shape[0], 1, trainX.shape[1]))\n",
    "testX = np.reshape(testX, (testX.shape[0], 1, testX.shape[1]))"
   ]
  },
  {
   "cell_type": "code",
   "execution_count": 159,
   "id": "d5b3844c",
   "metadata": {},
   "outputs": [
    {
     "name": "stdout",
     "output_type": "stream",
     "text": [
      "Model: \"sequential_26\"\n",
      "_________________________________________________________________\n",
      "Layer (type)                 Output Shape              Param #   \n",
      "=================================================================\n",
      "simple_rnn_15 (SimpleRNN)    (None, 256)               168192    \n",
      "_________________________________________________________________\n",
      "dense_77 (Dense)             (None, 128)               32896     \n",
      "_________________________________________________________________\n",
      "dense_78 (Dense)             (None, 1)                 129       \n",
      "=================================================================\n",
      "Total params: 201,217\n",
      "Trainable params: 201,217\n",
      "Non-trainable params: 0\n",
      "_________________________________________________________________\n"
     ]
    }
   ],
   "source": [
    "model = Sequential([\n",
    "    SimpleRNN(units = 256, input_shape = (1,step), activation = \"relu\"),\n",
    "    Dense(128, activation = \"relu\", kernel_regularizer = regularizers.l2(0.01)),\n",
    "    Dense(1, activation = 'relu', kernel_regularizer = regularizers.l2(1))\n",
    "])\n",
    "\n",
    "model.compile(loss='mse', optimizer='adam')\n",
    "model.summary()"
   ]
  },
  {
   "cell_type": "code",
   "execution_count": 160,
   "id": "de2dc17a",
   "metadata": {},
   "outputs": [],
   "source": [
    "hist = model.fit(trainX,\n",
    "                 trainY,\n",
    "                 epochs = 200,\n",
    "                 batch_size = 1024,\n",
    "                 validation_data = (testX, testY),\n",
    "                 verbose = 0)"
   ]
  },
  {
   "cell_type": "code",
   "execution_count": 161,
   "id": "138e528f",
   "metadata": {},
   "outputs": [
    {
     "name": "stdout",
     "output_type": "stream",
     "text": [
      "Regression Metrics\n",
      "NRMSE = 0.14 AED\n",
      "R^2 = 0.98\n",
      "\n",
      "Linregress Metrics\n",
      "r = 0.99, p = 0.00, err = 0.00\n"
     ]
    },
    {
     "data": {
      "image/png": "[encoded data removed]",
      "text/plain": [
       "<Figure size 648x360 with 1 Axes>"
      ]
     },
     "metadata": {},
     "output_type": "display_data"
    },
    {
     "data": {
      "image/png": "[encoded data removed]",
      "text/plain": [
       "<Figure size 648x360 with 1 Axes>"
      ]
     },
     "metadata": {},
     "output_type": "display_data"
    }
   ],
   "source": [
    "evaluate_and_plot(hist,testY,model.predict(testX))"
   ]
  },
  {
   "cell_type": "code",
   "execution_count": null,
   "id": "d42497c2",
   "metadata": {},
   "outputs": [],
   "source": []
  },
  {
   "cell_type": "code",
   "execution_count": null,
   "id": "20051bf9",
   "metadata": {},
   "outputs": [],
   "source": []
  }
 ],
 "metadata": {
  "kernelspec": {
   "display_name": "rosebrook",
   "language": "python",
   "name": "rosebrook"
  },
  "language_info": {
   "codemirror_mode": {
    "name": "ipython",
    "version": 3
   },
   "file_extension": ".py",
   "mimetype": "text/x-python",
   "name": "python",
   "nbconvert_exporter": "python",
   "pygments_lexer": "ipython3",
   "version": "3.6.13"
  }
 },
 "nbformat": 4,
 "nbformat_minor": 5
}
